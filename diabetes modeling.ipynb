{
 "cells": [
  {
   "cell_type": "code",
   "execution_count": 188,
   "id": "fdc580b4",
   "metadata": {},
   "outputs": [
    {
     "name": "stdout",
     "output_type": "stream",
     "text": [
      "Data Size: 768\n"
     ]
    },
    {
     "data": {
      "text/html": [
       "<div>\n",
       "<style scoped>\n",
       "    .dataframe tbody tr th:only-of-type {\n",
       "        vertical-align: middle;\n",
       "    }\n",
       "\n",
       "    .dataframe tbody tr th {\n",
       "        vertical-align: top;\n",
       "    }\n",
       "\n",
       "    .dataframe thead th {\n",
       "        text-align: right;\n",
       "    }\n",
       "</style>\n",
       "<table border=\"1\" class=\"dataframe\">\n",
       "  <thead>\n",
       "    <tr style=\"text-align: right;\">\n",
       "      <th></th>\n",
       "      <th>Pregnancies</th>\n",
       "      <th>Glucose</th>\n",
       "      <th>BloodPressure</th>\n",
       "      <th>SkinThickness</th>\n",
       "      <th>Insulin</th>\n",
       "      <th>BMI</th>\n",
       "      <th>DiabetesPedigreeFunction</th>\n",
       "      <th>Age</th>\n",
       "      <th>Outcome</th>\n",
       "    </tr>\n",
       "  </thead>\n",
       "  <tbody>\n",
       "    <tr>\n",
       "      <th>count</th>\n",
       "      <td>768.000000</td>\n",
       "      <td>768.000000</td>\n",
       "      <td>768.000000</td>\n",
       "      <td>768.000000</td>\n",
       "      <td>768.000000</td>\n",
       "      <td>768.000000</td>\n",
       "      <td>768.000000</td>\n",
       "      <td>768.000000</td>\n",
       "      <td>768.000000</td>\n",
       "    </tr>\n",
       "    <tr>\n",
       "      <th>mean</th>\n",
       "      <td>3.845052</td>\n",
       "      <td>120.894531</td>\n",
       "      <td>69.105469</td>\n",
       "      <td>20.536458</td>\n",
       "      <td>79.799479</td>\n",
       "      <td>31.992578</td>\n",
       "      <td>0.471876</td>\n",
       "      <td>33.240885</td>\n",
       "      <td>0.348958</td>\n",
       "    </tr>\n",
       "    <tr>\n",
       "      <th>std</th>\n",
       "      <td>3.369578</td>\n",
       "      <td>31.972618</td>\n",
       "      <td>19.355807</td>\n",
       "      <td>15.952218</td>\n",
       "      <td>115.244002</td>\n",
       "      <td>7.884160</td>\n",
       "      <td>0.331329</td>\n",
       "      <td>11.760232</td>\n",
       "      <td>0.476951</td>\n",
       "    </tr>\n",
       "    <tr>\n",
       "      <th>min</th>\n",
       "      <td>0.000000</td>\n",
       "      <td>0.000000</td>\n",
       "      <td>0.000000</td>\n",
       "      <td>0.000000</td>\n",
       "      <td>0.000000</td>\n",
       "      <td>0.000000</td>\n",
       "      <td>0.078000</td>\n",
       "      <td>21.000000</td>\n",
       "      <td>0.000000</td>\n",
       "    </tr>\n",
       "    <tr>\n",
       "      <th>25%</th>\n",
       "      <td>1.000000</td>\n",
       "      <td>99.000000</td>\n",
       "      <td>62.000000</td>\n",
       "      <td>0.000000</td>\n",
       "      <td>0.000000</td>\n",
       "      <td>27.300000</td>\n",
       "      <td>0.243750</td>\n",
       "      <td>24.000000</td>\n",
       "      <td>0.000000</td>\n",
       "    </tr>\n",
       "    <tr>\n",
       "      <th>50%</th>\n",
       "      <td>3.000000</td>\n",
       "      <td>117.000000</td>\n",
       "      <td>72.000000</td>\n",
       "      <td>23.000000</td>\n",
       "      <td>30.500000</td>\n",
       "      <td>32.000000</td>\n",
       "      <td>0.372500</td>\n",
       "      <td>29.000000</td>\n",
       "      <td>0.000000</td>\n",
       "    </tr>\n",
       "    <tr>\n",
       "      <th>75%</th>\n",
       "      <td>6.000000</td>\n",
       "      <td>140.250000</td>\n",
       "      <td>80.000000</td>\n",
       "      <td>32.000000</td>\n",
       "      <td>127.250000</td>\n",
       "      <td>36.600000</td>\n",
       "      <td>0.626250</td>\n",
       "      <td>41.000000</td>\n",
       "      <td>1.000000</td>\n",
       "    </tr>\n",
       "    <tr>\n",
       "      <th>max</th>\n",
       "      <td>17.000000</td>\n",
       "      <td>199.000000</td>\n",
       "      <td>122.000000</td>\n",
       "      <td>99.000000</td>\n",
       "      <td>846.000000</td>\n",
       "      <td>67.100000</td>\n",
       "      <td>2.420000</td>\n",
       "      <td>81.000000</td>\n",
       "      <td>1.000000</td>\n",
       "    </tr>\n",
       "  </tbody>\n",
       "</table>\n",
       "</div>"
      ],
      "text/plain": [
       "       Pregnancies     Glucose  BloodPressure  SkinThickness     Insulin  \\\n",
       "count   768.000000  768.000000     768.000000     768.000000  768.000000   \n",
       "mean      3.845052  120.894531      69.105469      20.536458   79.799479   \n",
       "std       3.369578   31.972618      19.355807      15.952218  115.244002   \n",
       "min       0.000000    0.000000       0.000000       0.000000    0.000000   \n",
       "25%       1.000000   99.000000      62.000000       0.000000    0.000000   \n",
       "50%       3.000000  117.000000      72.000000      23.000000   30.500000   \n",
       "75%       6.000000  140.250000      80.000000      32.000000  127.250000   \n",
       "max      17.000000  199.000000     122.000000      99.000000  846.000000   \n",
       "\n",
       "              BMI  DiabetesPedigreeFunction         Age     Outcome  \n",
       "count  768.000000                768.000000  768.000000  768.000000  \n",
       "mean    31.992578                  0.471876   33.240885    0.348958  \n",
       "std      7.884160                  0.331329   11.760232    0.476951  \n",
       "min      0.000000                  0.078000   21.000000    0.000000  \n",
       "25%     27.300000                  0.243750   24.000000    0.000000  \n",
       "50%     32.000000                  0.372500   29.000000    0.000000  \n",
       "75%     36.600000                  0.626250   41.000000    1.000000  \n",
       "max     67.100000                  2.420000   81.000000    1.000000  "
      ]
     },
     "execution_count": 188,
     "metadata": {},
     "output_type": "execute_result"
    }
   ],
   "source": [
    "import pandas as pd\n",
    "\n",
    "data = pd.read_csv(\"diabetes.csv\")\n",
    "\n",
    "print(\"Data Size:\",len(data))\n",
    "\n",
    "data.describe()"
   ]
  },
  {
   "cell_type": "code",
   "execution_count": 189,
   "id": "20446704",
   "metadata": {},
   "outputs": [
    {
     "name": "stdout",
     "output_type": "stream",
     "text": [
      "Glucose 건수는 5, 퍼센트는 0.65 %\n",
      "BloodPressure 건수는 35, 퍼센트는 4.56 %\n",
      "SkinThickness 건수는 227, 퍼센트는 29.56 %\n",
      "Insulin 건수는 374, 퍼센트는 48.70 %\n",
      "BMI 건수는 11, 퍼센트는 1.43 %\n"
     ]
    }
   ],
   "source": [
    "feature_list = ['Glucose', 'BloodPressure', 'SkinThickness', 'Insulin', 'BMI']\n",
    "\n",
    "total_cnt = data['Glucose'].count()\n",
    "\n",
    "for feature in feature_list :\n",
    "    cnt = data[data[feature] == 0][feature].count()\n",
    "    print('{0} 건수는 {1}, 퍼센트는 {2:.2f} %'.format(feature, cnt, 100 * cnt / total_cnt))"
   ]
  },
  {
   "cell_type": "code",
   "execution_count": 190,
   "id": "c27a2035",
   "metadata": {},
   "outputs": [],
   "source": [
    "data[feature_list] = data[feature_list].replace(0, data[feature_list].median(axis = 0))"
   ]
  },
  {
   "cell_type": "code",
   "execution_count": 191,
   "id": "05378d28",
   "metadata": {},
   "outputs": [
    {
     "data": {
      "text/html": [
       "<div>\n",
       "<style scoped>\n",
       "    .dataframe tbody tr th:only-of-type {\n",
       "        vertical-align: middle;\n",
       "    }\n",
       "\n",
       "    .dataframe tbody tr th {\n",
       "        vertical-align: top;\n",
       "    }\n",
       "\n",
       "    .dataframe thead th {\n",
       "        text-align: right;\n",
       "    }\n",
       "</style>\n",
       "<table border=\"1\" class=\"dataframe\">\n",
       "  <thead>\n",
       "    <tr style=\"text-align: right;\">\n",
       "      <th></th>\n",
       "      <th>Pregnancies</th>\n",
       "      <th>Glucose</th>\n",
       "      <th>BloodPressure</th>\n",
       "      <th>SkinThickness</th>\n",
       "      <th>Insulin</th>\n",
       "      <th>BMI</th>\n",
       "      <th>DiabetesPedigreeFunction</th>\n",
       "      <th>Age</th>\n",
       "      <th>Outcome</th>\n",
       "    </tr>\n",
       "  </thead>\n",
       "  <tbody>\n",
       "    <tr>\n",
       "      <th>count</th>\n",
       "      <td>768.000000</td>\n",
       "      <td>768.000000</td>\n",
       "      <td>768.000000</td>\n",
       "      <td>768.000000</td>\n",
       "      <td>768.000000</td>\n",
       "      <td>768.000000</td>\n",
       "      <td>768.000000</td>\n",
       "      <td>768.000000</td>\n",
       "      <td>768.000000</td>\n",
       "    </tr>\n",
       "    <tr>\n",
       "      <th>mean</th>\n",
       "      <td>3.845052</td>\n",
       "      <td>121.656250</td>\n",
       "      <td>72.386719</td>\n",
       "      <td>27.334635</td>\n",
       "      <td>94.652344</td>\n",
       "      <td>32.450911</td>\n",
       "      <td>0.471876</td>\n",
       "      <td>33.240885</td>\n",
       "      <td>0.348958</td>\n",
       "    </tr>\n",
       "    <tr>\n",
       "      <th>std</th>\n",
       "      <td>3.369578</td>\n",
       "      <td>30.438286</td>\n",
       "      <td>12.096642</td>\n",
       "      <td>9.229014</td>\n",
       "      <td>105.547598</td>\n",
       "      <td>6.875366</td>\n",
       "      <td>0.331329</td>\n",
       "      <td>11.760232</td>\n",
       "      <td>0.476951</td>\n",
       "    </tr>\n",
       "    <tr>\n",
       "      <th>min</th>\n",
       "      <td>0.000000</td>\n",
       "      <td>44.000000</td>\n",
       "      <td>24.000000</td>\n",
       "      <td>7.000000</td>\n",
       "      <td>14.000000</td>\n",
       "      <td>18.200000</td>\n",
       "      <td>0.078000</td>\n",
       "      <td>21.000000</td>\n",
       "      <td>0.000000</td>\n",
       "    </tr>\n",
       "    <tr>\n",
       "      <th>25%</th>\n",
       "      <td>1.000000</td>\n",
       "      <td>99.750000</td>\n",
       "      <td>64.000000</td>\n",
       "      <td>23.000000</td>\n",
       "      <td>30.500000</td>\n",
       "      <td>27.500000</td>\n",
       "      <td>0.243750</td>\n",
       "      <td>24.000000</td>\n",
       "      <td>0.000000</td>\n",
       "    </tr>\n",
       "    <tr>\n",
       "      <th>50%</th>\n",
       "      <td>3.000000</td>\n",
       "      <td>117.000000</td>\n",
       "      <td>72.000000</td>\n",
       "      <td>23.000000</td>\n",
       "      <td>31.250000</td>\n",
       "      <td>32.000000</td>\n",
       "      <td>0.372500</td>\n",
       "      <td>29.000000</td>\n",
       "      <td>0.000000</td>\n",
       "    </tr>\n",
       "    <tr>\n",
       "      <th>75%</th>\n",
       "      <td>6.000000</td>\n",
       "      <td>140.250000</td>\n",
       "      <td>80.000000</td>\n",
       "      <td>32.000000</td>\n",
       "      <td>127.250000</td>\n",
       "      <td>36.600000</td>\n",
       "      <td>0.626250</td>\n",
       "      <td>41.000000</td>\n",
       "      <td>1.000000</td>\n",
       "    </tr>\n",
       "    <tr>\n",
       "      <th>max</th>\n",
       "      <td>17.000000</td>\n",
       "      <td>199.000000</td>\n",
       "      <td>122.000000</td>\n",
       "      <td>99.000000</td>\n",
       "      <td>846.000000</td>\n",
       "      <td>67.100000</td>\n",
       "      <td>2.420000</td>\n",
       "      <td>81.000000</td>\n",
       "      <td>1.000000</td>\n",
       "    </tr>\n",
       "  </tbody>\n",
       "</table>\n",
       "</div>"
      ],
      "text/plain": [
       "       Pregnancies     Glucose  BloodPressure  SkinThickness     Insulin  \\\n",
       "count   768.000000  768.000000     768.000000     768.000000  768.000000   \n",
       "mean      3.845052  121.656250      72.386719      27.334635   94.652344   \n",
       "std       3.369578   30.438286      12.096642       9.229014  105.547598   \n",
       "min       0.000000   44.000000      24.000000       7.000000   14.000000   \n",
       "25%       1.000000   99.750000      64.000000      23.000000   30.500000   \n",
       "50%       3.000000  117.000000      72.000000      23.000000   31.250000   \n",
       "75%       6.000000  140.250000      80.000000      32.000000  127.250000   \n",
       "max      17.000000  199.000000     122.000000      99.000000  846.000000   \n",
       "\n",
       "              BMI  DiabetesPedigreeFunction         Age     Outcome  \n",
       "count  768.000000                768.000000  768.000000  768.000000  \n",
       "mean    32.450911                  0.471876   33.240885    0.348958  \n",
       "std      6.875366                  0.331329   11.760232    0.476951  \n",
       "min     18.200000                  0.078000   21.000000    0.000000  \n",
       "25%     27.500000                  0.243750   24.000000    0.000000  \n",
       "50%     32.000000                  0.372500   29.000000    0.000000  \n",
       "75%     36.600000                  0.626250   41.000000    1.000000  \n",
       "max     67.100000                  2.420000   81.000000    1.000000  "
      ]
     },
     "execution_count": 191,
     "metadata": {},
     "output_type": "execute_result"
    }
   ],
   "source": [
    "data.describe()"
   ]
  },
  {
   "cell_type": "code",
   "execution_count": 192,
   "id": "44da8ca8",
   "metadata": {},
   "outputs": [],
   "source": [
    "X = data[data.columns[:-1]]\n",
    "y = data['Outcome']"
   ]
  },
  {
   "cell_type": "code",
   "execution_count": 193,
   "id": "18dafa1f",
   "metadata": {},
   "outputs": [],
   "source": [
    "from sklearn import preprocessing\n",
    "\n",
    "scaler = preprocessing.StandardScaler().fit(X)\n",
    "X_scaled = scaler.transform(X)"
   ]
  },
  {
   "cell_type": "code",
   "execution_count": 194,
   "id": "cc361341",
   "metadata": {},
   "outputs": [
    {
     "data": {
      "text/plain": [
       " 1    694\n",
       "-1     74\n",
       "dtype: int64"
      ]
     },
     "execution_count": 194,
     "metadata": {},
     "output_type": "execute_result"
    }
   ],
   "source": [
    "import numpy as np\n",
    "from sklearn.svm import OneClassSVM\n",
    "\n",
    "clf = OneClassSVM(nu=0.092, max_iter=100000).fit(X_scaled)\n",
    "outlier = clf.predict(X_scaled)\n",
    "pd.Series(clf.predict(X_scaled)).value_counts()"
   ]
  },
  {
   "cell_type": "code",
   "execution_count": 195,
   "id": "3134e90d",
   "metadata": {},
   "outputs": [],
   "source": [
    "data['outlier'] = outlier"
   ]
  },
  {
   "cell_type": "code",
   "execution_count": 196,
   "id": "a09f8090",
   "metadata": {},
   "outputs": [],
   "source": [
    "normal_data = data.loc[data['outlier'] == 1]"
   ]
  },
  {
   "cell_type": "code",
   "execution_count": 197,
   "id": "356b14ef",
   "metadata": {},
   "outputs": [
    {
     "data": {
      "text/html": [
       "<div>\n",
       "<style scoped>\n",
       "    .dataframe tbody tr th:only-of-type {\n",
       "        vertical-align: middle;\n",
       "    }\n",
       "\n",
       "    .dataframe tbody tr th {\n",
       "        vertical-align: top;\n",
       "    }\n",
       "\n",
       "    .dataframe thead th {\n",
       "        text-align: right;\n",
       "    }\n",
       "</style>\n",
       "<table border=\"1\" class=\"dataframe\">\n",
       "  <thead>\n",
       "    <tr style=\"text-align: right;\">\n",
       "      <th></th>\n",
       "      <th>Pregnancies</th>\n",
       "      <th>Glucose</th>\n",
       "      <th>BloodPressure</th>\n",
       "      <th>SkinThickness</th>\n",
       "      <th>Insulin</th>\n",
       "      <th>BMI</th>\n",
       "      <th>DiabetesPedigreeFunction</th>\n",
       "      <th>Age</th>\n",
       "      <th>Outcome</th>\n",
       "      <th>outlier</th>\n",
       "    </tr>\n",
       "  </thead>\n",
       "  <tbody>\n",
       "    <tr>\n",
       "      <th>0</th>\n",
       "      <td>6</td>\n",
       "      <td>148</td>\n",
       "      <td>72</td>\n",
       "      <td>35</td>\n",
       "      <td>30.5</td>\n",
       "      <td>33.6</td>\n",
       "      <td>0.627</td>\n",
       "      <td>50</td>\n",
       "      <td>1</td>\n",
       "      <td>1</td>\n",
       "    </tr>\n",
       "    <tr>\n",
       "      <th>1</th>\n",
       "      <td>1</td>\n",
       "      <td>85</td>\n",
       "      <td>66</td>\n",
       "      <td>29</td>\n",
       "      <td>30.5</td>\n",
       "      <td>26.6</td>\n",
       "      <td>0.351</td>\n",
       "      <td>31</td>\n",
       "      <td>0</td>\n",
       "      <td>1</td>\n",
       "    </tr>\n",
       "    <tr>\n",
       "      <th>2</th>\n",
       "      <td>8</td>\n",
       "      <td>183</td>\n",
       "      <td>64</td>\n",
       "      <td>23</td>\n",
       "      <td>30.5</td>\n",
       "      <td>23.3</td>\n",
       "      <td>0.672</td>\n",
       "      <td>32</td>\n",
       "      <td>1</td>\n",
       "      <td>1</td>\n",
       "    </tr>\n",
       "    <tr>\n",
       "      <th>3</th>\n",
       "      <td>1</td>\n",
       "      <td>89</td>\n",
       "      <td>66</td>\n",
       "      <td>23</td>\n",
       "      <td>94.0</td>\n",
       "      <td>28.1</td>\n",
       "      <td>0.167</td>\n",
       "      <td>21</td>\n",
       "      <td>0</td>\n",
       "      <td>1</td>\n",
       "    </tr>\n",
       "    <tr>\n",
       "      <th>5</th>\n",
       "      <td>5</td>\n",
       "      <td>116</td>\n",
       "      <td>74</td>\n",
       "      <td>23</td>\n",
       "      <td>30.5</td>\n",
       "      <td>25.6</td>\n",
       "      <td>0.201</td>\n",
       "      <td>30</td>\n",
       "      <td>0</td>\n",
       "      <td>1</td>\n",
       "    </tr>\n",
       "  </tbody>\n",
       "</table>\n",
       "</div>"
      ],
      "text/plain": [
       "   Pregnancies  Glucose  BloodPressure  SkinThickness  Insulin   BMI  \\\n",
       "0            6      148             72             35     30.5  33.6   \n",
       "1            1       85             66             29     30.5  26.6   \n",
       "2            8      183             64             23     30.5  23.3   \n",
       "3            1       89             66             23     94.0  28.1   \n",
       "5            5      116             74             23     30.5  25.6   \n",
       "\n",
       "   DiabetesPedigreeFunction  Age  Outcome  outlier  \n",
       "0                     0.627   50        1        1  \n",
       "1                     0.351   31        0        1  \n",
       "2                     0.672   32        1        1  \n",
       "3                     0.167   21        0        1  \n",
       "5                     0.201   30        0        1  "
      ]
     },
     "execution_count": 197,
     "metadata": {},
     "output_type": "execute_result"
    }
   ],
   "source": [
    "normal_data.head()"
   ]
  },
  {
   "cell_type": "code",
   "execution_count": 198,
   "id": "a19866ee",
   "metadata": {},
   "outputs": [],
   "source": [
    "X = normal_data[data.columns[:-2]]\n",
    "y = normal_data['Outcome']"
   ]
  },
  {
   "cell_type": "code",
   "execution_count": 199,
   "id": "53823940",
   "metadata": {},
   "outputs": [
    {
     "data": {
      "text/plain": [
       "Index(['Pregnancies', 'Glucose', 'BloodPressure', 'SkinThickness', 'Insulin',\n",
       "       'BMI', 'DiabetesPedigreeFunction', 'Age', 'Outcome', 'outlier'],\n",
       "      dtype='object')"
      ]
     },
     "execution_count": 199,
     "metadata": {},
     "output_type": "execute_result"
    }
   ],
   "source": [
    "normal_data.columns"
   ]
  },
  {
   "cell_type": "code",
   "execution_count": 200,
   "id": "555ea8a5",
   "metadata": {},
   "outputs": [
    {
     "data": {
      "text/html": [
       "<div>\n",
       "<style scoped>\n",
       "    .dataframe tbody tr th:only-of-type {\n",
       "        vertical-align: middle;\n",
       "    }\n",
       "\n",
       "    .dataframe tbody tr th {\n",
       "        vertical-align: top;\n",
       "    }\n",
       "\n",
       "    .dataframe thead th {\n",
       "        text-align: right;\n",
       "    }\n",
       "</style>\n",
       "<table border=\"1\" class=\"dataframe\">\n",
       "  <thead>\n",
       "    <tr style=\"text-align: right;\">\n",
       "      <th></th>\n",
       "      <th>Pregnancies</th>\n",
       "      <th>Glucose</th>\n",
       "      <th>BloodPressure</th>\n",
       "      <th>SkinThickness</th>\n",
       "      <th>Insulin</th>\n",
       "      <th>BMI</th>\n",
       "      <th>DiabetesPedigreeFunction</th>\n",
       "      <th>Age</th>\n",
       "      <th>Outcome</th>\n",
       "      <th>outlier</th>\n",
       "    </tr>\n",
       "  </thead>\n",
       "  <tbody>\n",
       "    <tr>\n",
       "      <th>1</th>\n",
       "      <td>1</td>\n",
       "      <td>85</td>\n",
       "      <td>66</td>\n",
       "      <td>29</td>\n",
       "      <td>30.5</td>\n",
       "      <td>26.6</td>\n",
       "      <td>0.351</td>\n",
       "      <td>31</td>\n",
       "      <td>0</td>\n",
       "      <td>1</td>\n",
       "    </tr>\n",
       "    <tr>\n",
       "      <th>3</th>\n",
       "      <td>1</td>\n",
       "      <td>89</td>\n",
       "      <td>66</td>\n",
       "      <td>23</td>\n",
       "      <td>94.0</td>\n",
       "      <td>28.1</td>\n",
       "      <td>0.167</td>\n",
       "      <td>21</td>\n",
       "      <td>0</td>\n",
       "      <td>1</td>\n",
       "    </tr>\n",
       "    <tr>\n",
       "      <th>5</th>\n",
       "      <td>5</td>\n",
       "      <td>116</td>\n",
       "      <td>74</td>\n",
       "      <td>23</td>\n",
       "      <td>30.5</td>\n",
       "      <td>25.6</td>\n",
       "      <td>0.201</td>\n",
       "      <td>30</td>\n",
       "      <td>0</td>\n",
       "      <td>1</td>\n",
       "    </tr>\n",
       "    <tr>\n",
       "      <th>7</th>\n",
       "      <td>10</td>\n",
       "      <td>115</td>\n",
       "      <td>72</td>\n",
       "      <td>23</td>\n",
       "      <td>30.5</td>\n",
       "      <td>35.3</td>\n",
       "      <td>0.134</td>\n",
       "      <td>29</td>\n",
       "      <td>0</td>\n",
       "      <td>1</td>\n",
       "    </tr>\n",
       "    <tr>\n",
       "      <th>10</th>\n",
       "      <td>4</td>\n",
       "      <td>110</td>\n",
       "      <td>92</td>\n",
       "      <td>23</td>\n",
       "      <td>30.5</td>\n",
       "      <td>37.6</td>\n",
       "      <td>0.191</td>\n",
       "      <td>30</td>\n",
       "      <td>0</td>\n",
       "      <td>1</td>\n",
       "    </tr>\n",
       "  </tbody>\n",
       "</table>\n",
       "</div>"
      ],
      "text/plain": [
       "    Pregnancies  Glucose  BloodPressure  SkinThickness  Insulin   BMI  \\\n",
       "1             1       85             66             29     30.5  26.6   \n",
       "3             1       89             66             23     94.0  28.1   \n",
       "5             5      116             74             23     30.5  25.6   \n",
       "7            10      115             72             23     30.5  35.3   \n",
       "10            4      110             92             23     30.5  37.6   \n",
       "\n",
       "    DiabetesPedigreeFunction  Age  Outcome  outlier  \n",
       "1                      0.351   31        0        1  \n",
       "3                      0.167   21        0        1  \n",
       "5                      0.201   30        0        1  \n",
       "7                      0.134   29        0        1  \n",
       "10                     0.191   30        0        1  "
      ]
     },
     "execution_count": 200,
     "metadata": {},
     "output_type": "execute_result"
    }
   ],
   "source": [
    "health_data = normal_data.loc[normal_data['Outcome'] == 0]\n",
    "health_data.head()"
   ]
  },
  {
   "cell_type": "code",
   "execution_count": 201,
   "id": "4274c64f",
   "metadata": {},
   "outputs": [
    {
     "data": {
      "text/html": [
       "<div>\n",
       "<style scoped>\n",
       "    .dataframe tbody tr th:only-of-type {\n",
       "        vertical-align: middle;\n",
       "    }\n",
       "\n",
       "    .dataframe tbody tr th {\n",
       "        vertical-align: top;\n",
       "    }\n",
       "\n",
       "    .dataframe thead th {\n",
       "        text-align: right;\n",
       "    }\n",
       "</style>\n",
       "<table border=\"1\" class=\"dataframe\">\n",
       "  <thead>\n",
       "    <tr style=\"text-align: right;\">\n",
       "      <th></th>\n",
       "      <th>Pregnancies</th>\n",
       "      <th>Glucose</th>\n",
       "      <th>BloodPressure</th>\n",
       "      <th>SkinThickness</th>\n",
       "      <th>Insulin</th>\n",
       "      <th>BMI</th>\n",
       "      <th>DiabetesPedigreeFunction</th>\n",
       "      <th>Age</th>\n",
       "      <th>Outcome</th>\n",
       "      <th>outlier</th>\n",
       "    </tr>\n",
       "  </thead>\n",
       "  <tbody>\n",
       "    <tr>\n",
       "      <th>0</th>\n",
       "      <td>6</td>\n",
       "      <td>148</td>\n",
       "      <td>72</td>\n",
       "      <td>35</td>\n",
       "      <td>30.5</td>\n",
       "      <td>33.6</td>\n",
       "      <td>0.627</td>\n",
       "      <td>50</td>\n",
       "      <td>1</td>\n",
       "      <td>1</td>\n",
       "    </tr>\n",
       "    <tr>\n",
       "      <th>2</th>\n",
       "      <td>8</td>\n",
       "      <td>183</td>\n",
       "      <td>64</td>\n",
       "      <td>23</td>\n",
       "      <td>30.5</td>\n",
       "      <td>23.3</td>\n",
       "      <td>0.672</td>\n",
       "      <td>32</td>\n",
       "      <td>1</td>\n",
       "      <td>1</td>\n",
       "    </tr>\n",
       "    <tr>\n",
       "      <th>6</th>\n",
       "      <td>3</td>\n",
       "      <td>78</td>\n",
       "      <td>50</td>\n",
       "      <td>32</td>\n",
       "      <td>88.0</td>\n",
       "      <td>31.0</td>\n",
       "      <td>0.248</td>\n",
       "      <td>26</td>\n",
       "      <td>1</td>\n",
       "      <td>1</td>\n",
       "    </tr>\n",
       "    <tr>\n",
       "      <th>9</th>\n",
       "      <td>8</td>\n",
       "      <td>125</td>\n",
       "      <td>96</td>\n",
       "      <td>23</td>\n",
       "      <td>30.5</td>\n",
       "      <td>32.0</td>\n",
       "      <td>0.232</td>\n",
       "      <td>54</td>\n",
       "      <td>1</td>\n",
       "      <td>1</td>\n",
       "    </tr>\n",
       "    <tr>\n",
       "      <th>11</th>\n",
       "      <td>10</td>\n",
       "      <td>168</td>\n",
       "      <td>74</td>\n",
       "      <td>23</td>\n",
       "      <td>30.5</td>\n",
       "      <td>38.0</td>\n",
       "      <td>0.537</td>\n",
       "      <td>34</td>\n",
       "      <td>1</td>\n",
       "      <td>1</td>\n",
       "    </tr>\n",
       "  </tbody>\n",
       "</table>\n",
       "</div>"
      ],
      "text/plain": [
       "    Pregnancies  Glucose  BloodPressure  SkinThickness  Insulin   BMI  \\\n",
       "0             6      148             72             35     30.5  33.6   \n",
       "2             8      183             64             23     30.5  23.3   \n",
       "6             3       78             50             32     88.0  31.0   \n",
       "9             8      125             96             23     30.5  32.0   \n",
       "11           10      168             74             23     30.5  38.0   \n",
       "\n",
       "    DiabetesPedigreeFunction  Age  Outcome  outlier  \n",
       "0                      0.627   50        1        1  \n",
       "2                      0.672   32        1        1  \n",
       "6                      0.248   26        1        1  \n",
       "9                      0.232   54        1        1  \n",
       "11                     0.537   34        1        1  "
      ]
     },
     "execution_count": 201,
     "metadata": {},
     "output_type": "execute_result"
    }
   ],
   "source": [
    "diabetes_data = normal_data.loc[normal_data['Outcome'] == 1]\n",
    "diabetes_data.head()"
   ]
  },
  {
   "cell_type": "code",
   "execution_count": 202,
   "id": "81ea19af",
   "metadata": {},
   "outputs": [],
   "source": [
    "X_health = health_data[health_data.columns[:-2]]\n",
    "y_health = health_data['Outcome']"
   ]
  },
  {
   "cell_type": "code",
   "execution_count": 203,
   "id": "7d96d08d",
   "metadata": {},
   "outputs": [],
   "source": [
    "X_diabete = diabetes_data[diabetes_data.columns[:-2]]\n",
    "y_diabete = diabetes_data['Outcome']"
   ]
  },
  {
   "cell_type": "code",
   "execution_count": 204,
   "id": "642dd2c3",
   "metadata": {},
   "outputs": [],
   "source": [
    "from sklearn import preprocessing\n",
    "\n",
    "scaler = preprocessing.StandardScaler().fit(X)\n",
    "X_scaled = scaler.transform(X)\n",
    "X_scaled = pd.DataFrame(X_scaled, columns=X.columns)"
   ]
  },
  {
   "cell_type": "code",
   "execution_count": 205,
   "id": "546b85d3",
   "metadata": {},
   "outputs": [
    {
     "data": {
      "text/html": [
       "<div>\n",
       "<style scoped>\n",
       "    .dataframe tbody tr th:only-of-type {\n",
       "        vertical-align: middle;\n",
       "    }\n",
       "\n",
       "    .dataframe tbody tr th {\n",
       "        vertical-align: top;\n",
       "    }\n",
       "\n",
       "    .dataframe thead th {\n",
       "        text-align: right;\n",
       "    }\n",
       "</style>\n",
       "<table border=\"1\" class=\"dataframe\">\n",
       "  <thead>\n",
       "    <tr style=\"text-align: right;\">\n",
       "      <th></th>\n",
       "      <th>Pregnancies</th>\n",
       "      <th>Glucose</th>\n",
       "      <th>BloodPressure</th>\n",
       "      <th>SkinThickness</th>\n",
       "      <th>Insulin</th>\n",
       "      <th>BMI</th>\n",
       "      <th>DiabetesPedigreeFunction</th>\n",
       "      <th>Age</th>\n",
       "    </tr>\n",
       "  </thead>\n",
       "  <tbody>\n",
       "    <tr>\n",
       "      <th>0</th>\n",
       "      <td>0.684457</td>\n",
       "      <td>0.982444</td>\n",
       "      <td>-0.004390</td>\n",
       "      <td>0.986790</td>\n",
       "      <td>-0.664320</td>\n",
       "      <td>0.236876</td>\n",
       "      <td>0.651930</td>\n",
       "      <td>1.564969</td>\n",
       "    </tr>\n",
       "    <tr>\n",
       "      <th>1</th>\n",
       "      <td>-0.877059</td>\n",
       "      <td>-1.232272</td>\n",
       "      <td>-0.558308</td>\n",
       "      <td>0.257728</td>\n",
       "      <td>-0.664320</td>\n",
       "      <td>-0.881330</td>\n",
       "      <td>-0.343164</td>\n",
       "      <td>-0.147394</td>\n",
       "    </tr>\n",
       "    <tr>\n",
       "      <th>2</th>\n",
       "      <td>1.309064</td>\n",
       "      <td>2.212841</td>\n",
       "      <td>-0.742947</td>\n",
       "      <td>-0.471334</td>\n",
       "      <td>-0.664320</td>\n",
       "      <td>-1.408484</td>\n",
       "      <td>0.814174</td>\n",
       "      <td>-0.057269</td>\n",
       "    </tr>\n",
       "    <tr>\n",
       "      <th>3</th>\n",
       "      <td>-0.877059</td>\n",
       "      <td>-1.091655</td>\n",
       "      <td>-0.558308</td>\n",
       "      <td>-0.471334</td>\n",
       "      <td>0.096647</td>\n",
       "      <td>-0.641714</td>\n",
       "      <td>-1.006559</td>\n",
       "      <td>-1.048637</td>\n",
       "    </tr>\n",
       "    <tr>\n",
       "      <th>4</th>\n",
       "      <td>0.372154</td>\n",
       "      <td>-0.142491</td>\n",
       "      <td>0.180250</td>\n",
       "      <td>-0.471334</td>\n",
       "      <td>-0.664320</td>\n",
       "      <td>-1.041073</td>\n",
       "      <td>-0.883975</td>\n",
       "      <td>-0.237518</td>\n",
       "    </tr>\n",
       "  </tbody>\n",
       "</table>\n",
       "</div>"
      ],
      "text/plain": [
       "   Pregnancies   Glucose  BloodPressure  SkinThickness   Insulin       BMI  \\\n",
       "0     0.684457  0.982444      -0.004390       0.986790 -0.664320  0.236876   \n",
       "1    -0.877059 -1.232272      -0.558308       0.257728 -0.664320 -0.881330   \n",
       "2     1.309064  2.212841      -0.742947      -0.471334 -0.664320 -1.408484   \n",
       "3    -0.877059 -1.091655      -0.558308      -0.471334  0.096647 -0.641714   \n",
       "4     0.372154 -0.142491       0.180250      -0.471334 -0.664320 -1.041073   \n",
       "\n",
       "   DiabetesPedigreeFunction       Age  \n",
       "0                  0.651930  1.564969  \n",
       "1                 -0.343164 -0.147394  \n",
       "2                  0.814174 -0.057269  \n",
       "3                 -1.006559 -1.048637  \n",
       "4                 -0.883975 -0.237518  "
      ]
     },
     "execution_count": 205,
     "metadata": {},
     "output_type": "execute_result"
    }
   ],
   "source": [
    "X_scaled.head()"
   ]
  },
  {
   "cell_type": "code",
   "execution_count": 206,
   "id": "bf183f89",
   "metadata": {},
   "outputs": [],
   "source": [
    "X_columns = normal_data.columns[:-2]"
   ]
  },
  {
   "cell_type": "code",
   "execution_count": 207,
   "id": "337195cb",
   "metadata": {},
   "outputs": [],
   "source": [
    "df_health = normal_data.loc[normal_data['Outcome'] == 0, X_columns]"
   ]
  },
  {
   "cell_type": "code",
   "execution_count": 208,
   "id": "44ebaf32",
   "metadata": {},
   "outputs": [],
   "source": [
    "df_diabete = normal_data.loc[normal_data['Outcome'] == 1, X_columns]"
   ]
  },
  {
   "cell_type": "code",
   "execution_count": 209,
   "id": "9fc5ea3a",
   "metadata": {
    "scrolled": true
   },
   "outputs": [
    {
     "name": "stdout",
     "output_type": "stream",
     "text": [
      "                              normal    diabetes\n",
      "Pregnancies                 3.295896    4.835498\n",
      "Glucose                   110.535637  139.129870\n",
      "BloodPressure              70.669546   74.809524\n",
      "SkinThickness              25.941685   28.757576\n",
      "Insulin                    79.899568   98.032468\n",
      "BMI                        30.823326   34.710390\n",
      "DiabetesPedigreeFunction    0.411568    0.515554\n",
      "Age                        30.622030   36.670996\n"
     ]
    }
   ],
   "source": [
    "mean_data = pd.concat([df_health.mean(), df_diabete.mean()], axis = 1)\n",
    "mean_data.columns = ['normal', 'diabetes']\n",
    "\n",
    "print(mean_data)"
   ]
  },
  {
   "cell_type": "code",
   "execution_count": 210,
   "id": "a6d2ff02",
   "metadata": {},
   "outputs": [
    {
     "name": "stdout",
     "output_type": "stream",
     "text": [
      "Pregnancies\n",
      "LeveneResult(statistic=16.604330606721362, pvalue=5.138204728270249e-05)\n",
      "FlignerResult(statistic=19.799972714564966, pvalue=8.59839040654289e-06)\n",
      "BartlettResult(statistic=12.868588436909024, pvalue=0.00033414355174289813)\n",
      "\n",
      "Glucose\n",
      "LeveneResult(statistic=18.045608181577776, pvalue=2.4519127284581445e-05)\n",
      "FlignerResult(statistic=18.87752750285506, pvalue=1.3938504098635098e-05)\n",
      "BartlettResult(statistic=10.166549749643938, pvalue=0.0014301165249755953)\n",
      "\n",
      "BloodPressure\n",
      "LeveneResult(statistic=0.7598771585302856, pvalue=0.3836692982609614)\n",
      "FlignerResult(statistic=0.7484314498061979, pvalue=0.38697329786946133)\n",
      "BartlettResult(statistic=0.439671104538086, pvalue=0.5072812419107161)\n",
      "\n",
      "SkinThickness\n",
      "LeveneResult(statistic=0.6390488190615434, pvalue=0.4243297481866194)\n",
      "FlignerResult(statistic=1.2572517250899278, pvalue=0.2621719433039008)\n",
      "BartlettResult(statistic=1.1494471689999513, pvalue=0.2836649063985426)\n",
      "\n",
      "Insulin\n",
      "LeveneResult(statistic=7.842466174613752, pvalue=0.005245680777899924)\n",
      "FlignerResult(statistic=1.780510646725602, pvalue=0.1820866344638909)\n",
      "BartlettResult(statistic=8.648530549386258, pvalue=0.003273252398370704)\n",
      "\n",
      "BMI\n",
      "LeveneResult(statistic=4.929740034986851, pvalue=0.026721473880724197)\n",
      "FlignerResult(statistic=4.832679681252614, pvalue=0.027925194871453524)\n",
      "BartlettResult(statistic=1.9090896049621795, pvalue=0.16706442188004222)\n",
      "\n",
      "DiabetesPedigreeFunction\n",
      "LeveneResult(statistic=9.47696939128839, pvalue=0.0021629172139777434)\n",
      "FlignerResult(statistic=13.426550311953251, pvalue=0.0002480879069875255)\n",
      "BartlettResult(statistic=7.647229282823748, pvalue=0.005685958542889519)\n",
      "\n",
      "Age\n",
      "LeveneResult(statistic=2.6683456913410994, pvalue=0.10281723058191085)\n",
      "FlignerResult(statistic=13.874460873180306, pvalue=0.00019543624442478808)\n",
      "BartlettResult(statistic=0.41464602580456755, pvalue=0.5196207359246865)\n",
      "\n"
     ]
    }
   ],
   "source": [
    "from scipy import stats\n",
    "for col in X_columns:\n",
    "    print(col)\n",
    "    print(stats.levene(X_health[col], X_diabete[col]))\n",
    "    print(stats.fligner(X_health[col], X_diabete[col]))\n",
    "    print(stats.bartlett(X_health[col], X_diabete[col]))\n",
    "    print()"
   ]
  },
  {
   "cell_type": "code",
   "execution_count": 211,
   "id": "bb821b61",
   "metadata": {},
   "outputs": [],
   "source": [
    "# 등분산 검정할 때, LeveneResult의 결과에서 p-value가 0.05 이상이면 등분산성을 갖는 것으로 판단됩니다.\n",
    "\n",
    "# 등분산성 검정 결과, 3개를 제외한 5개의 feature(Pregnancies, Glucose, BloodPressure, SkinThickness, Age)가 0.05이상의 값을 가지므로 등분산성을 가지는 것으로 판단 할 수 있습니다."
   ]
  },
  {
   "cell_type": "code",
   "execution_count": 212,
   "id": "8808c90d",
   "metadata": {},
   "outputs": [
    {
     "data": {
      "text/html": [
       "<div>\n",
       "<style scoped>\n",
       "    .dataframe tbody tr th:only-of-type {\n",
       "        vertical-align: middle;\n",
       "    }\n",
       "\n",
       "    .dataframe tbody tr th {\n",
       "        vertical-align: top;\n",
       "    }\n",
       "\n",
       "    .dataframe thead th {\n",
       "        text-align: right;\n",
       "    }\n",
       "</style>\n",
       "<table border=\"1\" class=\"dataframe\">\n",
       "  <thead>\n",
       "    <tr style=\"text-align: right;\">\n",
       "      <th></th>\n",
       "      <th>p_value</th>\n",
       "    </tr>\n",
       "  </thead>\n",
       "  <tbody>\n",
       "    <tr>\n",
       "      <th>Pregnancies</th>\n",
       "      <td>1.570769e-09</td>\n",
       "    </tr>\n",
       "    <tr>\n",
       "      <th>Glucose</th>\n",
       "      <td>4.192734e-40</td>\n",
       "    </tr>\n",
       "    <tr>\n",
       "      <th>BloodPressure</th>\n",
       "      <td>1.794810e-06</td>\n",
       "    </tr>\n",
       "    <tr>\n",
       "      <th>SkinThickness</th>\n",
       "      <td>1.973049e-05</td>\n",
       "    </tr>\n",
       "    <tr>\n",
       "      <th>Insulin</th>\n",
       "      <td>6.937566e-03</td>\n",
       "    </tr>\n",
       "    <tr>\n",
       "      <th>BMI</th>\n",
       "      <td>3.623941e-15</td>\n",
       "    </tr>\n",
       "    <tr>\n",
       "      <th>DiabetesPedigreeFunction</th>\n",
       "      <td>2.831040e-06</td>\n",
       "    </tr>\n",
       "    <tr>\n",
       "      <th>Age</th>\n",
       "      <td>6.369697e-12</td>\n",
       "    </tr>\n",
       "  </tbody>\n",
       "</table>\n",
       "</div>"
      ],
      "text/plain": [
       "                               p_value\n",
       "Pregnancies               1.570769e-09\n",
       "Glucose                   4.192734e-40\n",
       "BloodPressure             1.794810e-06\n",
       "SkinThickness             1.973049e-05\n",
       "Insulin                   6.937566e-03\n",
       "BMI                       3.623941e-15\n",
       "DiabetesPedigreeFunction  2.831040e-06\n",
       "Age                       6.369697e-12"
      ]
     },
     "execution_count": 212,
     "metadata": {},
     "output_type": "execute_result"
    }
   ],
   "source": [
    "import scipy.stats\n",
    "\n",
    "result = scipy.stats.ttest_ind(X_health, X_diabete, equal_var = True)\n",
    "pd.DataFrame(result.pvalue, index = X_columns, columns = ['p_value'])"
   ]
  },
  {
   "cell_type": "code",
   "execution_count": 213,
   "id": "61d6a4ca",
   "metadata": {},
   "outputs": [],
   "source": [
    "# p_value가 0.05보다 작으므로 두 집단간의 평균 차이는 통계적으로 유의미합니다."
   ]
  },
  {
   "cell_type": "code",
   "execution_count": 214,
   "id": "ee0445cd",
   "metadata": {},
   "outputs": [
    {
     "data": {
      "text/html": [
       "<div>\n",
       "<style scoped>\n",
       "    .dataframe tbody tr th:only-of-type {\n",
       "        vertical-align: middle;\n",
       "    }\n",
       "\n",
       "    .dataframe tbody tr th {\n",
       "        vertical-align: top;\n",
       "    }\n",
       "\n",
       "    .dataframe thead th {\n",
       "        text-align: right;\n",
       "    }\n",
       "</style>\n",
       "<table border=\"1\" class=\"dataframe\">\n",
       "  <thead>\n",
       "    <tr style=\"text-align: right;\">\n",
       "      <th></th>\n",
       "      <th>t_value</th>\n",
       "    </tr>\n",
       "  </thead>\n",
       "  <tbody>\n",
       "    <tr>\n",
       "      <th>Pregnancies</th>\n",
       "      <td>-6.119549</td>\n",
       "    </tr>\n",
       "    <tr>\n",
       "      <th>Glucose</th>\n",
       "      <td>-14.148866</td>\n",
       "    </tr>\n",
       "    <tr>\n",
       "      <th>BloodPressure</th>\n",
       "      <td>-4.816628</td>\n",
       "    </tr>\n",
       "    <tr>\n",
       "      <th>SkinThickness</th>\n",
       "      <td>-4.297729</td>\n",
       "    </tr>\n",
       "    <tr>\n",
       "      <th>Insulin</th>\n",
       "      <td>-2.707934</td>\n",
       "    </tr>\n",
       "    <tr>\n",
       "      <th>BMI</th>\n",
       "      <td>-8.049551</td>\n",
       "    </tr>\n",
       "    <tr>\n",
       "      <th>DiabetesPedigreeFunction</th>\n",
       "      <td>-4.721782</td>\n",
       "    </tr>\n",
       "    <tr>\n",
       "      <th>Age</th>\n",
       "      <td>-6.992605</td>\n",
       "    </tr>\n",
       "  </tbody>\n",
       "</table>\n",
       "</div>"
      ],
      "text/plain": [
       "                            t_value\n",
       "Pregnancies               -6.119549\n",
       "Glucose                  -14.148866\n",
       "BloodPressure             -4.816628\n",
       "SkinThickness             -4.297729\n",
       "Insulin                   -2.707934\n",
       "BMI                       -8.049551\n",
       "DiabetesPedigreeFunction  -4.721782\n",
       "Age                       -6.992605"
      ]
     },
     "execution_count": 214,
     "metadata": {},
     "output_type": "execute_result"
    }
   ],
   "source": [
    "pd.DataFrame(result.statistic, index = X_columns, columns = ['t_value'])"
   ]
  },
  {
   "cell_type": "code",
   "execution_count": 215,
   "id": "995a92ab",
   "metadata": {},
   "outputs": [
    {
     "data": {
      "text/plain": [
       "<AxesSubplot:title={'center':'Health Correlation of Features'}>"
      ]
     },
     "execution_count": 215,
     "metadata": {},
     "output_type": "execute_result"
    },
    {
     "data": {
      "image/png": "[encoded data removed]",
      "text/plain": [
       "<Figure size 720x576 with 2 Axes>"
      ]
     },
     "metadata": {
      "needs_background": "light"
     },
     "output_type": "display_data"
    }
   ],
   "source": [
    "import matplotlib.pyplot as plt \n",
    "import seaborn as sns\n",
    "\n",
    "corr_df = X_health.astype(float).corr().abs()\n",
    "colormap = plt.cm.PuBu \n",
    "plt.figure(figsize=(10, 8)) \n",
    "plt.title(\"Health Correlation of Features\", y = 1.05, size = 15) \n",
    "sns.heatmap(corr_df, linewidths = 0.1, vmax = 1.0, square = True, cmap = colormap, linecolor = \"white\", annot = True)"
   ]
  },
  {
   "cell_type": "code",
   "execution_count": 216,
   "id": "d40de3e2",
   "metadata": {},
   "outputs": [
    {
     "data": {
      "text/plain": [
       "<AxesSubplot:title={'center':'Diabete Correlation of Features'}>"
      ]
     },
     "execution_count": 216,
     "metadata": {},
     "output_type": "execute_result"
    },
    {
     "data": {
      "image/png": "[encoded data removed]",
      "text/plain": [
       "<Figure size 720x576 with 2 Axes>"
      ]
     },
     "metadata": {
      "needs_background": "light"
     },
     "output_type": "display_data"
    }
   ],
   "source": [
    "import matplotlib.pyplot as plt \n",
    "import seaborn as sns\n",
    "\n",
    "corr_df = X_diabete.astype(float).corr().abs()\n",
    "colormap = plt.cm.PuBu \n",
    "plt.figure(figsize=(10, 8)) \n",
    "plt.title(\"Diabete Correlation of Features\", y = 1.05, size = 15) \n",
    "sns.heatmap(corr_df, linewidths = 0.1, vmax = 1.0, square = True, cmap = colormap, linecolor = \"white\", annot = True)"
   ]
  },
  {
   "cell_type": "code",
   "execution_count": 217,
   "id": "ff5ed775",
   "metadata": {},
   "outputs": [
    {
     "data": {
      "text/plain": [
       "(249.74807371072458, 1.8838798949904965e-37)"
      ]
     },
     "execution_count": 217,
     "metadata": {},
     "output_type": "execute_result"
    }
   ],
   "source": [
    "import pandas as pd\n",
    "from factor_analyzer import FactorAnalyzer\n",
    "import matplotlib.pyplot as plt\n",
    "from factor_analyzer.factor_analyzer import calculate_bartlett_sphericity\n",
    "\n",
    "chi_square_value,p_value = calculate_bartlett_sphericity(df_diabete)\n",
    "chi_square_value, p_value"
   ]
  },
  {
   "cell_type": "code",
   "execution_count": 218,
   "id": "3a486b87",
   "metadata": {},
   "outputs": [
    {
     "data": {
      "text/plain": [
       "0.4939860513232419"
      ]
     },
     "execution_count": 218,
     "metadata": {},
     "output_type": "execute_result"
    }
   ],
   "source": [
    "from factor_analyzer.factor_analyzer import calculate_kmo\n",
    "\n",
    "kmo_all,kmo_model=calculate_kmo(df_diabete)\n",
    "kmo_model"
   ]
  },
  {
   "cell_type": "code",
   "execution_count": 219,
   "id": "7eaac22a",
   "metadata": {},
   "outputs": [
    {
     "data": {
      "text/plain": [
       "FactorAnalyzer(method='principal', rotation='varimax', rotation_kwargs={})"
      ]
     },
     "execution_count": 219,
     "metadata": {},
     "output_type": "execute_result"
    }
   ],
   "source": [
    "from factor_analyzer import FactorAnalyzer\n",
    "\n",
    "fa_diabete = FactorAnalyzer(n_factors = 3, method = \"principal\", rotation = \"varimax\")\n",
    "fa_diabete.fit(df_diabete)"
   ]
  },
  {
   "cell_type": "code",
   "execution_count": 220,
   "id": "2fd8651d",
   "metadata": {},
   "outputs": [
    {
     "data": {
      "text/plain": [
       "array([[-0.11565798,  0.69805515,  0.02517649],\n",
       "       [-0.11105328,  0.14727716,  0.70047361],\n",
       "       [ 0.4940783 ,  0.62743305, -0.09828985],\n",
       "       [ 0.71807865, -0.13799267,  0.32768053],\n",
       "       [ 0.18343755, -0.1213924 ,  0.83172359],\n",
       "       [ 0.84402542, -0.05828565,  0.02313509],\n",
       "       [ 0.13643526,  0.00352871,  0.22817327],\n",
       "       [-0.1351649 ,  0.84967672,  0.06330194]])"
      ]
     },
     "execution_count": 220,
     "metadata": {},
     "output_type": "execute_result"
    }
   ],
   "source": [
    "fa_diabete.loadings_"
   ]
  },
  {
   "cell_type": "code",
   "execution_count": 221,
   "id": "d2348e93",
   "metadata": {},
   "outputs": [
    {
     "data": {
      "text/html": [
       "<div>\n",
       "<style scoped>\n",
       "    .dataframe tbody tr th:only-of-type {\n",
       "        vertical-align: middle;\n",
       "    }\n",
       "\n",
       "    .dataframe tbody tr th {\n",
       "        vertical-align: top;\n",
       "    }\n",
       "\n",
       "    .dataframe thead th {\n",
       "        text-align: right;\n",
       "    }\n",
       "</style>\n",
       "<table border=\"1\" class=\"dataframe\">\n",
       "  <thead>\n",
       "    <tr style=\"text-align: right;\">\n",
       "      <th></th>\n",
       "      <th>0</th>\n",
       "      <th>1</th>\n",
       "      <th>2</th>\n",
       "    </tr>\n",
       "  </thead>\n",
       "  <tbody>\n",
       "    <tr>\n",
       "      <th>Pregnancies</th>\n",
       "      <td>-0.115658</td>\n",
       "      <td>0.698055</td>\n",
       "      <td>0.025176</td>\n",
       "    </tr>\n",
       "    <tr>\n",
       "      <th>Glucose</th>\n",
       "      <td>-0.111053</td>\n",
       "      <td>0.147277</td>\n",
       "      <td>0.700474</td>\n",
       "    </tr>\n",
       "    <tr>\n",
       "      <th>BloodPressure</th>\n",
       "      <td>0.494078</td>\n",
       "      <td>0.627433</td>\n",
       "      <td>-0.098290</td>\n",
       "    </tr>\n",
       "    <tr>\n",
       "      <th>SkinThickness</th>\n",
       "      <td>0.718079</td>\n",
       "      <td>-0.137993</td>\n",
       "      <td>0.327681</td>\n",
       "    </tr>\n",
       "    <tr>\n",
       "      <th>Insulin</th>\n",
       "      <td>0.183438</td>\n",
       "      <td>-0.121392</td>\n",
       "      <td>0.831724</td>\n",
       "    </tr>\n",
       "    <tr>\n",
       "      <th>BMI</th>\n",
       "      <td>0.844025</td>\n",
       "      <td>-0.058286</td>\n",
       "      <td>0.023135</td>\n",
       "    </tr>\n",
       "    <tr>\n",
       "      <th>DiabetesPedigreeFunction</th>\n",
       "      <td>0.136435</td>\n",
       "      <td>0.003529</td>\n",
       "      <td>0.228173</td>\n",
       "    </tr>\n",
       "    <tr>\n",
       "      <th>Age</th>\n",
       "      <td>-0.135165</td>\n",
       "      <td>0.849677</td>\n",
       "      <td>0.063302</td>\n",
       "    </tr>\n",
       "  </tbody>\n",
       "</table>\n",
       "</div>"
      ],
      "text/plain": [
       "                                 0         1         2\n",
       "Pregnancies              -0.115658  0.698055  0.025176\n",
       "Glucose                  -0.111053  0.147277  0.700474\n",
       "BloodPressure             0.494078  0.627433 -0.098290\n",
       "SkinThickness             0.718079 -0.137993  0.327681\n",
       "Insulin                   0.183438 -0.121392  0.831724\n",
       "BMI                       0.844025 -0.058286  0.023135\n",
       "DiabetesPedigreeFunction  0.136435  0.003529  0.228173\n",
       "Age                      -0.135165  0.849677  0.063302"
      ]
     },
     "execution_count": 221,
     "metadata": {},
     "output_type": "execute_result"
    }
   ],
   "source": [
    "efa_diabete_result= pd.DataFrame(fa_diabete.loadings_, index = df_diabete.columns)\n",
    "efa_diabete_result"
   ]
  },
  {
   "cell_type": "code",
   "execution_count": 222,
   "id": "6f06b94a",
   "metadata": {},
   "outputs": [
    {
     "data": {
      "text/plain": [
       "<AxesSubplot:title={'center':'Diabete Factor Analysis'}>"
      ]
     },
     "execution_count": 222,
     "metadata": {},
     "output_type": "execute_result"
    },
    {
     "data": {
      "image/png": "[encoded data removed]",
      "text/plain": [
       "<Figure size 432x720 with 2 Axes>"
      ]
     },
     "metadata": {
      "needs_background": "light"
     },
     "output_type": "display_data"
    }
   ],
   "source": [
    "import seaborn as sns\n",
    "\n",
    "plt.figure(figsize = (6, 10))\n",
    "plt.title('Diabete Factor Analysis' )\n",
    "sns.heatmap(efa_diabete_result, cmap = \"Blues\",  annot = True, fmt = '.2f')"
   ]
  },
  {
   "cell_type": "code",
   "execution_count": 223,
   "id": "1d40aef3",
   "metadata": {},
   "outputs": [
    {
     "data": {
      "text/plain": [
       "(695.8784438728003, 1.42451481081293e-128)"
      ]
     },
     "execution_count": 223,
     "metadata": {},
     "output_type": "execute_result"
    }
   ],
   "source": [
    "from factor_analyzer.factor_analyzer import calculate_bartlett_sphericity\n",
    "\n",
    "chi_square_value,p_value = calculate_bartlett_sphericity(df_health)\n",
    "chi_square_value, p_value"
   ]
  },
  {
   "cell_type": "code",
   "execution_count": 224,
   "id": "6f120359",
   "metadata": {},
   "outputs": [
    {
     "data": {
      "text/plain": [
       "0.5658875162130433"
      ]
     },
     "execution_count": 224,
     "metadata": {},
     "output_type": "execute_result"
    }
   ],
   "source": [
    "from factor_analyzer.factor_analyzer import calculate_kmo\n",
    "\n",
    "kmo_all,kmo_model=calculate_kmo(df_health)\n",
    "kmo_model"
   ]
  },
  {
   "cell_type": "code",
   "execution_count": 225,
   "id": "74451e44",
   "metadata": {},
   "outputs": [
    {
     "data": {
      "text/plain": [
       "FactorAnalyzer(method='principal', rotation='varimax', rotation_kwargs={})"
      ]
     },
     "execution_count": 225,
     "metadata": {},
     "output_type": "execute_result"
    }
   ],
   "source": [
    "from factor_analyzer import FactorAnalyzer\n",
    "\n",
    "fa_health = FactorAnalyzer(n_factors = 3, method = \"principal\", rotation = \"varimax\")\n",
    "fa_health.fit(df_health)"
   ]
  },
  {
   "cell_type": "code",
   "execution_count": 226,
   "id": "45c0dc94",
   "metadata": {},
   "outputs": [
    {
     "data": {
      "text/plain": [
       "array([[-0.04368443,  0.80536477, -0.05680028],\n",
       "       [ 0.098706  ,  0.37359565,  0.67755395],\n",
       "       [ 0.39803645,  0.54983278, -0.05434343],\n",
       "       [ 0.8496975 ,  0.0130258 ,  0.06594751],\n",
       "       [ 0.24821817, -0.218274  ,  0.76822927],\n",
       "       [ 0.87181253,  0.0334154 ,  0.0974035 ],\n",
       "       [-0.06173779, -0.05076639,  0.52615656],\n",
       "       [-0.02436744,  0.88188068,  0.04647584]])"
      ]
     },
     "execution_count": 226,
     "metadata": {},
     "output_type": "execute_result"
    }
   ],
   "source": [
    "fa_health.loadings_"
   ]
  },
  {
   "cell_type": "code",
   "execution_count": 227,
   "id": "16d2e700",
   "metadata": {},
   "outputs": [
    {
     "data": {
      "text/html": [
       "<div>\n",
       "<style scoped>\n",
       "    .dataframe tbody tr th:only-of-type {\n",
       "        vertical-align: middle;\n",
       "    }\n",
       "\n",
       "    .dataframe tbody tr th {\n",
       "        vertical-align: top;\n",
       "    }\n",
       "\n",
       "    .dataframe thead th {\n",
       "        text-align: right;\n",
       "    }\n",
       "</style>\n",
       "<table border=\"1\" class=\"dataframe\">\n",
       "  <thead>\n",
       "    <tr style=\"text-align: right;\">\n",
       "      <th></th>\n",
       "      <th>0</th>\n",
       "      <th>1</th>\n",
       "      <th>2</th>\n",
       "    </tr>\n",
       "  </thead>\n",
       "  <tbody>\n",
       "    <tr>\n",
       "      <th>Pregnancies</th>\n",
       "      <td>-0.043684</td>\n",
       "      <td>0.805365</td>\n",
       "      <td>-0.056800</td>\n",
       "    </tr>\n",
       "    <tr>\n",
       "      <th>Glucose</th>\n",
       "      <td>0.098706</td>\n",
       "      <td>0.373596</td>\n",
       "      <td>0.677554</td>\n",
       "    </tr>\n",
       "    <tr>\n",
       "      <th>BloodPressure</th>\n",
       "      <td>0.398036</td>\n",
       "      <td>0.549833</td>\n",
       "      <td>-0.054343</td>\n",
       "    </tr>\n",
       "    <tr>\n",
       "      <th>SkinThickness</th>\n",
       "      <td>0.849698</td>\n",
       "      <td>0.013026</td>\n",
       "      <td>0.065948</td>\n",
       "    </tr>\n",
       "    <tr>\n",
       "      <th>Insulin</th>\n",
       "      <td>0.248218</td>\n",
       "      <td>-0.218274</td>\n",
       "      <td>0.768229</td>\n",
       "    </tr>\n",
       "    <tr>\n",
       "      <th>BMI</th>\n",
       "      <td>0.871813</td>\n",
       "      <td>0.033415</td>\n",
       "      <td>0.097403</td>\n",
       "    </tr>\n",
       "    <tr>\n",
       "      <th>DiabetesPedigreeFunction</th>\n",
       "      <td>-0.061738</td>\n",
       "      <td>-0.050766</td>\n",
       "      <td>0.526157</td>\n",
       "    </tr>\n",
       "    <tr>\n",
       "      <th>Age</th>\n",
       "      <td>-0.024367</td>\n",
       "      <td>0.881881</td>\n",
       "      <td>0.046476</td>\n",
       "    </tr>\n",
       "  </tbody>\n",
       "</table>\n",
       "</div>"
      ],
      "text/plain": [
       "                                 0         1         2\n",
       "Pregnancies              -0.043684  0.805365 -0.056800\n",
       "Glucose                   0.098706  0.373596  0.677554\n",
       "BloodPressure             0.398036  0.549833 -0.054343\n",
       "SkinThickness             0.849698  0.013026  0.065948\n",
       "Insulin                   0.248218 -0.218274  0.768229\n",
       "BMI                       0.871813  0.033415  0.097403\n",
       "DiabetesPedigreeFunction -0.061738 -0.050766  0.526157\n",
       "Age                      -0.024367  0.881881  0.046476"
      ]
     },
     "execution_count": 227,
     "metadata": {},
     "output_type": "execute_result"
    }
   ],
   "source": [
    "efa_health_result= pd.DataFrame(fa_health.loadings_, index = df_health.columns)\n",
    "efa_health_result"
   ]
  },
  {
   "cell_type": "code",
   "execution_count": 228,
   "id": "028190bc",
   "metadata": {},
   "outputs": [
    {
     "data": {
      "text/plain": [
       "<AxesSubplot:title={'center':'Health Factor Analysis'}>"
      ]
     },
     "execution_count": 228,
     "metadata": {},
     "output_type": "execute_result"
    },
    {
     "data": {
      "image/png": "[encoded data removed]",
      "text/plain": [
       "<Figure size 432x720 with 2 Axes>"
      ]
     },
     "metadata": {
      "needs_background": "light"
     },
     "output_type": "display_data"
    }
   ],
   "source": [
    "plt.figure(figsize = (6, 10))\n",
    "plt.title('Health Factor Analysis')\n",
    "sns.heatmap(efa_health_result, cmap = \"Blues\", annot = True, fmt = '.2f')"
   ]
  },
  {
   "cell_type": "markdown",
   "id": "3a1b5347",
   "metadata": {},
   "source": [
    "### Train / Test Split"
   ]
  },
  {
   "cell_type": "code",
   "execution_count": 229,
   "id": "29378728",
   "metadata": {},
   "outputs": [],
   "source": [
    "from sklearn.model_selection import train_test_split\n",
    "\n",
    "X_train, X_test, y_train, y_test = train_test_split(X_scaled, y, test_size=0.3, random_state=42)"
   ]
  },
  {
   "cell_type": "markdown",
   "id": "6ced0e79",
   "metadata": {},
   "source": [
    "### Decision Tree / Gini"
   ]
  },
  {
   "cell_type": "code",
   "execution_count": 230,
   "id": "8be58c53",
   "metadata": {},
   "outputs": [
    {
     "name": "stdout",
     "output_type": "stream",
     "text": [
      "train score : 0.7546391752577319\n",
      "test score : 0.7464114832535885\n",
      "cross validation score : [0.69784173 0.74820144 0.74100719 0.74820144 0.7173913 ]\n",
      "mean score : 0.7305286205817954\n"
     ]
    }
   ],
   "source": [
    "# Decision Tree / Gini\n",
    "\n",
    "from sklearn.tree import DecisionTreeClassifier\n",
    "\n",
    "dtg_clf = DecisionTreeClassifier(random_state = 42, criterion = 'gini', max_depth = 3)\n",
    "dtg_clf.fit(X_train, y_train)\n",
    "dtg_pred = dtg_clf.predict(X_test)\n",
    "print(\"train score :\", dtg_clf.score(X_train, y_train))\n",
    "print(\"test score :\", dtg_clf.score(X_test, y_test))\n",
    "gini = dtg_clf.feature_importances_\n",
    "\n",
    "from sklearn.model_selection import cross_val_score\n",
    "\n",
    "scores = cross_val_score(dtg_clf, X_scaled, y, cv = 5)\n",
    "print(\"cross validation score :\", scores)\n",
    "print(\"mean score :\", scores.mean())"
   ]
  },
  {
   "cell_type": "code",
   "execution_count": 231,
   "id": "5ce6f0de",
   "metadata": {
    "scrolled": true
   },
   "outputs": [
    {
     "name": "stdout",
     "output_type": "stream",
     "text": [
      "[0.21649485 0.4893617  0.21649485 0.21649485 0.4893617  0.88135593\n",
      " 0.4893617  0.21649485 0.4893617  0.88135593 0.         0.88135593\n",
      " 0.4893617  0.         0.21649485 0.4893617  0.21649485 0.21649485\n",
      " 0.4893617  0.4893617  0.4893617  0.21649485 0.4893617  0.\n",
      " 0.         0.4893617  0.21649485 0.4893617  0.88135593 0.21649485\n",
      " 0.21649485 0.4893617  0.21649485 0.21649485 0.         0.4893617\n",
      " 0.88135593 0.4893617  0.4893617  0.21649485 0.         0.\n",
      " 0.21649485 0.         0.21649485 0.21649485 0.4893617  0.4893617\n",
      " 0.4893617  0.21649485 0.21649485 0.21649485 0.21649485 0.4893617\n",
      " 0.21649485 0.21649485 0.21649485 0.21649485 0.4893617  0.4893617\n",
      " 0.4893617  0.         0.4893617  0.21649485 0.21649485 0.21649485\n",
      " 0.88135593 0.4893617  0.88135593 0.4893617  0.21649485 0.88135593\n",
      " 0.21649485 0.         0.         0.         0.         0.4893617\n",
      " 0.21649485 0.4893617  0.21649485 0.21649485 0.         0.21649485\n",
      " 0.4893617  0.88135593 0.21649485 0.4893617  0.         0.\n",
      " 0.21649485 0.21649485 0.         0.         0.21649485 0.\n",
      " 0.4893617  0.4893617  0.         0.21649485 0.         0.21649485\n",
      " 0.         0.21649485 0.4893617  0.4893617  0.21649485 0.\n",
      " 0.21649485 0.21649485 0.16666667 0.4893617  0.21649485 0.4893617\n",
      " 0.4893617  0.4893617  0.88135593 0.4893617  0.         0.4893617\n",
      " 0.4893617  0.21649485 0.88135593 0.21649485 0.88135593 0.21649485\n",
      " 0.         0.4893617  0.         0.21649485 0.4893617  0.4893617\n",
      " 0.4893617  0.88135593 0.         0.4893617  0.4893617  0.\n",
      " 0.         0.21649485 0.16666667 0.         0.4893617  0.\n",
      " 0.         0.21649485 0.88135593 0.88135593 0.88135593 0.88135593\n",
      " 0.4893617  0.21649485 0.         0.4893617  0.21649485 0.21649485\n",
      " 0.4893617  0.4893617  0.4893617  0.4893617  0.88135593 0.4893617\n",
      " 0.21649485 0.21649485 0.21649485 0.88135593 0.         0.4893617\n",
      " 0.88135593 0.21649485 0.88135593 0.21649485 0.         0.4893617\n",
      " 0.21649485 0.         0.4893617  0.4893617  0.4893617  0.\n",
      " 0.         0.21649485 0.         0.4893617  0.21649485 0.21649485\n",
      " 0.21649485 0.4893617  0.16666667 0.         0.         0.21649485\n",
      " 0.4893617  0.4893617  0.21649485 0.21649485 0.         0.\n",
      " 0.         0.4893617  0.21649485 0.21649485 0.88135593 0.21649485\n",
      " 0.88135593 0.21649485 0.4893617  0.21649485 0.21649485]\n"
     ]
    },
    {
     "data": {
      "text/html": [
       "<div>\n",
       "<style scoped>\n",
       "    .dataframe tbody tr th:only-of-type {\n",
       "        vertical-align: middle;\n",
       "    }\n",
       "\n",
       "    .dataframe tbody tr th {\n",
       "        vertical-align: top;\n",
       "    }\n",
       "\n",
       "    .dataframe thead th {\n",
       "        text-align: right;\n",
       "    }\n",
       "</style>\n",
       "<table border=\"1\" class=\"dataframe\">\n",
       "  <thead>\n",
       "    <tr style=\"text-align: right;\">\n",
       "      <th></th>\n",
       "      <th>index</th>\n",
       "      <th>FPR</th>\n",
       "      <th>TPR</th>\n",
       "    </tr>\n",
       "  </thead>\n",
       "  <tbody>\n",
       "    <tr>\n",
       "      <th>0</th>\n",
       "      <td>1</td>\n",
       "      <td>0.034965</td>\n",
       "      <td>0.272727</td>\n",
       "    </tr>\n",
       "    <tr>\n",
       "      <th>1</th>\n",
       "      <td>2</td>\n",
       "      <td>0.272727</td>\n",
       "      <td>0.757576</td>\n",
       "    </tr>\n",
       "    <tr>\n",
       "      <th>2</th>\n",
       "      <td>3</td>\n",
       "      <td>0.699301</td>\n",
       "      <td>0.939394</td>\n",
       "    </tr>\n",
       "    <tr>\n",
       "      <th>3</th>\n",
       "      <td>4</td>\n",
       "      <td>0.720280</td>\n",
       "      <td>0.939394</td>\n",
       "    </tr>\n",
       "    <tr>\n",
       "      <th>4</th>\n",
       "      <td>5</td>\n",
       "      <td>1.000000</td>\n",
       "      <td>1.000000</td>\n",
       "    </tr>\n",
       "  </tbody>\n",
       "</table>\n",
       "</div>"
      ],
      "text/plain": [
       "   index       FPR       TPR\n",
       "0      1  0.034965  0.272727\n",
       "1      2  0.272727  0.757576\n",
       "2      3  0.699301  0.939394\n",
       "3      4  0.720280  0.939394\n",
       "4      5  1.000000  1.000000"
      ]
     },
     "execution_count": 231,
     "metadata": {},
     "output_type": "execute_result"
    }
   ],
   "source": [
    "from sklearn.metrics import roc_curve\n",
    "\n",
    "pred_proba_class_dtg = dtg_clf.predict_proba(X_test)[:, 1]\n",
    "print(pred_proba_class_dtg)\n",
    "\n",
    "fprs, tprs, thresholds = roc_curve(y_test, pred_proba_class_dtg)\n",
    "\n",
    "dtg_thr_index = np.arange(1, thresholds.shape[0])\n",
    "\n",
    "pd.DataFrame({'index' : dtg_thr_index,\n",
    "              'FPR' : fprs[dtg_thr_index],\n",
    "              'TPR' : tprs[dtg_thr_index]})"
   ]
  },
  {
   "cell_type": "code",
   "execution_count": 232,
   "id": "a86de425",
   "metadata": {},
   "outputs": [
    {
     "data": {
      "image/png": "[encoded data removed]",
      "text/plain": [
       "<Figure size 432x288 with 1 Axes>"
      ]
     },
     "metadata": {
      "needs_background": "light"
     },
     "output_type": "display_data"
    }
   ],
   "source": [
    "import matplotlib.pyplot as plt\n",
    "\n",
    "def roc_curve_plot(y_test, pred_proba_class_dtg):\n",
    "    # 임곗값에 따른 FPR, TPR 값\n",
    "    fprs, tprs, thresholds = roc_curve(y_test, pred_proba_class_dtg)\n",
    "    # ROC 곡선을 시각화\n",
    "    plt.plot(fprs, tprs, label = 'ROC')\n",
    "    # 가운데 대각선 직선\n",
    "    plt.plot([0,1],[0,1], 'k--', label = 'Random')\n",
    "    \n",
    "    # FPR X 축의 scla 0.1 단위 지정\n",
    "    start, end = plt.xlim()\n",
    "    plt.xticks(np.round(np.arange(start, end, 0.1), 2))\n",
    "    plt.xlim(0, 1)\n",
    "    plt.ylim(0, 1)\n",
    "    plt.xlabel('FPR( 1 - Snesitivity )')\n",
    "    plt.ylabel('TPR( Recall )')\n",
    "    plt.legend()\n",
    "    \n",
    "roc_curve_plot(y_test, pred_proba_class_dtg)"
   ]
  },
  {
   "cell_type": "code",
   "execution_count": 233,
   "id": "0c481370",
   "metadata": {},
   "outputs": [
    {
     "name": "stdout",
     "output_type": "stream",
     "text": [
      "ROC AUC Score :  0.7801440983259165\n"
     ]
    }
   ],
   "source": [
    "from sklearn.metrics import roc_auc_score\n",
    "\n",
    "pred_proba_dtg = dtg_clf.predict_proba(X_test)[:, 1]\n",
    "dtg_roc_score = roc_auc_score(y_test, pred_proba_dtg)\n",
    "print('ROC AUC Score : ', dtg_roc_score)"
   ]
  },
  {
   "cell_type": "code",
   "execution_count": 234,
   "id": "38727e88",
   "metadata": {},
   "outputs": [
    {
     "name": "stdout",
     "output_type": "stream",
     "text": [
      "오차행렬\n",
      "[[138   5]\n",
      " [ 48  18]]\n",
      "정확도 : 0.7464, 정밀도 : 0.7826, 재현율 : 0.2727, F1 : 0.4045, AUC : 0.6189\n"
     ]
    }
   ],
   "source": [
    "from sklearn.metrics import accuracy_score, precision_score, recall_score, roc_auc_score\n",
    "from sklearn.metrics import f1_score, confusion_matrix, precision_recall_curve, roc_curve\n",
    "\n",
    "def get_clf_eval(y_test, dtg_pred = None, pred_proba_dtg = None):\n",
    "    confusion = confusion_matrix(y_test, dtg_pred)\n",
    "    accuracy = accuracy_score(y_test, dtg_pred)\n",
    "    precision = precision_score(y_test, dtg_pred)\n",
    "    recall = recall_score(y_test, dtg_pred)\n",
    "    f1 = f1_score(y_test, dtg_pred)\n",
    "    roc_auc = roc_auc_score(y_test, dtg_pred)\n",
    "    \n",
    "    print('오차행렬')\n",
    "    print(confusion)\n",
    "    print('정확도 : {0:.4f}, 정밀도 : {1:.4f}, 재현율 : {2:.4f}, F1 : {3:.4f}, AUC : {4:.4f}'\n",
    "          .format(accuracy, precision, recall, f1, roc_auc))\n",
    "    \n",
    "# get_eval_by_threshold()\n",
    "def get_eval_by_threshold(y_test, pred_proba_class_dtg, thresholds):\n",
    "    # thresholds list 객체 내의 값을 차례로 iteration하면서 evaluation 수행\n",
    "    for custom_threshold in thresholds:\n",
    "        binarizer = Binarizer(threshold = custom_threshold).fit(pred_proba_class_dtg)\n",
    "        custom_predict = binarizer.transform(pred_proba_class_dtg)\n",
    "        print(f'임곗값 : {custom_threshold}')\n",
    "        get_clf_eval(y_test, custom_predict)\n",
    "\n",
    "# precision_recall_curve_plot()\n",
    "def precision_recall_curve_plot(y_test, pred_proba_class_dtg):\n",
    "    # threshold ndarray와 이 threshold에 따른 정밀도, 재현율 ndarray 추출\n",
    "    precisions, recalls, thresholds = precision_recall_curve(y_test, pred_proba_class_dtg)\n",
    "    \n",
    "    # X축을 threshold값으로, Y축은 정밀도, 재현율 값으로 각각 Plot 수행, 정밀도는 점선으로 표시\n",
    "    plt.figure(figsize = (8, 6))\n",
    "    threshold_boundary = thresholds.shape[0]\n",
    "    plt.plot(thresholds, precisions[0 : threshold_boundary], linestyle = '--', label = 'precision')\n",
    "    plt.plot(thresholds, recalls[0 : threshold_boundary], label = 'recall')\n",
    "    \n",
    "    # threshold 값 X축의 scale을 0.1 단위로 변경\n",
    "    start, end = plt.xlim()\n",
    "    plt.xticks(np.round(np.arange(start, end, 0.1), 2))\n",
    "    \n",
    "    # X, Y축 label과 legend, grid 설정\n",
    "    plt.xlabel('Threshold value')\n",
    "    plt.ylabel('Precision and Recall value')\n",
    "    plt.legend()\n",
    "    plt.grid()\n",
    "\n",
    "get_clf_eval(y_test, dtg_pred, pred_proba_dtg)"
   ]
  },
  {
   "cell_type": "code",
   "execution_count": 235,
   "id": "23855357",
   "metadata": {
    "scrolled": false
   },
   "outputs": [
    {
     "data": {
      "image/png": "[encoded data removed]",
      "text/plain": [
       "<Figure size 576x432 with 1 Axes>"
      ]
     },
     "metadata": {
      "needs_background": "light"
     },
     "output_type": "display_data"
    }
   ],
   "source": [
    "pred_proba_class_dtg = dtg_clf.predict_proba(X_test)[:, 1]\n",
    "precision_recall_curve_plot(y_test, pred_proba_class_dtg)"
   ]
  },
  {
   "cell_type": "markdown",
   "id": "d9d37289",
   "metadata": {},
   "source": [
    "### Decision Tree / Entropy"
   ]
  },
  {
   "cell_type": "code",
   "execution_count": 236,
   "id": "ed541e0b",
   "metadata": {},
   "outputs": [
    {
     "name": "stdout",
     "output_type": "stream",
     "text": [
      "train score : 0.7505154639175258\n",
      "test score : 0.7511961722488039\n",
      "cross validation score : [0.69784173 0.74820144 0.74100719 0.76258993 0.7173913 ]\n",
      "mean score : 0.733406318423522\n"
     ]
    }
   ],
   "source": [
    "# Decision Tree / Entropy\n",
    "\n",
    "from sklearn.tree import DecisionTreeClassifier\n",
    "\n",
    "dte_clf = DecisionTreeClassifier(random_state = 42, criterion = 'entropy', max_depth = 3)\n",
    "dte_clf.fit(X_train, y_train)\n",
    "dte_pred = dte_clf.predict(X_test)\n",
    "print(\"train score :\", dte_clf.score(X_train, y_train))\n",
    "print(\"test score :\", dte_clf.score(X_test, y_test))\n",
    "\n",
    "from sklearn.model_selection import cross_val_score\n",
    "\n",
    "entropy = dte_clf.feature_importances_\n",
    "scores = cross_val_score(dte_clf, X_scaled, y, cv = 5)\n",
    "print(\"cross validation score :\", scores)\n",
    "print(\"mean score :\", scores.mean())"
   ]
  },
  {
   "cell_type": "code",
   "execution_count": 237,
   "id": "b2421c0f",
   "metadata": {
    "scrolled": true
   },
   "outputs": [
    {
     "name": "stdout",
     "output_type": "stream",
     "text": [
      "[0.40711462 0.09756098 0.40711462 0.40711462 0.09756098 0.7\n",
      " 0.40711462 0.40711462 0.40711462 1.         0.         1.\n",
      " 0.09756098 0.         0.09756098 0.40711462 0.09756098 0.09756098\n",
      " 0.09756098 0.40711462 0.40711462 0.09756098 0.40711462 0.\n",
      " 0.         0.40711462 0.40711462 0.09756098 0.73684211 0.40711462\n",
      " 0.40711462 0.40711462 0.40711462 0.40711462 0.         0.40711462\n",
      " 1.         0.40711462 0.40711462 0.09756098 0.         0.\n",
      " 0.40711462 0.         0.40711462 0.40711462 0.09756098 0.40711462\n",
      " 0.40711462 0.40711462 0.40711462 0.09756098 0.40711462 0.40711462\n",
      " 0.09756098 0.40711462 0.40711462 0.40711462 0.40711462 0.09756098\n",
      " 0.40711462 0.7        0.40711462 0.40711462 0.40711462 0.40711462\n",
      " 1.         0.40711462 1.         0.09756098 0.09756098 1.\n",
      " 0.40711462 0.         0.         0.         0.         0.40711462\n",
      " 0.40711462 0.40711462 0.40711462 0.40711462 0.         0.40711462\n",
      " 0.40711462 0.73684211 0.40711462 0.40711462 0.         0.\n",
      " 0.09756098 0.40711462 0.         0.         0.09756098 0.\n",
      " 0.40711462 0.09756098 0.         0.40711462 0.         0.40711462\n",
      " 0.         0.40711462 0.09756098 0.09756098 0.09756098 0.\n",
      " 0.40711462 0.09756098 0.16666667 0.40711462 0.40711462 0.40711462\n",
      " 0.09756098 0.40711462 0.7        0.40711462 0.         0.40711462\n",
      " 0.40711462 0.09756098 1.         0.40711462 1.         0.09756098\n",
      " 0.         0.40711462 0.         0.40711462 0.40711462 0.40711462\n",
      " 0.40711462 0.16666667 0.         0.40711462 0.40711462 0.\n",
      " 0.         0.40711462 0.16666667 0.         0.40711462 0.\n",
      " 0.         0.40711462 1.         0.73684211 1.         0.73684211\n",
      " 0.40711462 0.09756098 0.         0.40711462 0.09756098 0.40711462\n",
      " 0.40711462 0.40711462 0.09756098 0.40711462 1.         0.40711462\n",
      " 0.40711462 0.40711462 0.09756098 1.         0.         0.40711462\n",
      " 0.73684211 0.09756098 0.7        0.40711462 0.         0.09756098\n",
      " 0.09756098 0.         0.09756098 0.40711462 0.09756098 0.\n",
      " 0.         0.09756098 1.         0.40711462 0.40711462 0.09756098\n",
      " 0.40711462 0.40711462 0.16666667 0.         0.         0.40711462\n",
      " 0.40711462 0.09756098 0.40711462 0.09756098 0.         0.\n",
      " 0.         0.40711462 0.40711462 0.09756098 0.7        0.09756098\n",
      " 0.7        0.40711462 0.40711462 0.40711462 0.40711462]\n"
     ]
    },
    {
     "data": {
      "text/html": [
       "<div>\n",
       "<style scoped>\n",
       "    .dataframe tbody tr th:only-of-type {\n",
       "        vertical-align: middle;\n",
       "    }\n",
       "\n",
       "    .dataframe tbody tr th {\n",
       "        vertical-align: top;\n",
       "    }\n",
       "\n",
       "    .dataframe thead th {\n",
       "        text-align: right;\n",
       "    }\n",
       "</style>\n",
       "<table border=\"1\" class=\"dataframe\">\n",
       "  <thead>\n",
       "    <tr style=\"text-align: right;\">\n",
       "      <th></th>\n",
       "      <th>index</th>\n",
       "      <th>FPR</th>\n",
       "      <th>TPR</th>\n",
       "    </tr>\n",
       "  </thead>\n",
       "  <tbody>\n",
       "    <tr>\n",
       "      <th>0</th>\n",
       "      <td>1</td>\n",
       "      <td>0.013986</td>\n",
       "      <td>0.166667</td>\n",
       "    </tr>\n",
       "    <tr>\n",
       "      <th>1</th>\n",
       "      <td>2</td>\n",
       "      <td>0.027972</td>\n",
       "      <td>0.212121</td>\n",
       "    </tr>\n",
       "    <tr>\n",
       "      <th>2</th>\n",
       "      <td>3</td>\n",
       "      <td>0.034965</td>\n",
       "      <td>0.287879</td>\n",
       "    </tr>\n",
       "    <tr>\n",
       "      <th>3</th>\n",
       "      <td>4</td>\n",
       "      <td>0.440559</td>\n",
       "      <td>0.893939</td>\n",
       "    </tr>\n",
       "    <tr>\n",
       "      <th>4</th>\n",
       "      <td>5</td>\n",
       "      <td>0.461538</td>\n",
       "      <td>0.909091</td>\n",
       "    </tr>\n",
       "    <tr>\n",
       "      <th>5</th>\n",
       "      <td>6</td>\n",
       "      <td>0.720280</td>\n",
       "      <td>0.969697</td>\n",
       "    </tr>\n",
       "    <tr>\n",
       "      <th>6</th>\n",
       "      <td>7</td>\n",
       "      <td>1.000000</td>\n",
       "      <td>1.000000</td>\n",
       "    </tr>\n",
       "  </tbody>\n",
       "</table>\n",
       "</div>"
      ],
      "text/plain": [
       "   index       FPR       TPR\n",
       "0      1  0.013986  0.166667\n",
       "1      2  0.027972  0.212121\n",
       "2      3  0.034965  0.287879\n",
       "3      4  0.440559  0.893939\n",
       "4      5  0.461538  0.909091\n",
       "5      6  0.720280  0.969697\n",
       "6      7  1.000000  1.000000"
      ]
     },
     "execution_count": 237,
     "metadata": {},
     "output_type": "execute_result"
    }
   ],
   "source": [
    "from sklearn.metrics import roc_curve\n",
    "\n",
    "pred_proba_class_dte = dte_clf.predict_proba(X_test)[:, 1]\n",
    "print(pred_proba_class_dte)\n",
    "\n",
    "fprs, tprs, thresholds = roc_curve(y_test, pred_proba_class_dte)\n",
    "\n",
    "dte_thr_index = np.arange(1, thresholds.shape[0])\n",
    "\n",
    "pd.DataFrame({'index' : dte_thr_index,\n",
    "              'FPR' : fprs[dte_thr_index],\n",
    "              'TPR' : tprs[dte_thr_index]})"
   ]
  },
  {
   "cell_type": "code",
   "execution_count": 238,
   "id": "083ef26b",
   "metadata": {},
   "outputs": [
    {
     "data": {
      "image/png": "[encoded data removed]",
      "text/plain": [
       "<Figure size 432x288 with 1 Axes>"
      ]
     },
     "metadata": {
      "needs_background": "light"
     },
     "output_type": "display_data"
    }
   ],
   "source": [
    "import matplotlib.pyplot as plt\n",
    "\n",
    "def roc_curve_plot(y_test, pred_proba_class_dte):\n",
    "    # 임곗값에 따른 FPR, TPR 값\n",
    "    fprs, tprs, thresholds = roc_curve(y_test, pred_proba_class_dte)\n",
    "    # ROC 곡선을 시각화\n",
    "    plt.plot(fprs, tprs, label = 'ROC')\n",
    "    # 가운데 대각선 직선\n",
    "    plt.plot([0,1],[0,1], 'k--', label = 'Random')\n",
    "    \n",
    "    # FPR X 축의 scla 0.1 단위 지정\n",
    "    start, end = plt.xlim()\n",
    "    plt.xticks(np.round(np.arange(start, end, 0.1), 2))\n",
    "    plt.xlim(0, 1)\n",
    "    plt.ylim(0, 1)\n",
    "    plt.xlabel('FPR( 1 - Snesitivity )')\n",
    "    plt.ylabel('TPR( Recall )')\n",
    "    plt.legend()\n",
    "    \n",
    "roc_curve_plot(y_test, pred_proba_class_dte)"
   ]
  },
  {
   "cell_type": "code",
   "execution_count": 239,
   "id": "4a0da429",
   "metadata": {},
   "outputs": [
    {
     "name": "stdout",
     "output_type": "stream",
     "text": [
      "ROC AUC Score : 0.7826870099597372\n"
     ]
    }
   ],
   "source": [
    "from sklearn.metrics import roc_auc_score\n",
    "\n",
    "pred_proba_dte = dte_clf.predict_proba(X_test)[:, 1]\n",
    "dte_roc_score = roc_auc_score(y_test, pred_proba_dte)\n",
    "print('ROC AUC Score :', dte_roc_score)"
   ]
  },
  {
   "cell_type": "code",
   "execution_count": 240,
   "id": "f8b1a8b8",
   "metadata": {},
   "outputs": [
    {
     "name": "stdout",
     "output_type": "stream",
     "text": [
      "오차행렬\n",
      "[[138   5]\n",
      " [ 47  19]]\n",
      "정확도 : 0.7512, 정밀도 : 0.7917, 재현율 : 0.2879, F1 : 0.4222, AUC : 0.6265\n"
     ]
    }
   ],
   "source": [
    "from sklearn.metrics import accuracy_score, precision_score, recall_score, roc_auc_score\n",
    "from sklearn.metrics import f1_score, confusion_matrix, precision_recall_curve, roc_curve\n",
    "\n",
    "def get_clf_eval(y_test, dte_pred = None, pred_proba_dte = None):\n",
    "    confusion = confusion_matrix(y_test, dte_pred)\n",
    "    accuracy = accuracy_score(y_test, dte_pred)\n",
    "    precision = precision_score(y_test, dte_pred)\n",
    "    recall = recall_score(y_test, dte_pred)\n",
    "    f1 = f1_score(y_test, dte_pred)\n",
    "    roc_auc = roc_auc_score(y_test, dte_pred)\n",
    "    \n",
    "    print('오차행렬')\n",
    "    print(confusion)\n",
    "    print('정확도 : {0:.4f}, 정밀도 : {1:.4f}, 재현율 : {2:.4f}, F1 : {3:.4f}, AUC : {4:.4f}'\n",
    "          .format(accuracy, precision, recall, f1, roc_auc))\n",
    "    \n",
    "# get_eval_by_threshold()\n",
    "def get_eval_by_threshold(y_test, pred_proba_class_dte, thresholds):\n",
    "    # thresholds list 객체 내의 값을 차례로 iteration하면서 evaluation 수행\n",
    "    for custom_threshold in thresholds:\n",
    "        binarizer = Binarizer(threshold = custom_threshold).fit(pred_proba_class_dte)\n",
    "        custom_predict = binarizer.transform(pred_proba_class_dte)\n",
    "        print(f'임곗값 : {custom_threshold}')\n",
    "        get_clf_eval(y_test, custom_predict)\n",
    "\n",
    "# precision_recall_curve_plot()\n",
    "def precision_recall_curve_plot(y_test, pred_proba_class_dte):\n",
    "    # threshold ndarray와 이 threshold에 따른 정밀도, 재현율 ndarray 추출\n",
    "    precisions, recalls, thresholds = precision_recall_curve(y_test, pred_proba_class_dte)\n",
    "    \n",
    "    # X축을 threshold값으로, Y축은 정밀도, 재현율 값으로 각각 Plot 수행, 정밀도는 점선으로 표시\n",
    "    plt.figure(figsize = (8, 6))\n",
    "    threshold_boundary = thresholds.shape[0]\n",
    "    plt.plot(thresholds, precisions[0 : threshold_boundary], linestyle = '--', label = 'precision')\n",
    "    plt.plot(thresholds, recalls[0 : threshold_boundary], label = 'recall')\n",
    "    \n",
    "    # threshold 값 X축의 scale을 0.1 단위로 변경\n",
    "    start, end = plt.xlim()\n",
    "    plt.xticks(np.round(np.arange(start, end, 0.1), 2))\n",
    "    \n",
    "    # X, Y축 label과 legend, grid 설정\n",
    "    plt.xlabel('Threshold value')\n",
    "    plt.ylabel('Precision and Recall value')\n",
    "    plt.legend()\n",
    "    plt.grid()\n",
    "\n",
    "get_clf_eval(y_test, dte_pred, pred_proba_dte)"
   ]
  },
  {
   "cell_type": "code",
   "execution_count": 241,
   "id": "d0c8f7ce",
   "metadata": {},
   "outputs": [
    {
     "data": {
      "image/png": "[encoded data removed]",
      "text/plain": [
       "<Figure size 576x432 with 1 Axes>"
      ]
     },
     "metadata": {
      "needs_background": "light"
     },
     "output_type": "display_data"
    }
   ],
   "source": [
    "pred_proba_class_dte = dte_clf.predict_proba(X_test)[:, 1]\n",
    "precision_recall_curve_plot(y_test, pred_proba_class_dte)"
   ]
  },
  {
   "cell_type": "markdown",
   "id": "4ba58ff6",
   "metadata": {},
   "source": [
    "### Gini와 Entropy 비교"
   ]
  },
  {
   "cell_type": "code",
   "execution_count": 242,
   "id": "8bc9a336",
   "metadata": {},
   "outputs": [
    {
     "data": {
      "text/html": [
       "<div>\n",
       "<style scoped>\n",
       "    .dataframe tbody tr th:only-of-type {\n",
       "        vertical-align: middle;\n",
       "    }\n",
       "\n",
       "    .dataframe tbody tr th {\n",
       "        vertical-align: top;\n",
       "    }\n",
       "\n",
       "    .dataframe thead th {\n",
       "        text-align: right;\n",
       "    }\n",
       "</style>\n",
       "<table border=\"1\" class=\"dataframe\">\n",
       "  <thead>\n",
       "    <tr style=\"text-align: right;\">\n",
       "      <th></th>\n",
       "      <th>feature</th>\n",
       "      <th>gini</th>\n",
       "      <th>entropy</th>\n",
       "    </tr>\n",
       "  </thead>\n",
       "  <tbody>\n",
       "    <tr>\n",
       "      <th>0</th>\n",
       "      <td>Pregnancies</td>\n",
       "      <td>0.023723</td>\n",
       "      <td>0.0</td>\n",
       "    </tr>\n",
       "    <tr>\n",
       "      <th>1</th>\n",
       "      <td>Glucose</td>\n",
       "      <td>0.489869</td>\n",
       "      <td>0.583336</td>\n",
       "    </tr>\n",
       "    <tr>\n",
       "      <th>2</th>\n",
       "      <td>BloodPressure</td>\n",
       "      <td>0.0</td>\n",
       "      <td>0.0</td>\n",
       "    </tr>\n",
       "    <tr>\n",
       "      <th>3</th>\n",
       "      <td>SkinThickness</td>\n",
       "      <td>0.04456</td>\n",
       "      <td>0.0</td>\n",
       "    </tr>\n",
       "    <tr>\n",
       "      <th>4</th>\n",
       "      <td>Insulin</td>\n",
       "      <td>0.0</td>\n",
       "      <td>0.0</td>\n",
       "    </tr>\n",
       "    <tr>\n",
       "      <th>5</th>\n",
       "      <td>BMI</td>\n",
       "      <td>0.203223</td>\n",
       "      <td>0.27446</td>\n",
       "    </tr>\n",
       "    <tr>\n",
       "      <th>6</th>\n",
       "      <td>DiabetesPedigreeFunction</td>\n",
       "      <td>0.0</td>\n",
       "      <td>0.091568</td>\n",
       "    </tr>\n",
       "    <tr>\n",
       "      <th>7</th>\n",
       "      <td>Age</td>\n",
       "      <td>0.238625</td>\n",
       "      <td>0.050636</td>\n",
       "    </tr>\n",
       "  </tbody>\n",
       "</table>\n",
       "</div>"
      ],
      "text/plain": [
       "                    feature      gini   entropy\n",
       "0               Pregnancies  0.023723       0.0\n",
       "1                   Glucose  0.489869  0.583336\n",
       "2             BloodPressure       0.0       0.0\n",
       "3             SkinThickness   0.04456       0.0\n",
       "4                   Insulin       0.0       0.0\n",
       "5                       BMI  0.203223   0.27446\n",
       "6  DiabetesPedigreeFunction       0.0  0.091568\n",
       "7                       Age  0.238625  0.050636"
      ]
     },
     "execution_count": 242,
     "metadata": {},
     "output_type": "execute_result"
    }
   ],
   "source": [
    "cart = pd.DataFrame([X.columns, gini,entropy]).T\n",
    "cart.columns = ['feature','gini','entropy']\n",
    "cart"
   ]
  },
  {
   "cell_type": "markdown",
   "id": "b69374bc",
   "metadata": {},
   "source": [
    "### KNN"
   ]
  },
  {
   "cell_type": "code",
   "execution_count": 243,
   "id": "3fa15992",
   "metadata": {},
   "outputs": [
    {
     "name": "stdout",
     "output_type": "stream",
     "text": [
      "train score : 0.7814432989690722\n",
      "test score : 0.7511961722488039\n",
      "cross validation score : [0.73381295 0.74100719 0.77697842 0.79856115 0.73913043]\n",
      "mean score : 0.757898029402565\n"
     ]
    }
   ],
   "source": [
    "# KNN\n",
    "\n",
    "from sklearn.neighbors import KNeighborsClassifier\n",
    "\n",
    "neigh_clf = KNeighborsClassifier(n_neighbors = 13)\n",
    "neigh_clf.fit(X_train, y_train)\n",
    "neigh_pred = neigh_clf.predict(X_test)\n",
    "print(\"train score :\", neigh_clf.score(X_train, y_train))\n",
    "print(\"test score :\", neigh_clf.score(X_test, y_test))\n",
    "\n",
    "from sklearn.model_selection import cross_val_score\n",
    "\n",
    "scores = cross_val_score(neigh_clf, X_scaled, y, cv = 5)\n",
    "print(\"cross validation score :\", scores)\n",
    "print(\"mean score :\", scores.mean())"
   ]
  },
  {
   "cell_type": "code",
   "execution_count": 244,
   "id": "feafe18e",
   "metadata": {
    "scrolled": true
   },
   "outputs": [
    {
     "name": "stdout",
     "output_type": "stream",
     "text": [
      "[0.23076923 0.23076923 0.53846154 0.61538462 0.15384615 0.76923077\n",
      " 0.46153846 0.38461538 0.23076923 0.53846154 0.         0.92307692\n",
      " 0.30769231 0.         0.23076923 0.84615385 0.         0.07692308\n",
      " 0.38461538 0.69230769 0.53846154 0.07692308 0.69230769 0.30769231\n",
      " 0.         0.38461538 0.23076923 0.38461538 0.46153846 0.46153846\n",
      " 0.30769231 0.38461538 0.53846154 0.15384615 0.30769231 0.23076923\n",
      " 0.92307692 0.53846154 0.53846154 0.         0.15384615 0.\n",
      " 0.46153846 0.46153846 0.07692308 0.23076923 0.38461538 0.46153846\n",
      " 0.61538462 0.38461538 0.30769231 0.         0.38461538 0.61538462\n",
      " 0.         0.23076923 0.         0.38461538 0.76923077 0.38461538\n",
      " 0.76923077 0.61538462 0.38461538 0.         0.38461538 0.23076923\n",
      " 0.84615385 0.30769231 0.76923077 0.46153846 0.         0.76923077\n",
      " 0.46153846 0.23076923 0.         0.30769231 0.15384615 0.23076923\n",
      " 0.         0.38461538 0.         0.07692308 0.         0.\n",
      " 0.23076923 0.53846154 0.46153846 0.53846154 0.30769231 0.\n",
      " 0.07692308 0.07692308 0.07692308 0.23076923 0.         0.23076923\n",
      " 0.46153846 0.38461538 0.         0.46153846 0.38461538 0.53846154\n",
      " 0.30769231 0.46153846 0.30769231 0.30769231 0.         0.\n",
      " 0.69230769 0.         0.30769231 0.76923077 0.61538462 0.46153846\n",
      " 0.         0.53846154 0.69230769 0.53846154 0.         0.30769231\n",
      " 0.53846154 0.30769231 0.76923077 0.23076923 0.61538462 0.15384615\n",
      " 0.15384615 0.53846154 0.         0.46153846 0.30769231 0.53846154\n",
      " 0.46153846 0.84615385 0.         0.15384615 0.61538462 0.\n",
      " 0.         0.30769231 0.38461538 0.         0.46153846 0.53846154\n",
      " 0.         0.15384615 0.69230769 0.61538462 0.84615385 0.76923077\n",
      " 0.84615385 0.15384615 0.07692308 0.61538462 0.07692308 0.07692308\n",
      " 0.69230769 0.30769231 0.23076923 0.61538462 0.76923077 0.76923077\n",
      " 0.15384615 0.07692308 0.38461538 0.84615385 0.61538462 0.53846154\n",
      " 0.69230769 0.         0.69230769 0.38461538 0.         0.15384615\n",
      " 0.07692308 0.         0.15384615 0.38461538 0.30769231 0.07692308\n",
      " 0.         0.         0.53846154 0.30769231 0.46153846 0.07692308\n",
      " 0.30769231 0.38461538 0.15384615 0.15384615 0.         0.07692308\n",
      " 0.53846154 0.07692308 0.23076923 0.         0.15384615 0.\n",
      " 0.         0.46153846 0.30769231 0.         0.69230769 0.23076923\n",
      " 0.46153846 0.38461538 0.38461538 0.23076923 0.38461538]\n"
     ]
    },
    {
     "data": {
      "text/html": [
       "<div>\n",
       "<style scoped>\n",
       "    .dataframe tbody tr th:only-of-type {\n",
       "        vertical-align: middle;\n",
       "    }\n",
       "\n",
       "    .dataframe tbody tr th {\n",
       "        vertical-align: top;\n",
       "    }\n",
       "\n",
       "    .dataframe thead th {\n",
       "        text-align: right;\n",
       "    }\n",
       "</style>\n",
       "<table border=\"1\" class=\"dataframe\">\n",
       "  <thead>\n",
       "    <tr style=\"text-align: right;\">\n",
       "      <th></th>\n",
       "      <th>index</th>\n",
       "      <th>FPR</th>\n",
       "      <th>TPR</th>\n",
       "    </tr>\n",
       "  </thead>\n",
       "  <tbody>\n",
       "    <tr>\n",
       "      <th>0</th>\n",
       "      <td>1</td>\n",
       "      <td>0.000000</td>\n",
       "      <td>0.030303</td>\n",
       "    </tr>\n",
       "    <tr>\n",
       "      <th>1</th>\n",
       "      <td>2</td>\n",
       "      <td>0.006993</td>\n",
       "      <td>0.106061</td>\n",
       "    </tr>\n",
       "    <tr>\n",
       "      <th>2</th>\n",
       "      <td>3</td>\n",
       "      <td>0.020979</td>\n",
       "      <td>0.227273</td>\n",
       "    </tr>\n",
       "    <tr>\n",
       "      <th>3</th>\n",
       "      <td>4</td>\n",
       "      <td>0.048951</td>\n",
       "      <td>0.303030</td>\n",
       "    </tr>\n",
       "    <tr>\n",
       "      <th>4</th>\n",
       "      <td>5</td>\n",
       "      <td>0.090909</td>\n",
       "      <td>0.378788</td>\n",
       "    </tr>\n",
       "    <tr>\n",
       "      <th>5</th>\n",
       "      <td>6</td>\n",
       "      <td>0.146853</td>\n",
       "      <td>0.530303</td>\n",
       "    </tr>\n",
       "    <tr>\n",
       "      <th>6</th>\n",
       "      <td>7</td>\n",
       "      <td>0.230769</td>\n",
       "      <td>0.636364</td>\n",
       "    </tr>\n",
       "    <tr>\n",
       "      <th>7</th>\n",
       "      <td>8</td>\n",
       "      <td>0.321678</td>\n",
       "      <td>0.787879</td>\n",
       "    </tr>\n",
       "    <tr>\n",
       "      <th>8</th>\n",
       "      <td>9</td>\n",
       "      <td>0.426573</td>\n",
       "      <td>0.878788</td>\n",
       "    </tr>\n",
       "    <tr>\n",
       "      <th>9</th>\n",
       "      <td>10</td>\n",
       "      <td>0.531469</td>\n",
       "      <td>0.939394</td>\n",
       "    </tr>\n",
       "    <tr>\n",
       "      <th>10</th>\n",
       "      <td>11</td>\n",
       "      <td>0.629371</td>\n",
       "      <td>0.954545</td>\n",
       "    </tr>\n",
       "    <tr>\n",
       "      <th>11</th>\n",
       "      <td>12</td>\n",
       "      <td>0.727273</td>\n",
       "      <td>0.984848</td>\n",
       "    </tr>\n",
       "    <tr>\n",
       "      <th>12</th>\n",
       "      <td>13</td>\n",
       "      <td>1.000000</td>\n",
       "      <td>1.000000</td>\n",
       "    </tr>\n",
       "  </tbody>\n",
       "</table>\n",
       "</div>"
      ],
      "text/plain": [
       "    index       FPR       TPR\n",
       "0       1  0.000000  0.030303\n",
       "1       2  0.006993  0.106061\n",
       "2       3  0.020979  0.227273\n",
       "3       4  0.048951  0.303030\n",
       "4       5  0.090909  0.378788\n",
       "5       6  0.146853  0.530303\n",
       "6       7  0.230769  0.636364\n",
       "7       8  0.321678  0.787879\n",
       "8       9  0.426573  0.878788\n",
       "9      10  0.531469  0.939394\n",
       "10     11  0.629371  0.954545\n",
       "11     12  0.727273  0.984848\n",
       "12     13  1.000000  1.000000"
      ]
     },
     "execution_count": 244,
     "metadata": {},
     "output_type": "execute_result"
    }
   ],
   "source": [
    "from sklearn.metrics import roc_curve\n",
    "\n",
    "pred_proba_class_neigh = neigh_clf.predict_proba(X_test)[:, 1]\n",
    "print(pred_proba_class_neigh)\n",
    "\n",
    "fprs, tprs, thresholds = roc_curve(y_test, pred_proba_class_neigh)\n",
    "\n",
    "neigh_thr_index = np.arange(1, thresholds.shape[0])\n",
    "\n",
    "pd.DataFrame({'index' : neigh_thr_index,\n",
    "              'FPR' : fprs[neigh_thr_index],\n",
    "              'TPR' : tprs[neigh_thr_index]})"
   ]
  },
  {
   "cell_type": "code",
   "execution_count": 245,
   "id": "947bb1d9",
   "metadata": {},
   "outputs": [
    {
     "data": {
      "image/png": "[encoded data removed]",
      "text/plain": [
       "<Figure size 432x288 with 1 Axes>"
      ]
     },
     "metadata": {
      "needs_background": "light"
     },
     "output_type": "display_data"
    }
   ],
   "source": [
    "import matplotlib.pyplot as plt\n",
    "\n",
    "def roc_curve_plot(y_test, pred_proba_class_neigh):\n",
    "    # 임곗값에 따른 FPR, TPR 값\n",
    "    fprs, tprs, thresholds = roc_curve(y_test, pred_proba_class_neigh)\n",
    "    # ROC 곡선을 시각화\n",
    "    plt.plot(fprs, tprs, label = 'ROC')\n",
    "    # 가운데 대각선 직선\n",
    "    plt.plot([0,1],[0,1], 'k--', label = 'Random')\n",
    "    \n",
    "    # FPR X 축의 scla 0.1 단위 지정\n",
    "    start, end = plt.xlim()\n",
    "    plt.xticks(np.round(np.arange(start, end, 0.1), 2))\n",
    "    plt.xlim(0, 1)\n",
    "    plt.ylim(0, 1)\n",
    "    plt.xlabel('FPR( 1 - Snesitivity )')\n",
    "    plt.ylabel('TPR( Recall )')\n",
    "    plt.legend()\n",
    "    \n",
    "roc_curve_plot(y_test, pred_proba_class_neigh)"
   ]
  },
  {
   "cell_type": "code",
   "execution_count": 246,
   "id": "a180846e",
   "metadata": {},
   "outputs": [
    {
     "name": "stdout",
     "output_type": "stream",
     "text": [
      "ROC AUC Score : 0.8047255774528501\n"
     ]
    }
   ],
   "source": [
    "from sklearn.metrics import roc_auc_score\n",
    "\n",
    "pred_proba_neigh = neigh_clf.predict_proba(X_test)[:, 1]\n",
    "neigh_roc_score = roc_auc_score(y_test, pred_proba_neigh)\n",
    "print('ROC AUC Score :', neigh_roc_score)"
   ]
  },
  {
   "cell_type": "code",
   "execution_count": 247,
   "id": "bbfe0ae6",
   "metadata": {},
   "outputs": [
    {
     "name": "stdout",
     "output_type": "stream",
     "text": [
      "오차행렬\n",
      "[[122  21]\n",
      " [ 31  35]]\n",
      "정확도 : 0.7512, 정밀도 : 0.6250, 재현율 : 0.5303, F1 : 0.5738, AUC : 0.6917\n"
     ]
    }
   ],
   "source": [
    "from sklearn.metrics import accuracy_score, precision_score, recall_score, roc_auc_score\n",
    "from sklearn.metrics import f1_score, confusion_matrix, precision_recall_curve, roc_curve\n",
    "\n",
    "def get_clf_eval(y_test, neigh_pred = None, pred_proba_neigh = None):\n",
    "    confusion = confusion_matrix(y_test, neigh_pred)\n",
    "    accuracy = accuracy_score(y_test, neigh_pred)\n",
    "    precision = precision_score(y_test, neigh_pred)\n",
    "    recall = recall_score(y_test, neigh_pred)\n",
    "    f1 = f1_score(y_test, neigh_pred)\n",
    "    roc_auc = roc_auc_score(y_test, neigh_pred)\n",
    "    \n",
    "    print('오차행렬')\n",
    "    print(confusion)\n",
    "    print('정확도 : {0:.4f}, 정밀도 : {1:.4f}, 재현율 : {2:.4f}, F1 : {3:.4f}, AUC : {4:.4f}'\n",
    "          .format(accuracy, precision, recall, f1, roc_auc))\n",
    "    \n",
    "# get_eval_by_threshold()\n",
    "def get_eval_by_threshold(y_test, pred_proba_class_neigh, thresholds):\n",
    "    # thresholds list 객체 내의 값을 차례로 iteration하면서 evaluation 수행\n",
    "    for custom_threshold in thresholds:\n",
    "        binarizer = Binarizer(threshold = custom_threshold).fit(pred_proba_class_neigh)\n",
    "        custom_predict = binarizer.transform(pred_proba_class_neigh)\n",
    "        print(f'임곗값 : {custom_threshold}')\n",
    "        get_clf_eval(y_test, custom_predict)\n",
    "\n",
    "# precision_recall_curve_plot()\n",
    "def precision_recall_curve_plot(y_test, pred_proba_class_neigh):\n",
    "    # threshold ndarray와 이 threshold에 따른 정밀도, 재현율 ndarray 추출\n",
    "    precisions, recalls, thresholds = precision_recall_curve(y_test, pred_proba_class_neigh)\n",
    "    \n",
    "    # X축을 threshold값으로, Y축은 정밀도, 재현율 값으로 각각 Plot 수행, 정밀도는 점선으로 표시\n",
    "    plt.figure(figsize = (8, 6))\n",
    "    threshold_boundary = thresholds.shape[0]\n",
    "    plt.plot(thresholds, precisions[0 : threshold_boundary], linestyle = '--', label = 'precision')\n",
    "    plt.plot(thresholds, recalls[0 : threshold_boundary], label = 'recall')\n",
    "    \n",
    "    # threshold 값 X축의 scale을 0.1 단위로 변경\n",
    "    start, end = plt.xlim()\n",
    "    plt.xticks(np.round(np.arange(start, end, 0.1), 2))\n",
    "    \n",
    "    # X, Y축 label과 legend, grid 설정\n",
    "    plt.xlabel('Threshold value')\n",
    "    plt.ylabel('Precision and Recall value')\n",
    "    plt.legend()\n",
    "    plt.grid()\n",
    "\n",
    "get_clf_eval(y_test, neigh_pred, pred_proba_neigh)"
   ]
  },
  {
   "cell_type": "code",
   "execution_count": 248,
   "id": "5e8a00ce",
   "metadata": {},
   "outputs": [
    {
     "data": {
      "image/png": "[encoded data removed]",
      "text/plain": [
       "<Figure size 576x432 with 1 Axes>"
      ]
     },
     "metadata": {
      "needs_background": "light"
     },
     "output_type": "display_data"
    }
   ],
   "source": [
    "pred_proba_class_neigh = neigh_clf.predict_proba(X_test)[:, 1]\n",
    "precision_recall_curve_plot(y_test, pred_proba_class_neigh)"
   ]
  },
  {
   "cell_type": "markdown",
   "id": "d6ecea12",
   "metadata": {},
   "source": [
    "### SVM"
   ]
  },
  {
   "cell_type": "code",
   "execution_count": 249,
   "id": "a597c085",
   "metadata": {},
   "outputs": [
    {
     "name": "stdout",
     "output_type": "stream",
     "text": [
      "train score : 0.8123711340206186\n",
      "test score : 0.84688995215311\n",
      "cross validation score : [0.71223022 0.73381295 0.73381295 0.82733813 0.76086957]\n",
      "mean score : 0.7536127619643416\n"
     ]
    }
   ],
   "source": [
    "# SVM\n",
    "\n",
    "from sklearn.pipeline import make_pipeline\n",
    "from sklearn.preprocessing import StandardScaler\n",
    "from sklearn.svm import SVC\n",
    "\n",
    "svm_clf = make_pipeline(StandardScaler(), SVC(gamma = 'auto', probability = True))\n",
    "# 기본적으로 probability 파라미터는 False로 설정되기 때문에 svm.predict_proba() 함수를 실행하면 에러가 난다. 따라서 True로 명시해준다.\n",
    "svm_clf.fit(X_scaled, y)\n",
    "svm_pred = svm_clf.predict(X_test)\n",
    "print(\"train score :\", svm_clf.score(X_train, y_train))\n",
    "print(\"test score :\", svm_clf.score(X_test, y_test))\n",
    "\n",
    "from sklearn.model_selection import cross_val_score\n",
    "\n",
    "scores = cross_val_score(svm_clf, X_scaled, y, cv = 5)\n",
    "print(\"cross validation score :\", scores)\n",
    "print(\"mean score :\", scores.mean())"
   ]
  },
  {
   "cell_type": "code",
   "execution_count": 250,
   "id": "67e01d74",
   "metadata": {},
   "outputs": [
    {
     "name": "stdout",
     "output_type": "stream",
     "text": [
      "[0.16609543 0.11239342 0.61272995 0.48386151 0.11734544 0.90151737\n",
      " 0.35110997 0.30575579 0.47578288 0.18566763 0.09942488 0.94335997\n",
      " 0.14722897 0.14534823 0.17405846 0.80896054 0.10314441 0.17142059\n",
      " 0.20490397 0.55639102 0.84931786 0.0905178  0.80899393 0.17705679\n",
      " 0.09685557 0.5        0.69594993 0.12491238 0.65425564 0.58433765\n",
      " 0.26319822 0.23216378 0.17697016 0.14044489 0.23768353 0.44673976\n",
      " 0.81930301 0.8089622  0.30298529 0.13363874 0.14075672 0.11078496\n",
      " 0.28625983 0.20225159 0.13729543 0.17389251 0.21739788 0.18984617\n",
      " 0.70820103 0.26899118 0.37738887 0.10633595 0.26891843 0.52549812\n",
      " 0.09994911 0.13820771 0.07693102 0.29056409 0.72664446 0.55870036\n",
      " 0.77782505 0.80902778 0.12212297 0.13231454 0.27984884 0.11850699\n",
      " 0.88509879 0.51484059 0.88764039 0.17695497 0.15676291 0.80894206\n",
      " 0.44802224 0.17153857 0.07039411 0.1543957  0.09842112 0.38205158\n",
      " 0.09488754 0.43453079 0.07338639 0.1824096  0.13421456 0.1769751\n",
      " 0.30036661 0.45142829 0.29915345 0.45974395 0.15420837 0.17698868\n",
      " 0.09253754 0.08646644 0.12885065 0.15392462 0.12840556 0.12329105\n",
      " 0.5138788  0.1353272  0.09407761 0.75568732 0.17692588 0.43870379\n",
      " 0.17687961 0.24932446 0.07420025 0.27911411 0.09086626 0.10691916\n",
      " 0.81719451 0.10018659 0.17691894 0.80893689 0.33456578 0.607516\n",
      " 0.12752223 0.71736725 0.80880778 0.20028255 0.14405893 0.44316498\n",
      " 0.71036292 0.17692173 0.89756084 0.31579642 0.32177092 0.14766897\n",
      " 0.12579266 0.15244152 0.12848459 0.17700616 0.11979091 0.77159352\n",
      " 0.50767096 0.93201035 0.10535661 0.18447179 0.69156731 0.17692971\n",
      " 0.16475747 0.34560131 0.20689343 0.11266318 0.48872323 0.34188464\n",
      " 0.05917193 0.09099295 0.86983873 0.85607506 0.88661615 0.8477779\n",
      " 0.78110256 0.08072612 0.08385676 0.7378722  0.12585561 0.11572962\n",
      " 0.46040663 0.22548046 0.1768753  0.66694429 0.80896921 0.8089209\n",
      " 0.17691857 0.13931691 0.14335162 0.89680084 0.1842108  0.34112703\n",
      " 0.80901488 0.11879763 0.87190431 0.69781196 0.15751474 0.0726045\n",
      " 0.1380997  0.10168144 0.16094959 0.55241384 0.1556115  0.13463071\n",
      " 0.09862419 0.12583389 0.75576251 0.79538322 0.40235662 0.11865164\n",
      " 0.17700908 0.290954   0.21573475 0.17160265 0.08956839 0.13905678\n",
      " 0.66400464 0.20549069 0.2801282  0.08677679 0.08729133 0.11647563\n",
      " 0.09011485 0.73937272 0.24662775 0.10373013 0.86544268 0.12969766\n",
      " 0.76000274 0.17700417 0.4497381  0.5        0.42989883]\n"
     ]
    },
    {
     "data": {
      "text/html": [
       "<div>\n",
       "<style scoped>\n",
       "    .dataframe tbody tr th:only-of-type {\n",
       "        vertical-align: middle;\n",
       "    }\n",
       "\n",
       "    .dataframe tbody tr th {\n",
       "        vertical-align: top;\n",
       "    }\n",
       "\n",
       "    .dataframe thead th {\n",
       "        text-align: right;\n",
       "    }\n",
       "</style>\n",
       "<table border=\"1\" class=\"dataframe\">\n",
       "  <thead>\n",
       "    <tr style=\"text-align: right;\">\n",
       "      <th></th>\n",
       "      <th>index</th>\n",
       "      <th>FPR</th>\n",
       "      <th>TPR</th>\n",
       "    </tr>\n",
       "  </thead>\n",
       "  <tbody>\n",
       "    <tr>\n",
       "      <th>0</th>\n",
       "      <td>1</td>\n",
       "      <td>0.000000</td>\n",
       "      <td>0.015152</td>\n",
       "    </tr>\n",
       "    <tr>\n",
       "      <th>1</th>\n",
       "      <td>2</td>\n",
       "      <td>0.000000</td>\n",
       "      <td>0.151515</td>\n",
       "    </tr>\n",
       "    <tr>\n",
       "      <th>2</th>\n",
       "      <td>3</td>\n",
       "      <td>0.006993</td>\n",
       "      <td>0.151515</td>\n",
       "    </tr>\n",
       "    <tr>\n",
       "      <th>3</th>\n",
       "      <td>4</td>\n",
       "      <td>0.006993</td>\n",
       "      <td>0.181818</td>\n",
       "    </tr>\n",
       "    <tr>\n",
       "      <th>4</th>\n",
       "      <td>5</td>\n",
       "      <td>0.013986</td>\n",
       "      <td>0.181818</td>\n",
       "    </tr>\n",
       "    <tr>\n",
       "      <th>5</th>\n",
       "      <td>6</td>\n",
       "      <td>0.013986</td>\n",
       "      <td>0.196970</td>\n",
       "    </tr>\n",
       "    <tr>\n",
       "      <th>6</th>\n",
       "      <td>7</td>\n",
       "      <td>0.020979</td>\n",
       "      <td>0.196970</td>\n",
       "    </tr>\n",
       "    <tr>\n",
       "      <th>7</th>\n",
       "      <td>8</td>\n",
       "      <td>0.020979</td>\n",
       "      <td>0.363636</td>\n",
       "    </tr>\n",
       "    <tr>\n",
       "      <th>8</th>\n",
       "      <td>9</td>\n",
       "      <td>0.034965</td>\n",
       "      <td>0.363636</td>\n",
       "    </tr>\n",
       "    <tr>\n",
       "      <th>9</th>\n",
       "      <td>10</td>\n",
       "      <td>0.034965</td>\n",
       "      <td>0.545455</td>\n",
       "    </tr>\n",
       "    <tr>\n",
       "      <th>10</th>\n",
       "      <td>11</td>\n",
       "      <td>0.041958</td>\n",
       "      <td>0.545455</td>\n",
       "    </tr>\n",
       "    <tr>\n",
       "      <th>11</th>\n",
       "      <td>12</td>\n",
       "      <td>0.041958</td>\n",
       "      <td>0.621212</td>\n",
       "    </tr>\n",
       "    <tr>\n",
       "      <th>12</th>\n",
       "      <td>13</td>\n",
       "      <td>0.048951</td>\n",
       "      <td>0.621212</td>\n",
       "    </tr>\n",
       "    <tr>\n",
       "      <th>13</th>\n",
       "      <td>14</td>\n",
       "      <td>0.048951</td>\n",
       "      <td>0.636364</td>\n",
       "    </tr>\n",
       "    <tr>\n",
       "      <th>14</th>\n",
       "      <td>15</td>\n",
       "      <td>0.055944</td>\n",
       "      <td>0.636364</td>\n",
       "    </tr>\n",
       "    <tr>\n",
       "      <th>15</th>\n",
       "      <td>16</td>\n",
       "      <td>0.055944</td>\n",
       "      <td>0.651515</td>\n",
       "    </tr>\n",
       "    <tr>\n",
       "      <th>16</th>\n",
       "      <td>17</td>\n",
       "      <td>0.062937</td>\n",
       "      <td>0.651515</td>\n",
       "    </tr>\n",
       "    <tr>\n",
       "      <th>17</th>\n",
       "      <td>18</td>\n",
       "      <td>0.062937</td>\n",
       "      <td>0.666667</td>\n",
       "    </tr>\n",
       "    <tr>\n",
       "      <th>18</th>\n",
       "      <td>19</td>\n",
       "      <td>0.076923</td>\n",
       "      <td>0.666667</td>\n",
       "    </tr>\n",
       "    <tr>\n",
       "      <th>19</th>\n",
       "      <td>20</td>\n",
       "      <td>0.083916</td>\n",
       "      <td>0.681818</td>\n",
       "    </tr>\n",
       "    <tr>\n",
       "      <th>20</th>\n",
       "      <td>21</td>\n",
       "      <td>0.083916</td>\n",
       "      <td>0.696970</td>\n",
       "    </tr>\n",
       "    <tr>\n",
       "      <th>21</th>\n",
       "      <td>22</td>\n",
       "      <td>0.090909</td>\n",
       "      <td>0.696970</td>\n",
       "    </tr>\n",
       "    <tr>\n",
       "      <th>22</th>\n",
       "      <td>23</td>\n",
       "      <td>0.090909</td>\n",
       "      <td>0.712121</td>\n",
       "    </tr>\n",
       "    <tr>\n",
       "      <th>23</th>\n",
       "      <td>24</td>\n",
       "      <td>0.111888</td>\n",
       "      <td>0.712121</td>\n",
       "    </tr>\n",
       "    <tr>\n",
       "      <th>24</th>\n",
       "      <td>25</td>\n",
       "      <td>0.111888</td>\n",
       "      <td>0.727273</td>\n",
       "    </tr>\n",
       "    <tr>\n",
       "      <th>25</th>\n",
       "      <td>26</td>\n",
       "      <td>0.125874</td>\n",
       "      <td>0.727273</td>\n",
       "    </tr>\n",
       "    <tr>\n",
       "      <th>26</th>\n",
       "      <td>27</td>\n",
       "      <td>0.125874</td>\n",
       "      <td>0.757576</td>\n",
       "    </tr>\n",
       "    <tr>\n",
       "      <th>27</th>\n",
       "      <td>28</td>\n",
       "      <td>0.132867</td>\n",
       "      <td>0.757576</td>\n",
       "    </tr>\n",
       "    <tr>\n",
       "      <th>28</th>\n",
       "      <td>29</td>\n",
       "      <td>0.132867</td>\n",
       "      <td>0.772727</td>\n",
       "    </tr>\n",
       "    <tr>\n",
       "      <th>29</th>\n",
       "      <td>30</td>\n",
       "      <td>0.139860</td>\n",
       "      <td>0.772727</td>\n",
       "    </tr>\n",
       "    <tr>\n",
       "      <th>30</th>\n",
       "      <td>31</td>\n",
       "      <td>0.139860</td>\n",
       "      <td>0.818182</td>\n",
       "    </tr>\n",
       "    <tr>\n",
       "      <th>31</th>\n",
       "      <td>32</td>\n",
       "      <td>0.153846</td>\n",
       "      <td>0.818182</td>\n",
       "    </tr>\n",
       "    <tr>\n",
       "      <th>32</th>\n",
       "      <td>33</td>\n",
       "      <td>0.153846</td>\n",
       "      <td>0.833333</td>\n",
       "    </tr>\n",
       "    <tr>\n",
       "      <th>33</th>\n",
       "      <td>34</td>\n",
       "      <td>0.174825</td>\n",
       "      <td>0.833333</td>\n",
       "    </tr>\n",
       "    <tr>\n",
       "      <th>34</th>\n",
       "      <td>35</td>\n",
       "      <td>0.174825</td>\n",
       "      <td>0.848485</td>\n",
       "    </tr>\n",
       "    <tr>\n",
       "      <th>35</th>\n",
       "      <td>36</td>\n",
       "      <td>0.195804</td>\n",
       "      <td>0.848485</td>\n",
       "    </tr>\n",
       "    <tr>\n",
       "      <th>36</th>\n",
       "      <td>37</td>\n",
       "      <td>0.195804</td>\n",
       "      <td>0.863636</td>\n",
       "    </tr>\n",
       "    <tr>\n",
       "      <th>37</th>\n",
       "      <td>38</td>\n",
       "      <td>0.223776</td>\n",
       "      <td>0.863636</td>\n",
       "    </tr>\n",
       "    <tr>\n",
       "      <th>38</th>\n",
       "      <td>39</td>\n",
       "      <td>0.223776</td>\n",
       "      <td>0.893939</td>\n",
       "    </tr>\n",
       "    <tr>\n",
       "      <th>39</th>\n",
       "      <td>40</td>\n",
       "      <td>0.244755</td>\n",
       "      <td>0.893939</td>\n",
       "    </tr>\n",
       "    <tr>\n",
       "      <th>40</th>\n",
       "      <td>41</td>\n",
       "      <td>0.244755</td>\n",
       "      <td>0.909091</td>\n",
       "    </tr>\n",
       "    <tr>\n",
       "      <th>41</th>\n",
       "      <td>42</td>\n",
       "      <td>0.286713</td>\n",
       "      <td>0.909091</td>\n",
       "    </tr>\n",
       "    <tr>\n",
       "      <th>42</th>\n",
       "      <td>43</td>\n",
       "      <td>0.286713</td>\n",
       "      <td>0.939394</td>\n",
       "    </tr>\n",
       "    <tr>\n",
       "      <th>43</th>\n",
       "      <td>44</td>\n",
       "      <td>0.328671</td>\n",
       "      <td>0.939394</td>\n",
       "    </tr>\n",
       "    <tr>\n",
       "      <th>44</th>\n",
       "      <td>45</td>\n",
       "      <td>0.328671</td>\n",
       "      <td>0.954545</td>\n",
       "    </tr>\n",
       "    <tr>\n",
       "      <th>45</th>\n",
       "      <td>46</td>\n",
       "      <td>0.454545</td>\n",
       "      <td>0.954545</td>\n",
       "    </tr>\n",
       "    <tr>\n",
       "      <th>46</th>\n",
       "      <td>47</td>\n",
       "      <td>0.454545</td>\n",
       "      <td>0.969697</td>\n",
       "    </tr>\n",
       "    <tr>\n",
       "      <th>47</th>\n",
       "      <td>48</td>\n",
       "      <td>0.482517</td>\n",
       "      <td>0.969697</td>\n",
       "    </tr>\n",
       "    <tr>\n",
       "      <th>48</th>\n",
       "      <td>49</td>\n",
       "      <td>0.482517</td>\n",
       "      <td>0.984848</td>\n",
       "    </tr>\n",
       "    <tr>\n",
       "      <th>49</th>\n",
       "      <td>50</td>\n",
       "      <td>0.566434</td>\n",
       "      <td>0.984848</td>\n",
       "    </tr>\n",
       "    <tr>\n",
       "      <th>50</th>\n",
       "      <td>51</td>\n",
       "      <td>0.566434</td>\n",
       "      <td>1.000000</td>\n",
       "    </tr>\n",
       "    <tr>\n",
       "      <th>51</th>\n",
       "      <td>52</td>\n",
       "      <td>1.000000</td>\n",
       "      <td>1.000000</td>\n",
       "    </tr>\n",
       "  </tbody>\n",
       "</table>\n",
       "</div>"
      ],
      "text/plain": [
       "    index       FPR       TPR\n",
       "0       1  0.000000  0.015152\n",
       "1       2  0.000000  0.151515\n",
       "2       3  0.006993  0.151515\n",
       "3       4  0.006993  0.181818\n",
       "4       5  0.013986  0.181818\n",
       "5       6  0.013986  0.196970\n",
       "6       7  0.020979  0.196970\n",
       "7       8  0.020979  0.363636\n",
       "8       9  0.034965  0.363636\n",
       "9      10  0.034965  0.545455\n",
       "10     11  0.041958  0.545455\n",
       "11     12  0.041958  0.621212\n",
       "12     13  0.048951  0.621212\n",
       "13     14  0.048951  0.636364\n",
       "14     15  0.055944  0.636364\n",
       "15     16  0.055944  0.651515\n",
       "16     17  0.062937  0.651515\n",
       "17     18  0.062937  0.666667\n",
       "18     19  0.076923  0.666667\n",
       "19     20  0.083916  0.681818\n",
       "20     21  0.083916  0.696970\n",
       "21     22  0.090909  0.696970\n",
       "22     23  0.090909  0.712121\n",
       "23     24  0.111888  0.712121\n",
       "24     25  0.111888  0.727273\n",
       "25     26  0.125874  0.727273\n",
       "26     27  0.125874  0.757576\n",
       "27     28  0.132867  0.757576\n",
       "28     29  0.132867  0.772727\n",
       "29     30  0.139860  0.772727\n",
       "30     31  0.139860  0.818182\n",
       "31     32  0.153846  0.818182\n",
       "32     33  0.153846  0.833333\n",
       "33     34  0.174825  0.833333\n",
       "34     35  0.174825  0.848485\n",
       "35     36  0.195804  0.848485\n",
       "36     37  0.195804  0.863636\n",
       "37     38  0.223776  0.863636\n",
       "38     39  0.223776  0.893939\n",
       "39     40  0.244755  0.893939\n",
       "40     41  0.244755  0.909091\n",
       "41     42  0.286713  0.909091\n",
       "42     43  0.286713  0.939394\n",
       "43     44  0.328671  0.939394\n",
       "44     45  0.328671  0.954545\n",
       "45     46  0.454545  0.954545\n",
       "46     47  0.454545  0.969697\n",
       "47     48  0.482517  0.969697\n",
       "48     49  0.482517  0.984848\n",
       "49     50  0.566434  0.984848\n",
       "50     51  0.566434  1.000000\n",
       "51     52  1.000000  1.000000"
      ]
     },
     "execution_count": 250,
     "metadata": {},
     "output_type": "execute_result"
    }
   ],
   "source": [
    "from sklearn.metrics import roc_curve\n",
    "\n",
    "pred_proba_class_svm = svm_clf.predict_proba(X_test)[:, 1]\n",
    "print(pred_proba_class_svm)\n",
    "\n",
    "fprs, tprs, thresholds = roc_curve(y_test, pred_proba_class_svm)\n",
    "\n",
    "svm_thr_index = np.arange(1, thresholds.shape[0])\n",
    "\n",
    "pd.DataFrame({'index' : svm_thr_index,\n",
    "              'FPR' : fprs[svm_thr_index],\n",
    "              'TPR' : tprs[svm_thr_index]})"
   ]
  },
  {
   "cell_type": "code",
   "execution_count": 251,
   "id": "ce479ee9",
   "metadata": {},
   "outputs": [
    {
     "data": {
      "image/png": "[encoded data removed]",
      "text/plain": [
       "<Figure size 432x288 with 1 Axes>"
      ]
     },
     "metadata": {
      "needs_background": "light"
     },
     "output_type": "display_data"
    }
   ],
   "source": [
    "import matplotlib.pyplot as plt\n",
    "\n",
    "def roc_curve_plot(y_test, pred_proba_class_svm):\n",
    "    # 임곗값에 따른 FPR, TPR 값\n",
    "    fprs, tprs, thresholds = roc_curve(y_test, pred_proba_class_svm)\n",
    "    # ROC 곡선을 시각화\n",
    "    plt.plot(fprs, tprs, label = 'ROC')\n",
    "    # 가운데 대각선 직선\n",
    "    plt.plot([0,1],[0,1], 'k--', label = 'Random')\n",
    "    \n",
    "    # FPR X 축의 scla 0.1 단위 지정\n",
    "    start, end = plt.xlim()\n",
    "    plt.xticks(np.round(np.arange(start, end, 0.1), 2))\n",
    "    plt.xlim(0, 1)\n",
    "    plt.ylim(0, 1)\n",
    "    plt.xlabel('FPR( 1 - Snesitivity )')\n",
    "    plt.ylabel('TPR( Recall )')\n",
    "    plt.legend()\n",
    "    \n",
    "roc_curve_plot(y_test, pred_proba_class_svm)"
   ]
  },
  {
   "cell_type": "code",
   "execution_count": 252,
   "id": "c141d608",
   "metadata": {},
   "outputs": [
    {
     "name": "stdout",
     "output_type": "stream",
     "text": [
      "ROC AUC Score : 0.9113689340962068\n"
     ]
    }
   ],
   "source": [
    "from sklearn.metrics import roc_auc_score\n",
    "\n",
    "pred_proba_svm = svm_clf.predict_proba(X_test)[:, 1]\n",
    "svm_roc_score = roc_auc_score(y_test, pred_proba_svm)\n",
    "print('ROC AUC Score :', svm_roc_score)"
   ]
  },
  {
   "cell_type": "code",
   "execution_count": 253,
   "id": "bf599d90",
   "metadata": {},
   "outputs": [
    {
     "name": "stdout",
     "output_type": "stream",
     "text": [
      "오차행렬\n",
      "[[131  12]\n",
      " [ 20  46]]\n",
      "정확도 : 0.8469, 정밀도 : 0.7931, 재현율 : 0.6970, F1 : 0.7419, AUC : 0.8065\n"
     ]
    }
   ],
   "source": [
    "from sklearn.metrics import accuracy_score, precision_score, recall_score, roc_auc_score\n",
    "from sklearn.metrics import f1_score, confusion_matrix, precision_recall_curve, roc_curve\n",
    "\n",
    "def get_clf_eval(y_test, svm_pred = None, pred_proba_svm = None):\n",
    "    confusion = confusion_matrix(y_test, svm_pred)\n",
    "    accuracy = accuracy_score(y_test, svm_pred)\n",
    "    precision = precision_score(y_test, svm_pred)\n",
    "    recall = recall_score(y_test, svm_pred)\n",
    "    f1 = f1_score(y_test, svm_pred)\n",
    "    roc_auc = roc_auc_score(y_test, svm_pred)\n",
    "    \n",
    "    print('오차행렬')\n",
    "    print(confusion)\n",
    "    print('정확도 : {0:.4f}, 정밀도 : {1:.4f}, 재현율 : {2:.4f}, F1 : {3:.4f}, AUC : {4:.4f}'\n",
    "          .format(accuracy, precision, recall, f1, roc_auc))\n",
    "    \n",
    "# get_eval_by_threshold()\n",
    "def get_eval_by_threshold(y_test, pred_proba_class_svm, thresholds):\n",
    "    # thresholds list 객체 내의 값을 차례로 iteration하면서 evaluation 수행\n",
    "    for custom_threshold in thresholds:\n",
    "        binarizer = Binarizer(threshold = custom_threshold).fit(pred_proba_class_svm)\n",
    "        custom_predict = binarizer.transform(pred_proba_class_svm)\n",
    "        print(f'임곗값 : {custom_threshold}')\n",
    "        get_clf_eval(y_test, custom_predict)\n",
    "\n",
    "# precision_recall_curve_plot()\n",
    "def precision_recall_curve_plot(y_test, pred_proba_class_svm):\n",
    "    # threshold ndarray와 이 threshold에 따른 정밀도, 재현율 ndarray 추출\n",
    "    precisions, recalls, thresholds = precision_recall_curve(y_test, pred_proba_class_svm)\n",
    "    \n",
    "    # X축을 threshold값으로, Y축은 정밀도, 재현율 값으로 각각 Plot 수행, 정밀도는 점선으로 표시\n",
    "    plt.figure(figsize = (8, 6))\n",
    "    threshold_boundary = thresholds.shape[0]\n",
    "    plt.plot(thresholds, precisions[0 : threshold_boundary], linestyle = '--', label = 'precision')\n",
    "    plt.plot(thresholds, recalls[0 : threshold_boundary], label = 'recall')\n",
    "    \n",
    "    # threshold 값 X축의 scale을 0.1 단위로 변경\n",
    "    start, end = plt.xlim()\n",
    "    plt.xticks(np.round(np.arange(start, end, 0.1), 2))\n",
    "    \n",
    "    # X, Y축 label과 legend, grid 설정\n",
    "    plt.xlabel('Threshold value')\n",
    "    plt.ylabel('Precision and Recall value')\n",
    "    plt.legend()\n",
    "    plt.grid()\n",
    "\n",
    "get_clf_eval(y_test, svm_pred, pred_proba_svm)"
   ]
  },
  {
   "cell_type": "code",
   "execution_count": 254,
   "id": "296dfbba",
   "metadata": {},
   "outputs": [
    {
     "data": {
      "image/png": "[encoded data removed]",
      "text/plain": [
       "<Figure size 576x432 with 1 Axes>"
      ]
     },
     "metadata": {
      "needs_background": "light"
     },
     "output_type": "display_data"
    }
   ],
   "source": [
    "pred_proba_class_svm = svm_clf.predict_proba(X_test)[:, 1]\n",
    "precision_recall_curve_plot(y_test, pred_proba_class_svm)"
   ]
  },
  {
   "cell_type": "code",
   "execution_count": 255,
   "id": "0bdcfd8e",
   "metadata": {},
   "outputs": [
    {
     "name": "stdout",
     "output_type": "stream",
     "text": [
      "[['Glucose', 'BloodPressure', 'SkinThickness', 'Insulin', 'BMI', 'DiabetesPedigreeFunction', 'Age'], ['Pregnancies', 'BloodPressure', 'SkinThickness', 'Insulin', 'BMI', 'DiabetesPedigreeFunction', 'Age'], ['Pregnancies', 'Glucose', 'SkinThickness', 'Insulin', 'BMI', 'DiabetesPedigreeFunction', 'Age'], ['Pregnancies', 'Glucose', 'BloodPressure', 'Insulin', 'BMI', 'DiabetesPedigreeFunction', 'Age'], ['Pregnancies', 'Glucose', 'BloodPressure', 'SkinThickness', 'BMI', 'DiabetesPedigreeFunction', 'Age'], ['Pregnancies', 'Glucose', 'BloodPressure', 'SkinThickness', 'Insulin', 'DiabetesPedigreeFunction', 'Age'], ['Pregnancies', 'Glucose', 'BloodPressure', 'SkinThickness', 'Insulin', 'BMI', 'Age'], ['Pregnancies', 'Glucose', 'BloodPressure', 'SkinThickness', 'Insulin', 'BMI', 'DiabetesPedigreeFunction']]\n"
     ]
    }
   ],
   "source": [
    "# 1개씩 제외한 피쳐 리스트 작성\n",
    "col_list = []\n",
    "for i in range(len(X_scaled.columns)):\n",
    "    tmp_list = X_scaled.columns.tolist()\n",
    "    tmp_list.pop(i)\n",
    "    col_list.append(tmp_list)\n",
    "print(col_list)"
   ]
  },
  {
   "cell_type": "code",
   "execution_count": 256,
   "id": "8ecca9e6",
   "metadata": {
    "scrolled": true
   },
   "outputs": [
    {
     "name": "stdout",
     "output_type": "stream",
     "text": [
      "if  Pregnancies is dropped\n",
      "train score: 0.709278350515464\n",
      "test score: 0.7416267942583732\n",
      "\n",
      "\n",
      "if  Glucose is dropped\n",
      "train score: 0.6597938144329897\n",
      "test score: 0.6842105263157895\n",
      "\n",
      "\n",
      "if  BloodPressure is dropped\n",
      "train score: 0.7505154639175258\n",
      "test score: 0.7559808612440191\n",
      "\n",
      "\n",
      "if  SkinThickness is dropped\n",
      "train score: 0.7278350515463917\n",
      "test score: 0.7368421052631579\n",
      "\n",
      "\n",
      "if  Insulin is dropped\n",
      "train score: 0.7381443298969073\n",
      "test score: 0.7368421052631579\n",
      "\n",
      "\n",
      "if  BMI is dropped\n",
      "train score: 0.709278350515464\n",
      "test score: 0.7320574162679426\n",
      "\n",
      "\n",
      "if  DiabetesPedigreeFunction is dropped\n",
      "train score: 0.7072164948453609\n",
      "test score: 0.7272727272727273\n",
      "\n",
      "\n",
      "if  Age is dropped\n",
      "train score: 0.709278350515464\n",
      "test score: 0.7368421052631579\n",
      "\n",
      "\n"
     ]
    },
    {
     "data": {
      "text/plain": [
       "[('Pregnancies', 0.709278350515464),\n",
       " ('Glucose', 0.6597938144329897),\n",
       " ('BloodPressure', 0.7505154639175258),\n",
       " ('SkinThickness', 0.7278350515463917),\n",
       " ('Insulin', 0.7381443298969073),\n",
       " ('BMI', 0.709278350515464),\n",
       " ('DiabetesPedigreeFunction', 0.7072164948453609),\n",
       " ('Age', 0.709278350515464)]"
      ]
     },
     "execution_count": 256,
     "metadata": {},
     "output_type": "execute_result"
    }
   ],
   "source": [
    "result = []\n",
    "for i in range(len(col_list)):\n",
    "    tmp_X_train = X_train[col_list[i]]\n",
    "    tmp_X_test = X_test[col_list[i]]\n",
    "    \n",
    "    from sklearn import svm\n",
    "    svm_clf = svm.SVC(gamma = 'auto', C = 0.09)\n",
    "    svm_clf.fit(tmp_X_train, y_train)\n",
    "    print(\"if \", X.columns[i], \"is dropped\")\n",
    "    print(\"train score:\", svm_clf.score(tmp_X_train, y_train))  \n",
    "    print(\"test score:\", svm_clf.score(tmp_X_test, y_test))  \n",
    "    print(\"\\n\")\n",
    "    result.append((X.columns[i], svm_clf.score(tmp_X_train, y_train)))\n",
    "\n",
    "result"
   ]
  },
  {
   "cell_type": "code",
   "execution_count": 257,
   "id": "57a3ff52",
   "metadata": {},
   "outputs": [
    {
     "data": {
      "text/plain": [
       "[('Glucose', 0.6597938144329897),\n",
       " ('DiabetesPedigreeFunction', 0.7072164948453609),\n",
       " ('Pregnancies', 0.709278350515464),\n",
       " ('BMI', 0.709278350515464),\n",
       " ('Age', 0.709278350515464),\n",
       " ('SkinThickness', 0.7278350515463917),\n",
       " ('Insulin', 0.7381443298969073),\n",
       " ('BloodPressure', 0.7505154639175258)]"
      ]
     },
     "execution_count": 257,
     "metadata": {},
     "output_type": "execute_result"
    }
   ],
   "source": [
    "result = sorted(result, key = lambda x : x[1])\n",
    "result"
   ]
  },
  {
   "cell_type": "code",
   "execution_count": 258,
   "id": "9eb1f968",
   "metadata": {},
   "outputs": [
    {
     "data": {
      "image/png": "[encoded data removed]",
      "text/plain": [
       "<Figure size 432x288 with 1 Axes>"
      ]
     },
     "metadata": {
      "needs_background": "light"
     },
     "output_type": "display_data"
    }
   ],
   "source": [
    "score_df = pd.DataFrame(result)\n",
    "score_df.columns = ['feature','score']\n",
    "score_df.plot.bar(x = 'feature', y = 'score', color = ['red','gray','gray','gray','gray','gray','gray', 'gray'])\n",
    "plt.ylim(0, 1)\n",
    "plt.show()"
   ]
  },
  {
   "cell_type": "markdown",
   "id": "28bdf692",
   "metadata": {},
   "source": [
    "### Logistic Regression"
   ]
  },
  {
   "cell_type": "code",
   "execution_count": 259,
   "id": "f45c9cc0",
   "metadata": {},
   "outputs": [
    {
     "name": "stdout",
     "output_type": "stream",
     "text": [
      "train score : 0.7731958762886598\n",
      "test score : 0.7703349282296651\n",
      "cross validation score : [0.76978417 0.74820144 0.74820144 0.8057554  0.76811594]\n",
      "mean score : 0.7680116776144301\n"
     ]
    }
   ],
   "source": [
    "# Logistic Regression\n",
    "\n",
    "from sklearn.linear_model import LogisticRegression\n",
    "\n",
    "lr_clf = LogisticRegression(random_state = 0)\n",
    "lr_clf.fit(X_train, y_train)\n",
    "lr_pred = lr_clf.predict(X_test)\n",
    "print(\"train score :\", lr_clf.score(X_train, y_train))\n",
    "print(\"test score :\", lr_clf.score(X_test, y_test))\n",
    "\n",
    "from sklearn.model_selection import cross_val_score\n",
    "\n",
    "scores = cross_val_score(lr_clf, X_scaled, y, cv = 5)\n",
    "print(\"cross validation score :\", scores)\n",
    "print(\"mean score :\", scores.mean())"
   ]
  },
  {
   "cell_type": "code",
   "execution_count": 260,
   "id": "3125ab8a",
   "metadata": {},
   "outputs": [
    {
     "name": "stdout",
     "output_type": "stream",
     "text": [
      "[0.26315639 0.12683446 0.52266508 0.52161195 0.03077468 0.89947712\n",
      " 0.19855944 0.28858834 0.15113024 0.58189371 0.08477387 0.97665432\n",
      " 0.16138631 0.01342584 0.17183006 0.91966074 0.04986688 0.22092892\n",
      " 0.22310654 0.50270835 0.80417237 0.0870787  0.881026   0.35564431\n",
      " 0.03409426 0.72219424 0.49945194 0.11047114 0.54965473 0.71616848\n",
      " 0.38803011 0.10272723 0.50439042 0.12529975 0.29107199 0.34334477\n",
      " 0.91124108 0.77608719 0.56893883 0.03217432 0.09345401 0.03924988\n",
      " 0.52919457 0.15450835 0.0930199  0.37584725 0.44745161 0.3571785\n",
      " 0.86250504 0.40179845 0.36307984 0.02333264 0.43471632 0.89553975\n",
      " 0.04934012 0.2515285  0.11789969 0.40447245 0.67833249 0.59722354\n",
      " 0.78624984 0.97166902 0.22054235 0.05597927 0.40597254 0.1342218\n",
      " 0.92692329 0.20994274 0.92976134 0.38648583 0.06673728 0.88879323\n",
      " 0.78084175 0.20480633 0.06393387 0.08316007 0.07862233 0.39300791\n",
      " 0.10582066 0.66450187 0.06428969 0.12139914 0.09561728 0.08342857\n",
      " 0.54599538 0.75181668 0.42259253 0.37739701 0.16723317 0.08045925\n",
      " 0.09841139 0.07212285 0.06319468 0.11068934 0.02956482 0.14752745\n",
      " 0.32375315 0.10219187 0.01885107 0.78842479 0.16729969 0.48328718\n",
      " 0.25191455 0.35000029 0.06949458 0.05213376 0.05972748 0.05012386\n",
      " 0.82822756 0.04106479 0.24789397 0.95005645 0.50097048 0.51730298\n",
      " 0.03834824 0.21986921 0.96128121 0.61971352 0.03573284 0.31164516\n",
      " 0.38080185 0.21119267 0.90755497 0.34452159 0.83452744 0.1582748\n",
      " 0.14755462 0.16334287 0.07339291 0.26945317 0.23050764 0.87153946\n",
      " 0.4852436  0.87596742 0.09769774 0.29006565 0.76367494 0.26209485\n",
      " 0.11864986 0.49834091 0.32683459 0.01928307 0.59254362 0.33406722\n",
      " 0.07449991 0.08852395 0.9105637  0.65990616 0.96778188 0.9333228\n",
      " 0.98100809 0.17319962 0.04951427 0.91209804 0.20048424 0.22952655\n",
      " 0.52386146 0.25366058 0.05647435 0.40268836 0.83860419 0.74519454\n",
      " 0.11227207 0.20295026 0.14241895 0.9292058  0.29216824 0.35208894\n",
      " 0.88421129 0.04598336 0.81848044 0.50555232 0.11913682 0.05151562\n",
      " 0.04352872 0.02537465 0.32846318 0.21549112 0.21764701 0.08097508\n",
      " 0.01564461 0.13219872 0.62410211 0.63439805 0.40541903 0.05661646\n",
      " 0.28997727 0.38072545 0.27672831 0.15061129 0.02123516 0.20752211\n",
      " 0.56209228 0.10874899 0.2860746  0.04051996 0.03240102 0.07372831\n",
      " 0.02799342 0.73724607 0.4150502  0.04030488 0.82221038 0.27336874\n",
      " 0.59045226 0.26220152 0.42107948 0.44556002 0.18478062]\n"
     ]
    },
    {
     "data": {
      "text/html": [
       "<div>\n",
       "<style scoped>\n",
       "    .dataframe tbody tr th:only-of-type {\n",
       "        vertical-align: middle;\n",
       "    }\n",
       "\n",
       "    .dataframe tbody tr th {\n",
       "        vertical-align: top;\n",
       "    }\n",
       "\n",
       "    .dataframe thead th {\n",
       "        text-align: right;\n",
       "    }\n",
       "</style>\n",
       "<table border=\"1\" class=\"dataframe\">\n",
       "  <thead>\n",
       "    <tr style=\"text-align: right;\">\n",
       "      <th></th>\n",
       "      <th>index</th>\n",
       "      <th>FPR</th>\n",
       "      <th>TPR</th>\n",
       "    </tr>\n",
       "  </thead>\n",
       "  <tbody>\n",
       "    <tr>\n",
       "      <th>0</th>\n",
       "      <td>1</td>\n",
       "      <td>0.006993</td>\n",
       "      <td>0.000000</td>\n",
       "    </tr>\n",
       "    <tr>\n",
       "      <th>1</th>\n",
       "      <td>2</td>\n",
       "      <td>0.006993</td>\n",
       "      <td>0.075758</td>\n",
       "    </tr>\n",
       "    <tr>\n",
       "      <th>2</th>\n",
       "      <td>3</td>\n",
       "      <td>0.013986</td>\n",
       "      <td>0.075758</td>\n",
       "    </tr>\n",
       "    <tr>\n",
       "      <th>3</th>\n",
       "      <td>4</td>\n",
       "      <td>0.013986</td>\n",
       "      <td>0.212121</td>\n",
       "    </tr>\n",
       "    <tr>\n",
       "      <th>4</th>\n",
       "      <td>5</td>\n",
       "      <td>0.020979</td>\n",
       "      <td>0.212121</td>\n",
       "    </tr>\n",
       "    <tr>\n",
       "      <th>...</th>\n",
       "      <td>...</td>\n",
       "      <td>...</td>\n",
       "      <td>...</td>\n",
       "    </tr>\n",
       "    <tr>\n",
       "      <th>58</th>\n",
       "      <td>59</td>\n",
       "      <td>0.615385</td>\n",
       "      <td>0.969697</td>\n",
       "    </tr>\n",
       "    <tr>\n",
       "      <th>59</th>\n",
       "      <td>60</td>\n",
       "      <td>0.615385</td>\n",
       "      <td>0.984848</td>\n",
       "    </tr>\n",
       "    <tr>\n",
       "      <th>60</th>\n",
       "      <td>61</td>\n",
       "      <td>0.818182</td>\n",
       "      <td>0.984848</td>\n",
       "    </tr>\n",
       "    <tr>\n",
       "      <th>61</th>\n",
       "      <td>62</td>\n",
       "      <td>0.818182</td>\n",
       "      <td>1.000000</td>\n",
       "    </tr>\n",
       "    <tr>\n",
       "      <th>62</th>\n",
       "      <td>63</td>\n",
       "      <td>1.000000</td>\n",
       "      <td>1.000000</td>\n",
       "    </tr>\n",
       "  </tbody>\n",
       "</table>\n",
       "<p>63 rows × 3 columns</p>\n",
       "</div>"
      ],
      "text/plain": [
       "    index       FPR       TPR\n",
       "0       1  0.006993  0.000000\n",
       "1       2  0.006993  0.075758\n",
       "2       3  0.013986  0.075758\n",
       "3       4  0.013986  0.212121\n",
       "4       5  0.020979  0.212121\n",
       "..    ...       ...       ...\n",
       "58     59  0.615385  0.969697\n",
       "59     60  0.615385  0.984848\n",
       "60     61  0.818182  0.984848\n",
       "61     62  0.818182  1.000000\n",
       "62     63  1.000000  1.000000\n",
       "\n",
       "[63 rows x 3 columns]"
      ]
     },
     "execution_count": 260,
     "metadata": {},
     "output_type": "execute_result"
    }
   ],
   "source": [
    "from sklearn.metrics import roc_curve\n",
    "\n",
    "pred_proba_class_lr = lr_clf.predict_proba(X_test)[:, 1]\n",
    "print(pred_proba_class_lr)\n",
    "\n",
    "fprs, tprs, thresholds = roc_curve(y_test, pred_proba_class_lr)\n",
    "\n",
    "lr_thr_index = np.arange(1, thresholds.shape[0])\n",
    "\n",
    "pd.DataFrame({'index' : lr_thr_index,\n",
    "              'FPR' : fprs[lr_thr_index],\n",
    "              'TPR' : tprs[lr_thr_index]})"
   ]
  },
  {
   "cell_type": "code",
   "execution_count": 261,
   "id": "8bb55167",
   "metadata": {},
   "outputs": [
    {
     "data": {
      "image/png": "[encoded data removed]",
      "text/plain": [
       "<Figure size 432x288 with 1 Axes>"
      ]
     },
     "metadata": {
      "needs_background": "light"
     },
     "output_type": "display_data"
    }
   ],
   "source": [
    "import matplotlib.pyplot as plt\n",
    "\n",
    "def roc_curve_plot(y_test, pred_proba_class_lr):\n",
    "    # 임곗값에 따른 FPR, TPR 값\n",
    "    fprs, tprs, thresholds = roc_curve(y_test, pred_proba_class_lr)\n",
    "    # ROC 곡선을 시각화\n",
    "    plt.plot(fprs, tprs, label = 'ROC')\n",
    "    # 가운데 대각선 직선\n",
    "    plt.plot([0,1],[0,1], 'k--', label = 'Random')\n",
    "    \n",
    "    # FPR X 축의 scla 0.1 단위 지정\n",
    "    start, end = plt.xlim()\n",
    "    plt.xticks(np.round(np.arange(start, end, 0.1), 2))\n",
    "    plt.xlim(0, 1)\n",
    "    plt.ylim(0, 1)\n",
    "    plt.xlabel('FPR( 1 - Snesitivity )')\n",
    "    plt.ylabel('TPR( Recall )')\n",
    "    plt.legend()\n",
    "    \n",
    "roc_curve_plot(y_test, pred_proba_class_lr)"
   ]
  },
  {
   "cell_type": "code",
   "execution_count": 262,
   "id": "c1bb123c",
   "metadata": {},
   "outputs": [
    {
     "name": "stdout",
     "output_type": "stream",
     "text": [
      "ROC AUC Score : 0.8217842763297308\n"
     ]
    }
   ],
   "source": [
    "from sklearn.metrics import roc_auc_score\n",
    "\n",
    "pred_proba_lr = lr_clf.predict_proba(X_test)[:, 1]\n",
    "lr_roc_score = roc_auc_score(y_test, pred_proba_lr)\n",
    "print('ROC AUC Score :', lr_roc_score)"
   ]
  },
  {
   "cell_type": "code",
   "execution_count": 263,
   "id": "45d67984",
   "metadata": {},
   "outputs": [
    {
     "name": "stdout",
     "output_type": "stream",
     "text": [
      "오차행렬\n",
      "[[121  22]\n",
      " [ 26  40]]\n",
      "정확도 : 0.7703, 정밀도 : 0.6452, 재현율 : 0.6061, F1 : 0.6250, AUC : 0.7261\n"
     ]
    }
   ],
   "source": [
    "from sklearn.metrics import accuracy_score, precision_score, recall_score, roc_auc_score\n",
    "from sklearn.metrics import f1_score, confusion_matrix, precision_recall_curve, roc_curve\n",
    "\n",
    "def get_clf_eval(y_test, lr_pred = None, pred_proba_lr = None):\n",
    "    confusion = confusion_matrix(y_test, lr_pred)\n",
    "    accuracy = accuracy_score(y_test, lr_pred)\n",
    "    precision = precision_score(y_test, lr_pred)\n",
    "    recall = recall_score(y_test, lr_pred)\n",
    "    f1 = f1_score(y_test, lr_pred)\n",
    "    roc_auc = roc_auc_score(y_test, lr_pred)\n",
    "    \n",
    "    print('오차행렬')\n",
    "    print(confusion)\n",
    "    print('정확도 : {0:.4f}, 정밀도 : {1:.4f}, 재현율 : {2:.4f}, F1 : {3:.4f}, AUC : {4:.4f}'\n",
    "          .format(accuracy, precision, recall, f1, roc_auc))\n",
    "    \n",
    "# get_eval_by_threshold()\n",
    "def get_eval_by_threshold(y_test, pred_proba_class_lr, thresholds):\n",
    "    # thresholds list 객체 내의 값을 차례로 iteration하면서 evaluation 수행\n",
    "    for custom_threshold in thresholds:\n",
    "        binarizer = Binarizer(threshold = custom_threshold).fit(pred_proba_class_lr)\n",
    "        custom_predict = binarizer.transform(pred_proba_class_lr)\n",
    "        print(f'임곗값 : {custom_threshold}')\n",
    "        get_clf_eval(y_test, custom_predict)\n",
    "\n",
    "# precision_recall_curve_plot()\n",
    "def precision_recall_curve_plot(y_test, pred_proba_class_lr):\n",
    "    # threshold ndarray와 이 threshold에 따른 정밀도, 재현율 ndarray 추출\n",
    "    precisions, recalls, thresholds = precision_recall_curve(y_test, pred_proba_class_lr)\n",
    "    \n",
    "    # X축을 threshold값으로, Y축은 정밀도, 재현율 값으로 각각 Plot 수행, 정밀도는 점선으로 표시\n",
    "    plt.figure(figsize = (8, 6))\n",
    "    threshold_boundary = thresholds.shape[0]\n",
    "    plt.plot(thresholds, precisions[0 : threshold_boundary], linestyle = '--', label = 'precision')\n",
    "    plt.plot(thresholds, recalls[0 : threshold_boundary], label = 'recall')\n",
    "    \n",
    "    # threshold 값 X축의 scale을 0.1 단위로 변경\n",
    "    start, end = plt.xlim()\n",
    "    plt.xticks(np.round(np.arange(start, end, 0.1), 2))\n",
    "    \n",
    "    # X, Y축 label과 legend, grid 설정\n",
    "    plt.xlabel('Threshold value')\n",
    "    plt.ylabel('Precision and Recall value')\n",
    "    plt.legend()\n",
    "    plt.grid()\n",
    "\n",
    "get_clf_eval(y_test, lr_pred, pred_proba_lr)"
   ]
  },
  {
   "cell_type": "code",
   "execution_count": 264,
   "id": "90758a62",
   "metadata": {},
   "outputs": [
    {
     "data": {
      "image/png": "[encoded data removed]",
      "text/plain": [
       "<Figure size 576x432 with 1 Axes>"
      ]
     },
     "metadata": {
      "needs_background": "light"
     },
     "output_type": "display_data"
    }
   ],
   "source": [
    "pred_proba_class_lr = lr_clf.predict_proba(X_test)[:, 1]\n",
    "precision_recall_curve_plot(y_test, pred_proba_class_lr)"
   ]
  },
  {
   "cell_type": "markdown",
   "id": "ded4b3a8",
   "metadata": {},
   "source": [
    "### Random Forest (n_estimaors = 10)"
   ]
  },
  {
   "cell_type": "code",
   "execution_count": 265,
   "id": "c3bf36e4",
   "metadata": {
    "scrolled": true
   },
   "outputs": [
    {
     "name": "stdout",
     "output_type": "stream",
     "text": [
      "train score : 0.9752577319587629\n",
      "test score : 0.7655502392344498\n",
      "cross validation score : [0.69064748 0.74100719 0.74100719 0.74820144 0.70289855]\n",
      "mean score : 0.7247523720154311\n"
     ]
    }
   ],
   "source": [
    "# Random Forest / n_estimators = 10\n",
    "\n",
    "from sklearn.ensemble import RandomForestClassifier\n",
    "\n",
    "rf10_clf = RandomForestClassifier(n_estimators = 10, random_state = 42, max_features = 4)\n",
    "rf10_clf.fit(X_train, y_train)\n",
    "rf10_pred = rf10_clf.predict(X_test)\n",
    "print(\"train score :\", rf10_clf.score(X_train, y_train))\n",
    "print(\"test score :\", rf10_clf.score(X_test, y_test))\n",
    "\n",
    "from sklearn.model_selection import cross_val_score\n",
    "\n",
    "scores = cross_val_score(rf10_clf, X_scaled, y, cv = 5)\n",
    "print(\"cross validation score :\", scores)\n",
    "print(\"mean score :\", scores.mean())"
   ]
  },
  {
   "cell_type": "code",
   "execution_count": 266,
   "id": "1c46b995",
   "metadata": {},
   "outputs": [
    {
     "name": "stdout",
     "output_type": "stream",
     "text": [
      "[0.2 0.1 0.5 0.7 0.1 0.9 0.6 0.2 0.6 0.6 0.  0.9 0.1 0.  0.1 0.7 0.  0.2\n",
      " 0.1 0.7 1.  0.2 0.5 0.1 0.  0.6 0.7 0.  0.5 0.5 0.4 0.6 0.  0.  0.1 0.5\n",
      " 1.  0.5 0.7 0.  0.  0.  0.4 0.2 0.2 0.2 0.2 0.2 0.6 0.4 0.6 0.1 0.4 0.2\n",
      " 0.  0.5 0.  0.4 0.5 0.2 0.8 0.6 0.6 0.1 0.2 0.5 0.9 0.3 0.9 0.2 0.1 0.4\n",
      " 0.5 0.  0.  0.1 0.  0.7 0.  0.2 0.2 0.1 0.1 0.  0.5 0.7 0.7 0.4 0.2 0.1\n",
      " 0.3 0.2 0.  0.1 0.  0.2 0.5 0.1 0.  0.5 0.2 0.7 0.1 0.1 0.1 0.3 0.  0.\n",
      " 0.8 0.1 0.1 0.8 0.5 0.4 0.  0.4 1.  0.1 0.  0.2 0.4 0.2 0.9 0.1 0.7 0.3\n",
      " 0.1 0.2 0.  0.4 0.1 0.9 0.3 0.7 0.  0.6 0.7 0.2 0.1 0.9 0.3 0.  0.2 0.2\n",
      " 0.  0.  1.  0.8 0.8 1.  1.  0.3 0.  0.4 0.  0.  0.7 0.5 0.1 0.7 0.9 0.9\n",
      " 0.2 0.1 0.4 0.8 0.2 0.1 0.6 0.  0.8 0.5 0.  0.1 0.2 0.  0.  0.6 0.2 0.2\n",
      " 0.  0.1 0.7 0.5 0.5 0.2 0.4 0.1 0.2 0.1 0.  0.1 0.7 0.1 0.5 0.  0.1 0.1\n",
      " 0.  0.6 0.2 0.1 1.  0.  0.6 0.5 0.5 0.3 0.1]\n"
     ]
    },
    {
     "data": {
      "text/html": [
       "<div>\n",
       "<style scoped>\n",
       "    .dataframe tbody tr th:only-of-type {\n",
       "        vertical-align: middle;\n",
       "    }\n",
       "\n",
       "    .dataframe tbody tr th {\n",
       "        vertical-align: top;\n",
       "    }\n",
       "\n",
       "    .dataframe thead th {\n",
       "        text-align: right;\n",
       "    }\n",
       "</style>\n",
       "<table border=\"1\" class=\"dataframe\">\n",
       "  <thead>\n",
       "    <tr style=\"text-align: right;\">\n",
       "      <th></th>\n",
       "      <th>index</th>\n",
       "      <th>FPR</th>\n",
       "      <th>TPR</th>\n",
       "    </tr>\n",
       "  </thead>\n",
       "  <tbody>\n",
       "    <tr>\n",
       "      <th>0</th>\n",
       "      <td>1</td>\n",
       "      <td>0.020979</td>\n",
       "      <td>0.060606</td>\n",
       "    </tr>\n",
       "    <tr>\n",
       "      <th>1</th>\n",
       "      <td>2</td>\n",
       "      <td>0.027972</td>\n",
       "      <td>0.181818</td>\n",
       "    </tr>\n",
       "    <tr>\n",
       "      <th>2</th>\n",
       "      <td>3</td>\n",
       "      <td>0.041958</td>\n",
       "      <td>0.257576</td>\n",
       "    </tr>\n",
       "    <tr>\n",
       "      <th>3</th>\n",
       "      <td>4</td>\n",
       "      <td>0.097902</td>\n",
       "      <td>0.378788</td>\n",
       "    </tr>\n",
       "    <tr>\n",
       "      <th>4</th>\n",
       "      <td>5</td>\n",
       "      <td>0.125874</td>\n",
       "      <td>0.530303</td>\n",
       "    </tr>\n",
       "    <tr>\n",
       "      <th>5</th>\n",
       "      <td>6</td>\n",
       "      <td>0.209790</td>\n",
       "      <td>0.666667</td>\n",
       "    </tr>\n",
       "    <tr>\n",
       "      <th>6</th>\n",
       "      <td>7</td>\n",
       "      <td>0.265734</td>\n",
       "      <td>0.757576</td>\n",
       "    </tr>\n",
       "    <tr>\n",
       "      <th>7</th>\n",
       "      <td>8</td>\n",
       "      <td>0.307692</td>\n",
       "      <td>0.787879</td>\n",
       "    </tr>\n",
       "    <tr>\n",
       "      <th>8</th>\n",
       "      <td>9</td>\n",
       "      <td>0.503497</td>\n",
       "      <td>0.863636</td>\n",
       "    </tr>\n",
       "    <tr>\n",
       "      <th>9</th>\n",
       "      <td>10</td>\n",
       "      <td>0.734266</td>\n",
       "      <td>0.954545</td>\n",
       "    </tr>\n",
       "    <tr>\n",
       "      <th>10</th>\n",
       "      <td>11</td>\n",
       "      <td>1.000000</td>\n",
       "      <td>1.000000</td>\n",
       "    </tr>\n",
       "  </tbody>\n",
       "</table>\n",
       "</div>"
      ],
      "text/plain": [
       "    index       FPR       TPR\n",
       "0       1  0.020979  0.060606\n",
       "1       2  0.027972  0.181818\n",
       "2       3  0.041958  0.257576\n",
       "3       4  0.097902  0.378788\n",
       "4       5  0.125874  0.530303\n",
       "5       6  0.209790  0.666667\n",
       "6       7  0.265734  0.757576\n",
       "7       8  0.307692  0.787879\n",
       "8       9  0.503497  0.863636\n",
       "9      10  0.734266  0.954545\n",
       "10     11  1.000000  1.000000"
      ]
     },
     "execution_count": 266,
     "metadata": {},
     "output_type": "execute_result"
    }
   ],
   "source": [
    "from sklearn.metrics import roc_curve\n",
    "\n",
    "pred_proba_class_rf10 = rf10_clf.predict_proba(X_test)[:, 1]\n",
    "print(pred_proba_class_rf10)\n",
    "\n",
    "fprs, tprs, thresholds = roc_curve(y_test, pred_proba_class_rf10)\n",
    "\n",
    "rf10_thr_index = np.arange(1, thresholds.shape[0])\n",
    "\n",
    "pd.DataFrame({'index' : rf10_thr_index,\n",
    "              'FPR' : fprs[rf10_thr_index],\n",
    "              'TPR' : tprs[rf10_thr_index]})"
   ]
  },
  {
   "cell_type": "code",
   "execution_count": 267,
   "id": "82c9b84d",
   "metadata": {},
   "outputs": [
    {
     "data": {
      "image/png": "[encoded data removed]",
      "text/plain": [
       "<Figure size 432x288 with 1 Axes>"
      ]
     },
     "metadata": {
      "needs_background": "light"
     },
     "output_type": "display_data"
    }
   ],
   "source": [
    "import matplotlib.pyplot as plt\n",
    "\n",
    "def roc_curve_plot(y_test, pred_proba_class_rf10):\n",
    "    # 임곗값에 따른 FPR, TPR 값\n",
    "    fprs, tprs, thresholds = roc_curve(y_test, pred_proba_class_rf10)\n",
    "    # ROC 곡선을 시각화\n",
    "    plt.plot(fprs, tprs, label = 'ROC')\n",
    "    # 가운데 대각선 직선\n",
    "    plt.plot([0,1],[0,1], 'k--', label = 'Random')\n",
    "    \n",
    "    # FPR X 축의 scla 0.1 단위 지정\n",
    "    start, end = plt.xlim()\n",
    "    plt.xticks(np.round(np.arange(start, end, 0.1), 2))\n",
    "    plt.xlim(0, 1)\n",
    "    plt.ylim(0, 1)\n",
    "    plt.xlabel('FPR( 1 - Snesitivity )')\n",
    "    plt.ylabel('TPR( Recall )')\n",
    "    plt.legend()\n",
    "    \n",
    "roc_curve_plot(y_test, pred_proba_class_rf10)"
   ]
  },
  {
   "cell_type": "code",
   "execution_count": 268,
   "id": "eb1eced4",
   "metadata": {},
   "outputs": [
    {
     "name": "stdout",
     "output_type": "stream",
     "text": [
      "ROC AUC Score : 0.7887264250900614\n"
     ]
    }
   ],
   "source": [
    "from sklearn.metrics import roc_auc_score\n",
    "\n",
    "pred_proba_rf10 = rf10_clf.predict_proba(X_test)[:, 1]\n",
    "rf10_roc_score = roc_auc_score(y_test, pred_proba_rf10)\n",
    "print('ROC AUC Score :', rf10_roc_score)"
   ]
  },
  {
   "cell_type": "code",
   "execution_count": 269,
   "id": "f33a44d3",
   "metadata": {},
   "outputs": [
    {
     "name": "stdout",
     "output_type": "stream",
     "text": [
      "오차행렬\n",
      "[[121  22]\n",
      " [ 26  40]]\n",
      "정확도 : 0.7703, 정밀도 : 0.6452, 재현율 : 0.6061, F1 : 0.6250, AUC : 0.7261\n"
     ]
    }
   ],
   "source": [
    "from sklearn.metrics import accuracy_score, precision_score, recall_score, roc_auc_score\n",
    "from sklearn.metrics import f1_score, confusion_matrix, precision_recall_curve, roc_curve\n",
    "\n",
    "def get_clf_eval(y_test, rf10_pred = None, pred_proba_rf10 = None):\n",
    "    confusion = confusion_matrix(y_test, rf10_pred)\n",
    "    accuracy = accuracy_score(y_test, rf10_pred)\n",
    "    precision = precision_score(y_test, rf10_pred)\n",
    "    recall = recall_score(y_test, rf10_pred)\n",
    "    f1 = f1_score(y_test, rf10_pred)\n",
    "    roc_auc = roc_auc_score(y_test, rf10_pred)\n",
    "    \n",
    "    print('오차행렬')\n",
    "    print(confusion)\n",
    "    print('정확도 : {0:.4f}, 정밀도 : {1:.4f}, 재현율 : {2:.4f}, F1 : {3:.4f}, AUC : {4:.4f}'\n",
    "          .format(accuracy, precision, recall, f1, roc_auc))\n",
    "    \n",
    "# get_eval_by_threshold()\n",
    "def get_eval_by_threshold(y_test, pred_proba_class_rf10, thresholds):\n",
    "    # thresholds list 객체 내의 값을 차례로 iteration하면서 evaluation 수행\n",
    "    for custom_threshold in thresholds:\n",
    "        binarizer = Binarizer(threshold = custom_threshold).fit(pred_proba_class_rf10)\n",
    "        custom_predict = binarizer.transform(pred_proba_class_rf10)\n",
    "        print(f'임곗값 : {custom_threshold}')\n",
    "        get_clf_eval(y_test, custom_predict)\n",
    "\n",
    "# precision_recall_curve_plot()\n",
    "def precision_recall_curve_plot(y_test, pred_proba_class_rf10):\n",
    "    # threshold ndarray와 이 threshold에 따른 정밀도, 재현율 ndarray 추출\n",
    "    precisions, recalls, thresholds = precision_recall_curve(y_test, pred_proba_class_rf10)\n",
    "    \n",
    "    # X축을 threshold값으로, Y축은 정밀도, 재현율 값으로 각각 Plot 수행, 정밀도는 점선으로 표시\n",
    "    plt.figure(figsize = (8, 6))\n",
    "    threshold_boundary = thresholds.shape[0]\n",
    "    plt.plot(thresholds, precisions[0 : threshold_boundary], linestyle = '--', label = 'precision')\n",
    "    plt.plot(thresholds, recalls[0 : threshold_boundary], label = 'recall')\n",
    "    \n",
    "    # threshold 값 X축의 scale을 0.1 단위로 변경\n",
    "    start, end = plt.xlim()\n",
    "    plt.xticks(np.round(np.arange(start, end, 0.1), 2))\n",
    "    \n",
    "    # X, Y축 label과 legend, grid 설정\n",
    "    plt.xlabel('Threshold value')\n",
    "    plt.ylabel('Precision and Recall value')\n",
    "    plt.legend()\n",
    "    plt.grid()\n",
    "\n",
    "get_clf_eval(y_test, lr_pred, pred_proba_rf10)"
   ]
  },
  {
   "cell_type": "code",
   "execution_count": 270,
   "id": "1d5852ac",
   "metadata": {
    "scrolled": false
   },
   "outputs": [
    {
     "data": {
      "image/png": "[encoded data removed]",
      "text/plain": [
       "<Figure size 576x432 with 1 Axes>"
      ]
     },
     "metadata": {
      "needs_background": "light"
     },
     "output_type": "display_data"
    }
   ],
   "source": [
    "pred_proba_class_rf10 = rf10_clf.predict_proba(X_test)[:, 1]\n",
    "precision_recall_curve_plot(y_test, pred_proba_class_rf10)"
   ]
  },
  {
   "cell_type": "markdown",
   "id": "a55d1f4a",
   "metadata": {},
   "source": [
    "### Random Forest (n_estimators = 50)"
   ]
  },
  {
   "cell_type": "code",
   "execution_count": 271,
   "id": "4f708936",
   "metadata": {
    "scrolled": true
   },
   "outputs": [
    {
     "name": "stdout",
     "output_type": "stream",
     "text": [
      "train score : 1.0\n",
      "test score : 0.7799043062200957\n",
      "cross validation score : [0.74100719 0.72661871 0.76258993 0.79136691 0.7173913 ]\n",
      "mean score : 0.7477948076321551\n"
     ]
    }
   ],
   "source": [
    "# Random Forest / n_estimators = 50\n",
    "\n",
    "from sklearn.ensemble import RandomForestClassifier\n",
    "\n",
    "rf50_clf = RandomForestClassifier(n_estimators = 50, random_state = 42, max_features = 4)\n",
    "rf50_clf.fit(X_train, y_train)\n",
    "rf50_pred = rf50_clf.predict(X_test)\n",
    "print(\"train score :\", rf50_clf.score(X_train, y_train))\n",
    "print(\"test score :\", rf50_clf.score(X_test, y_test))\n",
    "\n",
    "from sklearn.model_selection import cross_val_score\n",
    "\n",
    "scores = cross_val_score(rf50_clf, X_scaled, y, cv = 5)\n",
    "print(\"cross validation score :\", scores)\n",
    "print(\"mean score :\", scores.mean())"
   ]
  },
  {
   "cell_type": "code",
   "execution_count": 272,
   "id": "2f51a639",
   "metadata": {
    "scrolled": true
   },
   "outputs": [
    {
     "name": "stdout",
     "output_type": "stream",
     "text": [
      "[0.26 0.12 0.48 0.5  0.14 0.86 0.66 0.24 0.58 0.58 0.   0.96 0.14 0.\n",
      " 0.06 0.66 0.04 0.16 0.08 0.52 0.76 0.16 0.5  0.1  0.   0.5  0.56 0.08\n",
      " 0.72 0.54 0.48 0.5  0.24 0.1  0.14 0.46 0.9  0.58 0.66 0.02 0.08 0.02\n",
      " 0.42 0.18 0.12 0.24 0.4  0.46 0.44 0.38 0.5  0.04 0.42 0.34 0.1  0.2\n",
      " 0.1  0.34 0.54 0.3  0.88 0.7  0.44 0.04 0.3  0.38 0.92 0.42 0.98 0.2\n",
      " 0.14 0.6  0.64 0.02 0.04 0.08 0.04 0.48 0.02 0.32 0.06 0.06 0.06 0.1\n",
      " 0.46 0.64 0.52 0.4  0.24 0.08 0.16 0.14 0.02 0.12 0.02 0.1  0.5  0.14\n",
      " 0.   0.52 0.2  0.62 0.1  0.34 0.04 0.34 0.   0.   0.68 0.08 0.12 0.66\n",
      " 0.62 0.3  0.16 0.52 0.96 0.36 0.02 0.44 0.36 0.38 0.88 0.2  0.62 0.28\n",
      " 0.12 0.26 0.02 0.56 0.2  0.6  0.56 0.82 0.04 0.46 0.64 0.2  0.08 0.64\n",
      " 0.16 0.   0.38 0.14 0.   0.1  0.92 0.78 0.88 0.88 0.92 0.24 0.06 0.56\n",
      " 0.08 0.06 0.78 0.38 0.16 0.74 0.84 0.8  0.1  0.06 0.3  0.9  0.18 0.4\n",
      " 0.76 0.   0.8  0.64 0.06 0.18 0.1  0.   0.1  0.52 0.18 0.08 0.02 0.04\n",
      " 0.74 0.72 0.58 0.18 0.18 0.34 0.18 0.08 0.   0.08 0.76 0.04 0.44 0.\n",
      " 0.16 0.04 0.02 0.62 0.3  0.08 0.94 0.08 0.66 0.36 0.5  0.36 0.34]\n"
     ]
    },
    {
     "data": {
      "text/html": [
       "<div>\n",
       "<style scoped>\n",
       "    .dataframe tbody tr th:only-of-type {\n",
       "        vertical-align: middle;\n",
       "    }\n",
       "\n",
       "    .dataframe tbody tr th {\n",
       "        vertical-align: top;\n",
       "    }\n",
       "\n",
       "    .dataframe thead th {\n",
       "        text-align: right;\n",
       "    }\n",
       "</style>\n",
       "<table border=\"1\" class=\"dataframe\">\n",
       "  <thead>\n",
       "    <tr style=\"text-align: right;\">\n",
       "      <th></th>\n",
       "      <th>index</th>\n",
       "      <th>FPR</th>\n",
       "      <th>TPR</th>\n",
       "    </tr>\n",
       "  </thead>\n",
       "  <tbody>\n",
       "    <tr>\n",
       "      <th>0</th>\n",
       "      <td>1</td>\n",
       "      <td>0.000000</td>\n",
       "      <td>0.015152</td>\n",
       "    </tr>\n",
       "    <tr>\n",
       "      <th>1</th>\n",
       "      <td>2</td>\n",
       "      <td>0.000000</td>\n",
       "      <td>0.045455</td>\n",
       "    </tr>\n",
       "    <tr>\n",
       "      <th>2</th>\n",
       "      <td>3</td>\n",
       "      <td>0.006993</td>\n",
       "      <td>0.045455</td>\n",
       "    </tr>\n",
       "    <tr>\n",
       "      <th>3</th>\n",
       "      <td>4</td>\n",
       "      <td>0.013986</td>\n",
       "      <td>0.075758</td>\n",
       "    </tr>\n",
       "    <tr>\n",
       "      <th>4</th>\n",
       "      <td>5</td>\n",
       "      <td>0.013986</td>\n",
       "      <td>0.106061</td>\n",
       "    </tr>\n",
       "    <tr>\n",
       "      <th>5</th>\n",
       "      <td>6</td>\n",
       "      <td>0.027972</td>\n",
       "      <td>0.136364</td>\n",
       "    </tr>\n",
       "    <tr>\n",
       "      <th>6</th>\n",
       "      <td>7</td>\n",
       "      <td>0.027972</td>\n",
       "      <td>0.181818</td>\n",
       "    </tr>\n",
       "    <tr>\n",
       "      <th>7</th>\n",
       "      <td>8</td>\n",
       "      <td>0.027972</td>\n",
       "      <td>0.212121</td>\n",
       "    </tr>\n",
       "    <tr>\n",
       "      <th>8</th>\n",
       "      <td>9</td>\n",
       "      <td>0.034965</td>\n",
       "      <td>0.227273</td>\n",
       "    </tr>\n",
       "    <tr>\n",
       "      <th>9</th>\n",
       "      <td>10</td>\n",
       "      <td>0.034965</td>\n",
       "      <td>0.272727</td>\n",
       "    </tr>\n",
       "    <tr>\n",
       "      <th>10</th>\n",
       "      <td>11</td>\n",
       "      <td>0.034965</td>\n",
       "      <td>0.333333</td>\n",
       "    </tr>\n",
       "    <tr>\n",
       "      <th>11</th>\n",
       "      <td>12</td>\n",
       "      <td>0.034965</td>\n",
       "      <td>0.348485</td>\n",
       "    </tr>\n",
       "    <tr>\n",
       "      <th>12</th>\n",
       "      <td>13</td>\n",
       "      <td>0.041958</td>\n",
       "      <td>0.348485</td>\n",
       "    </tr>\n",
       "    <tr>\n",
       "      <th>13</th>\n",
       "      <td>14</td>\n",
       "      <td>0.048951</td>\n",
       "      <td>0.409091</td>\n",
       "    </tr>\n",
       "    <tr>\n",
       "      <th>14</th>\n",
       "      <td>15</td>\n",
       "      <td>0.076923</td>\n",
       "      <td>0.424242</td>\n",
       "    </tr>\n",
       "    <tr>\n",
       "      <th>15</th>\n",
       "      <td>16</td>\n",
       "      <td>0.090909</td>\n",
       "      <td>0.454545</td>\n",
       "    </tr>\n",
       "    <tr>\n",
       "      <th>16</th>\n",
       "      <td>17</td>\n",
       "      <td>0.090909</td>\n",
       "      <td>0.484848</td>\n",
       "    </tr>\n",
       "    <tr>\n",
       "      <th>17</th>\n",
       "      <td>18</td>\n",
       "      <td>0.118881</td>\n",
       "      <td>0.545455</td>\n",
       "    </tr>\n",
       "    <tr>\n",
       "      <th>18</th>\n",
       "      <td>19</td>\n",
       "      <td>0.125874</td>\n",
       "      <td>0.560606</td>\n",
       "    </tr>\n",
       "    <tr>\n",
       "      <th>19</th>\n",
       "      <td>20</td>\n",
       "      <td>0.139860</td>\n",
       "      <td>0.606061</td>\n",
       "    </tr>\n",
       "    <tr>\n",
       "      <th>20</th>\n",
       "      <td>21</td>\n",
       "      <td>0.160839</td>\n",
       "      <td>0.666667</td>\n",
       "    </tr>\n",
       "    <tr>\n",
       "      <th>21</th>\n",
       "      <td>22</td>\n",
       "      <td>0.167832</td>\n",
       "      <td>0.696970</td>\n",
       "    </tr>\n",
       "    <tr>\n",
       "      <th>22</th>\n",
       "      <td>23</td>\n",
       "      <td>0.195804</td>\n",
       "      <td>0.696970</td>\n",
       "    </tr>\n",
       "    <tr>\n",
       "      <th>23</th>\n",
       "      <td>24</td>\n",
       "      <td>0.209790</td>\n",
       "      <td>0.727273</td>\n",
       "    </tr>\n",
       "    <tr>\n",
       "      <th>24</th>\n",
       "      <td>25</td>\n",
       "      <td>0.237762</td>\n",
       "      <td>0.757576</td>\n",
       "    </tr>\n",
       "    <tr>\n",
       "      <th>25</th>\n",
       "      <td>26</td>\n",
       "      <td>0.258741</td>\n",
       "      <td>0.787879</td>\n",
       "    </tr>\n",
       "    <tr>\n",
       "      <th>26</th>\n",
       "      <td>27</td>\n",
       "      <td>0.279720</td>\n",
       "      <td>0.803030</td>\n",
       "    </tr>\n",
       "    <tr>\n",
       "      <th>27</th>\n",
       "      <td>28</td>\n",
       "      <td>0.300699</td>\n",
       "      <td>0.848485</td>\n",
       "    </tr>\n",
       "    <tr>\n",
       "      <th>28</th>\n",
       "      <td>29</td>\n",
       "      <td>0.307692</td>\n",
       "      <td>0.848485</td>\n",
       "    </tr>\n",
       "    <tr>\n",
       "      <th>29</th>\n",
       "      <td>30</td>\n",
       "      <td>0.321678</td>\n",
       "      <td>0.893939</td>\n",
       "    </tr>\n",
       "    <tr>\n",
       "      <th>30</th>\n",
       "      <td>31</td>\n",
       "      <td>0.328671</td>\n",
       "      <td>0.893939</td>\n",
       "    </tr>\n",
       "    <tr>\n",
       "      <th>31</th>\n",
       "      <td>32</td>\n",
       "      <td>0.342657</td>\n",
       "      <td>0.893939</td>\n",
       "    </tr>\n",
       "    <tr>\n",
       "      <th>32</th>\n",
       "      <td>33</td>\n",
       "      <td>0.370629</td>\n",
       "      <td>0.909091</td>\n",
       "    </tr>\n",
       "    <tr>\n",
       "      <th>33</th>\n",
       "      <td>34</td>\n",
       "      <td>0.412587</td>\n",
       "      <td>0.909091</td>\n",
       "    </tr>\n",
       "    <tr>\n",
       "      <th>34</th>\n",
       "      <td>35</td>\n",
       "      <td>0.559441</td>\n",
       "      <td>0.909091</td>\n",
       "    </tr>\n",
       "    <tr>\n",
       "      <th>35</th>\n",
       "      <td>36</td>\n",
       "      <td>0.594406</td>\n",
       "      <td>0.909091</td>\n",
       "    </tr>\n",
       "    <tr>\n",
       "      <th>36</th>\n",
       "      <td>37</td>\n",
       "      <td>0.664336</td>\n",
       "      <td>0.924242</td>\n",
       "    </tr>\n",
       "    <tr>\n",
       "      <th>37</th>\n",
       "      <td>38</td>\n",
       "      <td>0.748252</td>\n",
       "      <td>0.939394</td>\n",
       "    </tr>\n",
       "    <tr>\n",
       "      <th>38</th>\n",
       "      <td>39</td>\n",
       "      <td>0.790210</td>\n",
       "      <td>0.969697</td>\n",
       "    </tr>\n",
       "    <tr>\n",
       "      <th>39</th>\n",
       "      <td>40</td>\n",
       "      <td>0.916084</td>\n",
       "      <td>1.000000</td>\n",
       "    </tr>\n",
       "    <tr>\n",
       "      <th>40</th>\n",
       "      <td>41</td>\n",
       "      <td>1.000000</td>\n",
       "      <td>1.000000</td>\n",
       "    </tr>\n",
       "  </tbody>\n",
       "</table>\n",
       "</div>"
      ],
      "text/plain": [
       "    index       FPR       TPR\n",
       "0       1  0.000000  0.015152\n",
       "1       2  0.000000  0.045455\n",
       "2       3  0.006993  0.045455\n",
       "3       4  0.013986  0.075758\n",
       "4       5  0.013986  0.106061\n",
       "5       6  0.027972  0.136364\n",
       "6       7  0.027972  0.181818\n",
       "7       8  0.027972  0.212121\n",
       "8       9  0.034965  0.227273\n",
       "9      10  0.034965  0.272727\n",
       "10     11  0.034965  0.333333\n",
       "11     12  0.034965  0.348485\n",
       "12     13  0.041958  0.348485\n",
       "13     14  0.048951  0.409091\n",
       "14     15  0.076923  0.424242\n",
       "15     16  0.090909  0.454545\n",
       "16     17  0.090909  0.484848\n",
       "17     18  0.118881  0.545455\n",
       "18     19  0.125874  0.560606\n",
       "19     20  0.139860  0.606061\n",
       "20     21  0.160839  0.666667\n",
       "21     22  0.167832  0.696970\n",
       "22     23  0.195804  0.696970\n",
       "23     24  0.209790  0.727273\n",
       "24     25  0.237762  0.757576\n",
       "25     26  0.258741  0.787879\n",
       "26     27  0.279720  0.803030\n",
       "27     28  0.300699  0.848485\n",
       "28     29  0.307692  0.848485\n",
       "29     30  0.321678  0.893939\n",
       "30     31  0.328671  0.893939\n",
       "31     32  0.342657  0.893939\n",
       "32     33  0.370629  0.909091\n",
       "33     34  0.412587  0.909091\n",
       "34     35  0.559441  0.909091\n",
       "35     36  0.594406  0.909091\n",
       "36     37  0.664336  0.924242\n",
       "37     38  0.748252  0.939394\n",
       "38     39  0.790210  0.969697\n",
       "39     40  0.916084  1.000000\n",
       "40     41  1.000000  1.000000"
      ]
     },
     "execution_count": 272,
     "metadata": {},
     "output_type": "execute_result"
    }
   ],
   "source": [
    "from sklearn.metrics import roc_curve\n",
    "\n",
    "pred_proba_class_rf50 = rf50_clf.predict_proba(X_test)[:, 1]\n",
    "print(pred_proba_class_rf50)\n",
    "\n",
    "fprs, tprs, thresholds = roc_curve(y_test, pred_proba_class_rf50)\n",
    "\n",
    "rf50_thr_index = np.arange(1, thresholds.shape[0])\n",
    "\n",
    "pd.DataFrame({'index' : rf50_thr_index,\n",
    "              'FPR' : fprs[rf50_thr_index],\n",
    "              'TPR' : tprs[rf50_thr_index]})"
   ]
  },
  {
   "cell_type": "code",
   "execution_count": 273,
   "id": "0d984244",
   "metadata": {},
   "outputs": [
    {
     "data": {
      "image/png": "[encoded data removed]",
      "text/plain": [
       "<Figure size 432x288 with 1 Axes>"
      ]
     },
     "metadata": {
      "needs_background": "light"
     },
     "output_type": "display_data"
    }
   ],
   "source": [
    "import matplotlib.pyplot as plt\n",
    "\n",
    "def roc_curve_plot(y_test, pred_proba_class_rf50):\n",
    "    # 임곗값에 따른 FPR, TPR 값\n",
    "    fprs, tprs, thresholds = roc_curve(y_test, pred_proba_class_rf50)\n",
    "    # ROC 곡선을 시각화\n",
    "    plt.plot(fprs, tprs, label = 'ROC')\n",
    "    # 가운데 대각선 직선\n",
    "    plt.plot([0,1],[0,1], 'k--', label = 'Random')\n",
    "    \n",
    "    # FPR X 축의 scla 0.1 단위 지정\n",
    "    start, end = plt.xlim()\n",
    "    plt.xticks(np.round(np.arange(start, end, 0.1), 2))\n",
    "    plt.xlim(0, 1)\n",
    "    plt.ylim(0, 1)\n",
    "    plt.xlabel('FPR( 1 - Snesitivity )')\n",
    "    plt.ylabel('TPR( Recall )')\n",
    "    plt.legend()\n",
    "    \n",
    "roc_curve_plot(y_test, pred_proba_class_rf50)"
   ]
  },
  {
   "cell_type": "code",
   "execution_count": 274,
   "id": "7abed6b9",
   "metadata": {},
   "outputs": [
    {
     "name": "stdout",
     "output_type": "stream",
     "text": [
      "ROC AUC Score : 0.8276117821572366\n"
     ]
    }
   ],
   "source": [
    "from sklearn.metrics import roc_auc_score\n",
    "\n",
    "pred_proba_rf50 = rf50_clf.predict_proba(X_test)[:, 1]\n",
    "rf50_roc_score = roc_auc_score(y_test, pred_proba_rf50)\n",
    "print('ROC AUC Score :', rf50_roc_score)"
   ]
  },
  {
   "cell_type": "code",
   "execution_count": 275,
   "id": "19d0a765",
   "metadata": {},
   "outputs": [
    {
     "name": "stdout",
     "output_type": "stream",
     "text": [
      "오차행렬\n",
      "[[121  22]\n",
      " [ 26  40]]\n",
      "정확도 : 0.7703, 정밀도 : 0.6452, 재현율 : 0.6061, F1 : 0.6250, AUC : 0.7261\n"
     ]
    }
   ],
   "source": [
    "from sklearn.metrics import accuracy_score, precision_score, recall_score, roc_auc_score\n",
    "from sklearn.metrics import f1_score, confusion_matrix, precision_recall_curve, roc_curve\n",
    "\n",
    "def get_clf_eval(y_test, rf50_pred = None, pred_proba_rf50 = None):\n",
    "    confusion = confusion_matrix(y_test, rf50_pred)\n",
    "    accuracy = accuracy_score(y_test, rf50_pred)\n",
    "    precision = precision_score(y_test, rf50_pred)\n",
    "    recall = recall_score(y_test, rf50_pred)\n",
    "    f1 = f1_score(y_test, rf50_pred)\n",
    "    roc_auc = roc_auc_score(y_test, rf50_pred)\n",
    "    \n",
    "    print('오차행렬')\n",
    "    print(confusion)\n",
    "    print('정확도 : {0:.4f}, 정밀도 : {1:.4f}, 재현율 : {2:.4f}, F1 : {3:.4f}, AUC : {4:.4f}'\n",
    "          .format(accuracy, precision, recall, f1, roc_auc))\n",
    "    \n",
    "# get_eval_by_threshold()\n",
    "def get_eval_by_threshold(y_test, pred_proba_class_rf50, thresholds):\n",
    "    # thresholds list 객체 내의 값을 차례로 iteration하면서 evaluation 수행\n",
    "    for custom_threshold in thresholds:\n",
    "        binarizer = Binarizer(threshold = custom_threshold).fit(pred_proba_class_rf50)\n",
    "        custom_predict = binarizer.transform(pred_proba_class_rf50)\n",
    "        print(f'임곗값 : {custom_threshold}')\n",
    "        get_clf_eval(y_test, custom_predict)\n",
    "\n",
    "# precision_recall_curve_plot()\n",
    "def precision_recall_curve_plot(y_test, pred_proba_class_rf50):\n",
    "    # threshold ndarray와 이 threshold에 따른 정밀도, 재현율 ndarray 추출\n",
    "    precisions, recalls, thresholds = precision_recall_curve(y_test, pred_proba_class_rf50)\n",
    "    \n",
    "    # X축을 threshold값으로, Y축은 정밀도, 재현율 값으로 각각 Plot 수행, 정밀도는 점선으로 표시\n",
    "    plt.figure(figsize = (8, 6))\n",
    "    threshold_boundary = thresholds.shape[0]\n",
    "    plt.plot(thresholds, precisions[0 : threshold_boundary], linestyle = '--', label = 'precision')\n",
    "    plt.plot(thresholds, recalls[0 : threshold_boundary], label = 'recall')\n",
    "    \n",
    "    # threshold 값 X축의 scale을 0.1 단위로 변경\n",
    "    start, end = plt.xlim()\n",
    "    plt.xticks(np.round(np.arange(start, end, 0.1), 2))\n",
    "    \n",
    "    # X, Y축 label과 legend, grid 설정\n",
    "    plt.xlabel('Threshold value')\n",
    "    plt.ylabel('Precision and Recall value')\n",
    "    plt.legend()\n",
    "    plt.grid()\n",
    "\n",
    "get_clf_eval(y_test, lr_pred, pred_proba_rf50)"
   ]
  },
  {
   "cell_type": "code",
   "execution_count": 276,
   "id": "6fc8e979",
   "metadata": {},
   "outputs": [
    {
     "data": {
      "image/png": "[encoded data removed]",
      "text/plain": [
       "<Figure size 576x432 with 1 Axes>"
      ]
     },
     "metadata": {
      "needs_background": "light"
     },
     "output_type": "display_data"
    }
   ],
   "source": [
    "pred_proba_class_rf50 = rf50_clf.predict_proba(X_test)[:, 1]\n",
    "precision_recall_curve_plot(y_test, pred_proba_class_rf50)"
   ]
  },
  {
   "cell_type": "markdown",
   "id": "eeb6658e",
   "metadata": {},
   "source": [
    "### Random Forest (n_estimaors = 100)"
   ]
  },
  {
   "cell_type": "code",
   "execution_count": 277,
   "id": "1735ab58",
   "metadata": {},
   "outputs": [
    {
     "name": "stdout",
     "output_type": "stream",
     "text": [
      "train score : 1.0\n",
      "test score : 0.7942583732057417\n",
      "cross validation score : [0.73381295 0.72661871 0.74100719 0.79136691 0.73188406]\n",
      "mean score : 0.7449379626733397\n"
     ]
    }
   ],
   "source": [
    "# Random Forest / n_estimators = 100\n",
    "\n",
    "from sklearn.ensemble import RandomForestClassifier\n",
    "\n",
    "rf100_clf = RandomForestClassifier(n_estimators = 100, random_state = 42, max_features = 4)\n",
    "rf100_clf.fit(X_train, y_train)\n",
    "rf100_pred = rf100_clf.predict(X_test)\n",
    "print(\"train score :\", rf100_clf.score(X_train, y_train))\n",
    "print(\"test score :\", rf100_clf.score(X_test, y_test))\n",
    "\n",
    "from sklearn.model_selection import cross_val_score\n",
    "\n",
    "scores = cross_val_score(rf100_clf, X_scaled, y, cv = 5)\n",
    "print(\"cross validation score :\", scores)\n",
    "print(\"mean score :\", scores.mean())"
   ]
  },
  {
   "cell_type": "code",
   "execution_count": 278,
   "id": "7bdfed80",
   "metadata": {},
   "outputs": [
    {
     "name": "stdout",
     "output_type": "stream",
     "text": [
      "[0.22 0.12 0.52 0.47 0.12 0.88 0.63 0.2  0.56 0.56 0.02 0.96 0.21 0.\n",
      " 0.07 0.7  0.04 0.15 0.07 0.51 0.78 0.15 0.46 0.1  0.   0.52 0.55 0.16\n",
      " 0.72 0.45 0.43 0.39 0.22 0.07 0.19 0.48 0.91 0.59 0.65 0.01 0.07 0.01\n",
      " 0.38 0.13 0.24 0.24 0.41 0.46 0.41 0.41 0.52 0.03 0.5  0.39 0.08 0.21\n",
      " 0.08 0.32 0.46 0.33 0.82 0.72 0.47 0.03 0.31 0.29 0.93 0.44 0.93 0.21\n",
      " 0.1  0.67 0.6  0.05 0.02 0.05 0.06 0.46 0.08 0.34 0.07 0.05 0.1  0.11\n",
      " 0.54 0.63 0.5  0.44 0.23 0.09 0.13 0.12 0.02 0.13 0.05 0.14 0.48 0.15\n",
      " 0.   0.51 0.19 0.55 0.1  0.39 0.04 0.31 0.01 0.   0.6  0.05 0.19 0.66\n",
      " 0.6  0.4  0.16 0.49 0.89 0.37 0.02 0.45 0.44 0.38 0.92 0.16 0.68 0.29\n",
      " 0.1  0.3  0.01 0.56 0.29 0.63 0.59 0.78 0.06 0.4  0.64 0.18 0.07 0.6\n",
      " 0.19 0.02 0.38 0.15 0.01 0.06 0.92 0.79 0.86 0.87 0.85 0.22 0.05 0.58\n",
      " 0.07 0.1  0.81 0.45 0.12 0.74 0.85 0.73 0.13 0.06 0.27 0.89 0.22 0.32\n",
      " 0.77 0.01 0.86 0.59 0.06 0.18 0.12 0.   0.15 0.49 0.21 0.12 0.01 0.03\n",
      " 0.71 0.73 0.46 0.25 0.12 0.36 0.19 0.15 0.   0.13 0.78 0.06 0.41 0.\n",
      " 0.1  0.02 0.02 0.58 0.3  0.09 0.93 0.07 0.69 0.37 0.53 0.32 0.3 ]\n"
     ]
    },
    {
     "data": {
      "text/html": [
       "<div>\n",
       "<style scoped>\n",
       "    .dataframe tbody tr th:only-of-type {\n",
       "        vertical-align: middle;\n",
       "    }\n",
       "\n",
       "    .dataframe tbody tr th {\n",
       "        vertical-align: top;\n",
       "    }\n",
       "\n",
       "    .dataframe thead th {\n",
       "        text-align: right;\n",
       "    }\n",
       "</style>\n",
       "<table border=\"1\" class=\"dataframe\">\n",
       "  <thead>\n",
       "    <tr style=\"text-align: right;\">\n",
       "      <th></th>\n",
       "      <th>index</th>\n",
       "      <th>FPR</th>\n",
       "      <th>TPR</th>\n",
       "    </tr>\n",
       "  </thead>\n",
       "  <tbody>\n",
       "    <tr>\n",
       "      <th>0</th>\n",
       "      <td>1</td>\n",
       "      <td>0.000000</td>\n",
       "      <td>0.015152</td>\n",
       "    </tr>\n",
       "    <tr>\n",
       "      <th>1</th>\n",
       "      <td>2</td>\n",
       "      <td>0.006993</td>\n",
       "      <td>0.045455</td>\n",
       "    </tr>\n",
       "    <tr>\n",
       "      <th>2</th>\n",
       "      <td>3</td>\n",
       "      <td>0.006993</td>\n",
       "      <td>0.075758</td>\n",
       "    </tr>\n",
       "    <tr>\n",
       "      <th>3</th>\n",
       "      <td>4</td>\n",
       "      <td>0.006993</td>\n",
       "      <td>0.090909</td>\n",
       "    </tr>\n",
       "    <tr>\n",
       "      <th>4</th>\n",
       "      <td>5</td>\n",
       "      <td>0.006993</td>\n",
       "      <td>0.121212</td>\n",
       "    </tr>\n",
       "    <tr>\n",
       "      <th>...</th>\n",
       "      <td>...</td>\n",
       "      <td>...</td>\n",
       "      <td>...</td>\n",
       "    </tr>\n",
       "    <tr>\n",
       "      <th>63</th>\n",
       "      <td>64</td>\n",
       "      <td>0.762238</td>\n",
       "      <td>0.939394</td>\n",
       "    </tr>\n",
       "    <tr>\n",
       "      <th>64</th>\n",
       "      <td>65</td>\n",
       "      <td>0.818182</td>\n",
       "      <td>1.000000</td>\n",
       "    </tr>\n",
       "    <tr>\n",
       "      <th>65</th>\n",
       "      <td>66</td>\n",
       "      <td>0.832168</td>\n",
       "      <td>1.000000</td>\n",
       "    </tr>\n",
       "    <tr>\n",
       "      <th>66</th>\n",
       "      <td>67</td>\n",
       "      <td>0.853147</td>\n",
       "      <td>1.000000</td>\n",
       "    </tr>\n",
       "    <tr>\n",
       "      <th>67</th>\n",
       "      <td>68</td>\n",
       "      <td>1.000000</td>\n",
       "      <td>1.000000</td>\n",
       "    </tr>\n",
       "  </tbody>\n",
       "</table>\n",
       "<p>68 rows × 3 columns</p>\n",
       "</div>"
      ],
      "text/plain": [
       "    index       FPR       TPR\n",
       "0       1  0.000000  0.015152\n",
       "1       2  0.006993  0.045455\n",
       "2       3  0.006993  0.075758\n",
       "3       4  0.006993  0.090909\n",
       "4       5  0.006993  0.121212\n",
       "..    ...       ...       ...\n",
       "63     64  0.762238  0.939394\n",
       "64     65  0.818182  1.000000\n",
       "65     66  0.832168  1.000000\n",
       "66     67  0.853147  1.000000\n",
       "67     68  1.000000  1.000000\n",
       "\n",
       "[68 rows x 3 columns]"
      ]
     },
     "execution_count": 278,
     "metadata": {},
     "output_type": "execute_result"
    }
   ],
   "source": [
    "from sklearn.metrics import roc_curve\n",
    "\n",
    "pred_proba_class_rf100 = rf100_clf.predict_proba(X_test)[:, 1]\n",
    "print(pred_proba_class_rf100)\n",
    "\n",
    "fprs, tprs, thresholds = roc_curve(y_test, pred_proba_class_rf100)\n",
    "\n",
    "rf100_thr_index = np.arange(1, thresholds.shape[0])\n",
    "\n",
    "pd.DataFrame({'index' : rf100_thr_index,\n",
    "              'FPR' : fprs[rf100_thr_index],\n",
    "              'TPR' : tprs[rf100_thr_index]})"
   ]
  },
  {
   "cell_type": "code",
   "execution_count": 279,
   "id": "8f10b653",
   "metadata": {},
   "outputs": [
    {
     "data": {
      "image/png": "[encoded data removed]",
      "text/plain": [
       "<Figure size 432x288 with 1 Axes>"
      ]
     },
     "metadata": {
      "needs_background": "light"
     },
     "output_type": "display_data"
    }
   ],
   "source": [
    "import matplotlib.pyplot as plt\n",
    "\n",
    "def roc_curve_plot(y_test, pred_proba_class_rf100):\n",
    "    # 임곗값에 따른 FPR, TPR 값\n",
    "    fprs, tprs, thresholds = roc_curve(y_test, pred_proba_class_rf100)\n",
    "    # ROC 곡선을 시각화\n",
    "    plt.plot(fprs, tprs, label = 'ROC')\n",
    "    # 가운데 대각선 직선\n",
    "    plt.plot([0,1],[0,1], 'k--', label = 'Random')\n",
    "    \n",
    "    # FPR X 축의 scla 0.1 단위 지정\n",
    "    start, end = plt.xlim()\n",
    "    plt.xticks(np.round(np.arange(start, end, 0.1), 2))\n",
    "    plt.xlim(0, 1)\n",
    "    plt.ylim(0, 1)\n",
    "    plt.xlabel('FPR( 1 - Snesitivity )')\n",
    "    plt.ylabel('TPR( Recall )')\n",
    "    plt.legend()\n",
    "    \n",
    "roc_curve_plot(y_test, pred_proba_class_rf100)"
   ]
  },
  {
   "cell_type": "code",
   "execution_count": 280,
   "id": "e315abe2",
   "metadata": {},
   "outputs": [
    {
     "name": "stdout",
     "output_type": "stream",
     "text": [
      "ROC AUC Score : 0.8298368298368298\n"
     ]
    }
   ],
   "source": [
    "from sklearn.metrics import roc_auc_score\n",
    "\n",
    "pred_proba_rf100 = rf100_clf.predict_proba(X_test)[:, 1]\n",
    "rf100_roc_score = roc_auc_score(y_test, pred_proba_rf100)\n",
    "print('ROC AUC Score :', rf100_roc_score)"
   ]
  },
  {
   "cell_type": "code",
   "execution_count": 281,
   "id": "504c9fc3",
   "metadata": {},
   "outputs": [
    {
     "name": "stdout",
     "output_type": "stream",
     "text": [
      "오차행렬\n",
      "[[121  22]\n",
      " [ 26  40]]\n",
      "정확도 : 0.7703, 정밀도 : 0.6452, 재현율 : 0.6061, F1 : 0.6250, AUC : 0.7261\n"
     ]
    }
   ],
   "source": [
    "from sklearn.metrics import accuracy_score, precision_score, recall_score, roc_auc_score\n",
    "from sklearn.metrics import f1_score, confusion_matrix, precision_recall_curve, roc_curve\n",
    "\n",
    "def get_clf_eval(y_test, rf100_pred = None, pred_proba_rf100 = None):\n",
    "    confusion = confusion_matrix(y_test, rf100_pred)\n",
    "    accuracy = accuracy_score(y_test, rf100_pred)\n",
    "    precision = precision_score(y_test, rf100_pred)\n",
    "    recall = recall_score(y_test, rf100_pred)\n",
    "    f1 = f1_score(y_test, rf100_pred)\n",
    "    roc_auc = roc_auc_score(y_test, rf100_pred)\n",
    "    \n",
    "    print('오차행렬')\n",
    "    print(confusion)\n",
    "    print('정확도 : {0:.4f}, 정밀도 : {1:.4f}, 재현율 : {2:.4f}, F1 : {3:.4f}, AUC : {4:.4f}'\n",
    "          .format(accuracy, precision, recall, f1, roc_auc))\n",
    "    \n",
    "# get_eval_by_threshold()\n",
    "def get_eval_by_threshold(y_test, pred_proba_class_rf100, thresholds):\n",
    "    # thresholds list 객체 내의 값을 차례로 iteration하면서 evaluation 수행\n",
    "    for custom_threshold in thresholds:\n",
    "        binarizer = Binarizer(threshold = custom_threshold).fit(pred_proba_class_rf100)\n",
    "        custom_predict = binarizer.transform(pred_proba_class_rf100)\n",
    "        print(f'임곗값 : {custom_threshold}')\n",
    "        get_clf_eval(y_test, custom_predict)\n",
    "\n",
    "# precision_recall_curve_plot()\n",
    "def precision_recall_curve_plot(y_test, pred_proba_class_rf100):\n",
    "    # threshold ndarray와 이 threshold에 따른 정밀도, 재현율 ndarray 추출\n",
    "    precisions, recalls, thresholds = precision_recall_curve(y_test, pred_proba_class_rf100)\n",
    "    \n",
    "    # X축을 threshold값으로, Y축은 정밀도, 재현율 값으로 각각 Plot 수행, 정밀도는 점선으로 표시\n",
    "    plt.figure(figsize = (8, 6))\n",
    "    threshold_boundary = thresholds.shape[0]\n",
    "    plt.plot(thresholds, precisions[0 : threshold_boundary], linestyle = '--', label = 'precision')\n",
    "    plt.plot(thresholds, recalls[0 : threshold_boundary], label = 'recall')\n",
    "    \n",
    "    # threshold 값 X축의 scale을 0.1 단위로 변경\n",
    "    start, end = plt.xlim()\n",
    "    plt.xticks(np.round(np.arange(start, end, 0.1), 2))\n",
    "    \n",
    "    # X, Y축 label과 legend, grid 설정\n",
    "    plt.xlabel('Threshold value')\n",
    "    plt.ylabel('Precision and Recall value')\n",
    "    plt.legend()\n",
    "    plt.grid()\n",
    "\n",
    "get_clf_eval(y_test, lr_pred, pred_proba_rf100)"
   ]
  },
  {
   "cell_type": "code",
   "execution_count": 282,
   "id": "bbb6e433",
   "metadata": {},
   "outputs": [
    {
     "data": {
      "image/png": "[encoded data removed]",
      "text/plain": [
       "<Figure size 576x432 with 1 Axes>"
      ]
     },
     "metadata": {
      "needs_background": "light"
     },
     "output_type": "display_data"
    }
   ],
   "source": [
    "pred_proba_class_rf100 = rf100_clf.predict_proba(X_test)[:, 1]\n",
    "precision_recall_curve_plot(y_test, pred_proba_class_rf100)"
   ]
  },
  {
   "cell_type": "markdown",
   "id": "10b5d00c",
   "metadata": {},
   "source": [
    "### Random Forest (n_estimaors = 150)"
   ]
  },
  {
   "cell_type": "code",
   "execution_count": 283,
   "id": "89f8bd3c",
   "metadata": {},
   "outputs": [
    {
     "name": "stdout",
     "output_type": "stream",
     "text": [
      "train score : 1.0\n",
      "test score : 0.784688995215311\n",
      "cross validation score : [0.73381295 0.73381295 0.73381295 0.8057554  0.73913043]\n",
      "mean score : 0.749264935877385\n"
     ]
    }
   ],
   "source": [
    "# Random Forest / n_estimators = 150\n",
    "\n",
    "from sklearn.ensemble import RandomForestClassifier\n",
    "\n",
    "rf150_clf = RandomForestClassifier(n_estimators = 150, random_state = 42, max_features = 4)\n",
    "rf150_clf.fit(X_train, y_train)\n",
    "rf150_pred = rf150_clf.predict(X_test)\n",
    "print(\"train score :\", rf150_clf.score(X_train, y_train))\n",
    "print(\"test score :\", rf150_clf.score(X_test, y_test))\n",
    "\n",
    "from sklearn.model_selection import cross_val_score\n",
    "\n",
    "scores = cross_val_score(rf150_clf, X_scaled, y, cv = 5)\n",
    "print(\"cross validation score :\", scores)\n",
    "print(\"mean score :\", scores.mean())"
   ]
  },
  {
   "cell_type": "code",
   "execution_count": 284,
   "id": "ec95d60c",
   "metadata": {},
   "outputs": [
    {
     "name": "stdout",
     "output_type": "stream",
     "text": [
      "[0.25333333 0.12       0.52666667 0.47333333 0.12       0.88666667\n",
      " 0.58       0.18666667 0.5        0.58666667 0.01333333 0.95333333\n",
      " 0.20666667 0.         0.07333333 0.68666667 0.04666667 0.19333333\n",
      " 0.1        0.57333333 0.74       0.14666667 0.49333333 0.1\n",
      " 0.         0.55333333 0.54       0.14       0.74       0.44\n",
      " 0.37333333 0.36       0.24666667 0.06       0.18       0.44666667\n",
      " 0.9        0.61333333 0.66       0.00666667 0.06       0.00666667\n",
      " 0.34       0.16       0.26       0.26666667 0.38       0.48\n",
      " 0.40666667 0.42       0.50666667 0.02       0.5        0.37333333\n",
      " 0.1        0.20666667 0.07333333 0.34666667 0.48666667 0.34666667\n",
      " 0.78       0.65333333 0.48       0.02666667 0.3        0.28666667\n",
      " 0.92666667 0.44       0.89333333 0.23333333 0.08       0.64666667\n",
      " 0.56       0.06666667 0.01333333 0.06666667 0.05333333 0.46\n",
      " 0.06666667 0.36       0.07333333 0.06       0.07333333 0.13333333\n",
      " 0.54       0.7        0.55333333 0.48666667 0.24       0.07333333\n",
      " 0.10666667 0.12       0.01333333 0.10666667 0.08       0.09333333\n",
      " 0.47333333 0.15333333 0.         0.55333333 0.22       0.51333333\n",
      " 0.10666667 0.35333333 0.06666667 0.28       0.00666667 0.\n",
      " 0.62       0.04666667 0.18       0.67333333 0.60666667 0.40666667\n",
      " 0.12666667 0.46       0.83333333 0.38       0.01333333 0.42\n",
      " 0.4        0.42666667 0.89333333 0.19333333 0.65333333 0.26\n",
      " 0.11333333 0.3        0.01333333 0.52       0.26       0.64\n",
      " 0.58       0.79333333 0.06       0.4        0.64666667 0.14666667\n",
      " 0.06       0.55333333 0.22666667 0.02       0.32666667 0.15333333\n",
      " 0.02       0.06       0.92666667 0.75333333 0.87333333 0.85333333\n",
      " 0.82       0.22       0.04       0.58666667 0.08       0.11333333\n",
      " 0.74666667 0.46       0.1        0.65333333 0.86666667 0.74666667\n",
      " 0.12666667 0.05333333 0.28666667 0.90666667 0.22666667 0.34666667\n",
      " 0.76       0.00666667 0.86       0.61333333 0.04       0.19333333\n",
      " 0.09333333 0.01333333 0.18666667 0.47333333 0.2        0.08666667\n",
      " 0.01333333 0.02       0.60666667 0.74       0.46       0.28\n",
      " 0.12666667 0.34       0.16       0.10666667 0.00666667 0.12\n",
      " 0.8        0.05333333 0.38       0.01333333 0.07333333 0.01333333\n",
      " 0.01333333 0.56666667 0.35333333 0.09333333 0.94       0.08666667\n",
      " 0.70666667 0.36       0.55333333 0.34666667 0.33333333]\n"
     ]
    },
    {
     "data": {
      "text/html": [
       "<div>\n",
       "<style scoped>\n",
       "    .dataframe tbody tr th:only-of-type {\n",
       "        vertical-align: middle;\n",
       "    }\n",
       "\n",
       "    .dataframe tbody tr th {\n",
       "        vertical-align: top;\n",
       "    }\n",
       "\n",
       "    .dataframe thead th {\n",
       "        text-align: right;\n",
       "    }\n",
       "</style>\n",
       "<table border=\"1\" class=\"dataframe\">\n",
       "  <thead>\n",
       "    <tr style=\"text-align: right;\">\n",
       "      <th></th>\n",
       "      <th>index</th>\n",
       "      <th>FPR</th>\n",
       "      <th>TPR</th>\n",
       "    </tr>\n",
       "  </thead>\n",
       "  <tbody>\n",
       "    <tr>\n",
       "      <th>0</th>\n",
       "      <td>1</td>\n",
       "      <td>0.000000</td>\n",
       "      <td>0.015152</td>\n",
       "    </tr>\n",
       "    <tr>\n",
       "      <th>1</th>\n",
       "      <td>2</td>\n",
       "      <td>0.006993</td>\n",
       "      <td>0.015152</td>\n",
       "    </tr>\n",
       "    <tr>\n",
       "      <th>2</th>\n",
       "      <td>3</td>\n",
       "      <td>0.006993</td>\n",
       "      <td>0.045455</td>\n",
       "    </tr>\n",
       "    <tr>\n",
       "      <th>3</th>\n",
       "      <td>4</td>\n",
       "      <td>0.006993</td>\n",
       "      <td>0.075758</td>\n",
       "    </tr>\n",
       "    <tr>\n",
       "      <th>4</th>\n",
       "      <td>5</td>\n",
       "      <td>0.006993</td>\n",
       "      <td>0.106061</td>\n",
       "    </tr>\n",
       "    <tr>\n",
       "      <th>...</th>\n",
       "      <td>...</td>\n",
       "      <td>...</td>\n",
       "      <td>...</td>\n",
       "    </tr>\n",
       "    <tr>\n",
       "      <th>75</th>\n",
       "      <td>76</td>\n",
       "      <td>0.839161</td>\n",
       "      <td>1.000000</td>\n",
       "    </tr>\n",
       "    <tr>\n",
       "      <th>76</th>\n",
       "      <td>77</td>\n",
       "      <td>0.867133</td>\n",
       "      <td>1.000000</td>\n",
       "    </tr>\n",
       "    <tr>\n",
       "      <th>77</th>\n",
       "      <td>78</td>\n",
       "      <td>0.937063</td>\n",
       "      <td>1.000000</td>\n",
       "    </tr>\n",
       "    <tr>\n",
       "      <th>78</th>\n",
       "      <td>79</td>\n",
       "      <td>0.972028</td>\n",
       "      <td>1.000000</td>\n",
       "    </tr>\n",
       "    <tr>\n",
       "      <th>79</th>\n",
       "      <td>80</td>\n",
       "      <td>1.000000</td>\n",
       "      <td>1.000000</td>\n",
       "    </tr>\n",
       "  </tbody>\n",
       "</table>\n",
       "<p>80 rows × 3 columns</p>\n",
       "</div>"
      ],
      "text/plain": [
       "    index       FPR       TPR\n",
       "0       1  0.000000  0.015152\n",
       "1       2  0.006993  0.015152\n",
       "2       3  0.006993  0.045455\n",
       "3       4  0.006993  0.075758\n",
       "4       5  0.006993  0.106061\n",
       "..    ...       ...       ...\n",
       "75     76  0.839161  1.000000\n",
       "76     77  0.867133  1.000000\n",
       "77     78  0.937063  1.000000\n",
       "78     79  0.972028  1.000000\n",
       "79     80  1.000000  1.000000\n",
       "\n",
       "[80 rows x 3 columns]"
      ]
     },
     "execution_count": 284,
     "metadata": {},
     "output_type": "execute_result"
    }
   ],
   "source": [
    "from sklearn.metrics import roc_curve\n",
    "\n",
    "pred_proba_class_rf150 = rf150_clf.predict_proba(X_test)[:, 1]\n",
    "print(pred_proba_class_rf150)\n",
    "\n",
    "fprs, tprs, thresholds = roc_curve(y_test, pred_proba_class_rf150)\n",
    "\n",
    "rf150_thr_index = np.arange(1, thresholds.shape[0])\n",
    "\n",
    "pd.DataFrame({'index' : rf150_thr_index,\n",
    "              'FPR' : fprs[rf150_thr_index],\n",
    "              'TPR' : tprs[rf150_thr_index]})"
   ]
  },
  {
   "cell_type": "code",
   "execution_count": 285,
   "id": "94ea33bd",
   "metadata": {},
   "outputs": [
    {
     "data": {
      "image/png": "[encoded data removed]",
      "text/plain": [
       "<Figure size 432x288 with 1 Axes>"
      ]
     },
     "metadata": {
      "needs_background": "light"
     },
     "output_type": "display_data"
    }
   ],
   "source": [
    "import matplotlib.pyplot as plt\n",
    "\n",
    "def roc_curve_plot(y_test, pred_proba_class_rf150):\n",
    "    # 임곗값에 따른 FPR, TPR 값\n",
    "    fprs, tprs, thresholds = roc_curve(y_test, pred_proba_class_rf150)\n",
    "    # ROC 곡선을 시각화\n",
    "    plt.plot(fprs, tprs, label = 'ROC')\n",
    "    # 가운데 대각선 직선\n",
    "    plt.plot([0,1],[0,1], 'k--', label = 'Random')\n",
    "    \n",
    "    # FPR X 축의 scla 0.1 단위 지정\n",
    "    start, end = plt.xlim()\n",
    "    plt.xticks(np.round(np.arange(start, end, 0.1), 2))\n",
    "    plt.xlim(0, 1)\n",
    "    plt.ylim(0, 1)\n",
    "    plt.xlabel('FPR( 1 - Snesitivity )')\n",
    "    plt.ylabel('TPR( Recall )')\n",
    "    plt.legend()\n",
    "    \n",
    "roc_curve_plot(y_test, pred_proba_class_rf150)"
   ]
  },
  {
   "cell_type": "code",
   "execution_count": 286,
   "id": "7a6766b0",
   "metadata": {},
   "outputs": [
    {
     "name": "stdout",
     "output_type": "stream",
     "text": [
      "ROC AUC Score : 0.8281945327399873\n"
     ]
    }
   ],
   "source": [
    "from sklearn.metrics import roc_auc_score\n",
    "\n",
    "pred_proba_rf150 = rf150_clf.predict_proba(X_test)[:, 1]\n",
    "rf150_roc_score = roc_auc_score(y_test, pred_proba_rf150)\n",
    "print('ROC AUC Score :', rf150_roc_score)"
   ]
  },
  {
   "cell_type": "code",
   "execution_count": 287,
   "id": "afb7b8b1",
   "metadata": {},
   "outputs": [
    {
     "name": "stdout",
     "output_type": "stream",
     "text": [
      "오차행렬\n",
      "[[121  22]\n",
      " [ 26  40]]\n",
      "정확도 : 0.7703, 정밀도 : 0.6452, 재현율 : 0.6061, F1 : 0.6250, AUC : 0.7261\n"
     ]
    }
   ],
   "source": [
    "from sklearn.metrics import accuracy_score, precision_score, recall_score, roc_auc_score\n",
    "from sklearn.metrics import f1_score, confusion_matrix, precision_recall_curve, roc_curve\n",
    "\n",
    "def get_clf_eval(y_test, rf150_pred = None, pred_proba_rf150 = None):\n",
    "    confusion = confusion_matrix(y_test, rf150_pred)\n",
    "    accuracy = accuracy_score(y_test, rf150_pred)\n",
    "    precision = precision_score(y_test, rf150_pred)\n",
    "    recall = recall_score(y_test, rf150_pred)\n",
    "    f1 = f1_score(y_test, rf150_pred)\n",
    "    roc_auc = roc_auc_score(y_test, rf150_pred)\n",
    "    \n",
    "    print('오차행렬')\n",
    "    print(confusion)\n",
    "    print('정확도 : {0:.4f}, 정밀도 : {1:.4f}, 재현율 : {2:.4f}, F1 : {3:.4f}, AUC : {4:.4f}'\n",
    "          .format(accuracy, precision, recall, f1, roc_auc))\n",
    "    \n",
    "# get_eval_by_threshold()\n",
    "def get_eval_by_threshold(y_test, pred_proba_class_rf150, thresholds):\n",
    "    # thresholds list 객체 내의 값을 차례로 iteration하면서 evaluation 수행\n",
    "    for custom_threshold in thresholds:\n",
    "        binarizer = Binarizer(threshold = custom_threshold).fit(pred_proba_class_rf150)\n",
    "        custom_predict = binarizer.transform(pred_proba_class_rf150)\n",
    "        print(f'임곗값 : {custom_threshold}')\n",
    "        get_clf_eval(y_test, custom_predict)\n",
    "\n",
    "# precision_recall_curve_plot()\n",
    "def precision_recall_curve_plot(y_test, pred_proba_class_rf150):\n",
    "    # threshold ndarray와 이 threshold에 따른 정밀도, 재현율 ndarray 추출\n",
    "    precisions, recalls, thresholds = precision_recall_curve(y_test, pred_proba_class_rf150)\n",
    "    \n",
    "    # X축을 threshold값으로, Y축은 정밀도, 재현율 값으로 각각 Plot 수행, 정밀도는 점선으로 표시\n",
    "    plt.figure(figsize = (8, 6))\n",
    "    threshold_boundary = thresholds.shape[0]\n",
    "    plt.plot(thresholds, precisions[0 : threshold_boundary], linestyle = '--', label = 'precision')\n",
    "    plt.plot(thresholds, recalls[0 : threshold_boundary], label = 'recall')\n",
    "    \n",
    "    # threshold 값 X축의 scale을 0.1 단위로 변경\n",
    "    start, end = plt.xlim()\n",
    "    plt.xticks(np.round(np.arange(start, end, 0.1), 2))\n",
    "    \n",
    "    # X, Y축 label과 legend, grid 설정\n",
    "    plt.xlabel('Threshold value')\n",
    "    plt.ylabel('Precision and Recall value')\n",
    "    plt.legend()\n",
    "    plt.grid()\n",
    "\n",
    "get_clf_eval(y_test, lr_pred, pred_proba_rf150)"
   ]
  },
  {
   "cell_type": "code",
   "execution_count": 288,
   "id": "e56a0f04",
   "metadata": {},
   "outputs": [
    {
     "data": {
      "image/png": "[encoded data removed]",
      "text/plain": [
       "<Figure size 576x432 with 1 Axes>"
      ]
     },
     "metadata": {
      "needs_background": "light"
     },
     "output_type": "display_data"
    }
   ],
   "source": [
    "pred_proba_class_rf150 = rf150_clf.predict_proba(X_test)[:, 1]\n",
    "precision_recall_curve_plot(y_test, pred_proba_class_rf150)"
   ]
  },
  {
   "cell_type": "markdown",
   "id": "ee31f88d",
   "metadata": {},
   "source": [
    "### Random Forest (n_estimators = 180)"
   ]
  },
  {
   "cell_type": "code",
   "execution_count": 289,
   "id": "ee71fd7b",
   "metadata": {},
   "outputs": [
    {
     "name": "stdout",
     "output_type": "stream",
     "text": [
      "train score : 1.0\n",
      "test score : 0.7894736842105263\n",
      "cross validation score : [0.73381295 0.72661871 0.74100719 0.81294964 0.74637681]\n",
      "mean score : 0.7521530601605673\n"
     ]
    }
   ],
   "source": [
    "# Random Forest / n_estimators = 180\n",
    "\n",
    "from sklearn.ensemble import RandomForestClassifier\n",
    "\n",
    "rf180_clf = RandomForestClassifier(n_estimators = 180, random_state = 42, max_features = 4)\n",
    "rf180_clf.fit(X_train, y_train)\n",
    "rf180_pred = rf180_clf.predict(X_test)\n",
    "print(\"train score :\", rf180_clf.score(X_train, y_train))\n",
    "print(\"test score :\", rf180_clf.score(X_test, y_test))\n",
    "\n",
    "from sklearn.model_selection import cross_val_score\n",
    "\n",
    "scores = cross_val_score(rf180_clf, X_scaled, y, cv = 5)\n",
    "print(\"cross validation score :\", scores)\n",
    "print(\"mean score :\", scores.mean())"
   ]
  },
  {
   "cell_type": "code",
   "execution_count": 290,
   "id": "e47e2f19",
   "metadata": {},
   "outputs": [
    {
     "name": "stdout",
     "output_type": "stream",
     "text": [
      "[0.25       0.13333333 0.53888889 0.47777778 0.11666667 0.88333333\n",
      " 0.59444444 0.19444444 0.48333333 0.59444444 0.01111111 0.94444444\n",
      " 0.2        0.         0.07777778 0.69444444 0.05555556 0.18888889\n",
      " 0.09444444 0.56666667 0.73888889 0.13333333 0.49444444 0.09444444\n",
      " 0.         0.56666667 0.52222222 0.12777778 0.71111111 0.44444444\n",
      " 0.39444444 0.34444444 0.25555556 0.06111111 0.18888889 0.46111111\n",
      " 0.88888889 0.60555556 0.67777778 0.00555556 0.06111111 0.01111111\n",
      " 0.34444444 0.16111111 0.25       0.25555556 0.36666667 0.47222222\n",
      " 0.43888889 0.43888889 0.51666667 0.01666667 0.49444444 0.37777778\n",
      " 0.09444444 0.22777778 0.06111111 0.36666667 0.50555556 0.36666667\n",
      " 0.77222222 0.65       0.47222222 0.02222222 0.31111111 0.29444444\n",
      " 0.93333333 0.43888889 0.89444444 0.23888889 0.07222222 0.62777778\n",
      " 0.53888889 0.06111111 0.01111111 0.08888889 0.06666667 0.44444444\n",
      " 0.06666667 0.38333333 0.07222222 0.05555556 0.06666667 0.14444444\n",
      " 0.52777778 0.67777778 0.56111111 0.49444444 0.23333333 0.08333333\n",
      " 0.11666667 0.11666667 0.01111111 0.10555556 0.09444444 0.08888889\n",
      " 0.46666667 0.16666667 0.         0.54444444 0.23333333 0.52222222\n",
      " 0.1        0.36666667 0.06111111 0.27777778 0.00555556 0.\n",
      " 0.63888889 0.04444444 0.16666667 0.67777778 0.60555556 0.38333333\n",
      " 0.12222222 0.47222222 0.82222222 0.41111111 0.01111111 0.40555556\n",
      " 0.4        0.43333333 0.90555556 0.17777778 0.64444444 0.24444444\n",
      " 0.16111111 0.28888889 0.01111111 0.53333333 0.23888889 0.61666667\n",
      " 0.58888889 0.78333333 0.06111111 0.36666667 0.66111111 0.16666667\n",
      " 0.06666667 0.55555556 0.21111111 0.02222222 0.31111111 0.16111111\n",
      " 0.01666667 0.06666667 0.92777778 0.73888889 0.85555556 0.86111111\n",
      " 0.82222222 0.21666667 0.04444444 0.57777778 0.08333333 0.13333333\n",
      " 0.72777778 0.45       0.08888889 0.64444444 0.86111111 0.72777778\n",
      " 0.11111111 0.06111111 0.28333333 0.90555556 0.22222222 0.36111111\n",
      " 0.75555556 0.00555556 0.86111111 0.57777778 0.05       0.16666667\n",
      " 0.08333333 0.01111111 0.18333333 0.48888889 0.2        0.09444444\n",
      " 0.01111111 0.02777778 0.61111111 0.73333333 0.47222222 0.28333333\n",
      " 0.14444444 0.35       0.17222222 0.1        0.00555556 0.12222222\n",
      " 0.78888889 0.04444444 0.38333333 0.01666667 0.06111111 0.02777778\n",
      " 0.01666667 0.56666667 0.36111111 0.09444444 0.93888889 0.08333333\n",
      " 0.70555556 0.36111111 0.53888889 0.32777778 0.33333333]\n"
     ]
    },
    {
     "data": {
      "text/html": [
       "<div>\n",
       "<style scoped>\n",
       "    .dataframe tbody tr th:only-of-type {\n",
       "        vertical-align: middle;\n",
       "    }\n",
       "\n",
       "    .dataframe tbody tr th {\n",
       "        vertical-align: top;\n",
       "    }\n",
       "\n",
       "    .dataframe thead th {\n",
       "        text-align: right;\n",
       "    }\n",
       "</style>\n",
       "<table border=\"1\" class=\"dataframe\">\n",
       "  <thead>\n",
       "    <tr style=\"text-align: right;\">\n",
       "      <th></th>\n",
       "      <th>index</th>\n",
       "      <th>FPR</th>\n",
       "      <th>TPR</th>\n",
       "    </tr>\n",
       "  </thead>\n",
       "  <tbody>\n",
       "    <tr>\n",
       "      <th>0</th>\n",
       "      <td>1</td>\n",
       "      <td>0.000000</td>\n",
       "      <td>0.015152</td>\n",
       "    </tr>\n",
       "    <tr>\n",
       "      <th>1</th>\n",
       "      <td>2</td>\n",
       "      <td>0.006993</td>\n",
       "      <td>0.015152</td>\n",
       "    </tr>\n",
       "    <tr>\n",
       "      <th>2</th>\n",
       "      <td>3</td>\n",
       "      <td>0.006993</td>\n",
       "      <td>0.045455</td>\n",
       "    </tr>\n",
       "    <tr>\n",
       "      <th>3</th>\n",
       "      <td>4</td>\n",
       "      <td>0.006993</td>\n",
       "      <td>0.075758</td>\n",
       "    </tr>\n",
       "    <tr>\n",
       "      <th>4</th>\n",
       "      <td>5</td>\n",
       "      <td>0.006993</td>\n",
       "      <td>0.121212</td>\n",
       "    </tr>\n",
       "    <tr>\n",
       "      <th>...</th>\n",
       "      <td>...</td>\n",
       "      <td>...</td>\n",
       "      <td>...</td>\n",
       "    </tr>\n",
       "    <tr>\n",
       "      <th>79</th>\n",
       "      <td>80</td>\n",
       "      <td>0.832168</td>\n",
       "      <td>1.000000</td>\n",
       "    </tr>\n",
       "    <tr>\n",
       "      <th>80</th>\n",
       "      <td>81</td>\n",
       "      <td>0.860140</td>\n",
       "      <td>1.000000</td>\n",
       "    </tr>\n",
       "    <tr>\n",
       "      <th>81</th>\n",
       "      <td>82</td>\n",
       "      <td>0.888112</td>\n",
       "      <td>1.000000</td>\n",
       "    </tr>\n",
       "    <tr>\n",
       "      <th>82</th>\n",
       "      <td>83</td>\n",
       "      <td>0.944056</td>\n",
       "      <td>1.000000</td>\n",
       "    </tr>\n",
       "    <tr>\n",
       "      <th>83</th>\n",
       "      <td>84</td>\n",
       "      <td>1.000000</td>\n",
       "      <td>1.000000</td>\n",
       "    </tr>\n",
       "  </tbody>\n",
       "</table>\n",
       "<p>84 rows × 3 columns</p>\n",
       "</div>"
      ],
      "text/plain": [
       "    index       FPR       TPR\n",
       "0       1  0.000000  0.015152\n",
       "1       2  0.006993  0.015152\n",
       "2       3  0.006993  0.045455\n",
       "3       4  0.006993  0.075758\n",
       "4       5  0.006993  0.121212\n",
       "..    ...       ...       ...\n",
       "79     80  0.832168  1.000000\n",
       "80     81  0.860140  1.000000\n",
       "81     82  0.888112  1.000000\n",
       "82     83  0.944056  1.000000\n",
       "83     84  1.000000  1.000000\n",
       "\n",
       "[84 rows x 3 columns]"
      ]
     },
     "execution_count": 290,
     "metadata": {},
     "output_type": "execute_result"
    }
   ],
   "source": [
    "from sklearn.metrics import roc_curve\n",
    "\n",
    "pred_proba_class_rf180 = rf180_clf.predict_proba(X_test)[:, 1]\n",
    "print(pred_proba_class_rf180)\n",
    "\n",
    "fprs, tprs, thresholds = roc_curve(y_test, pred_proba_class_rf180)\n",
    "\n",
    "rf180_thr_index = np.arange(1, thresholds.shape[0])\n",
    "\n",
    "pd.DataFrame({'index' : rf180_thr_index,\n",
    "              'FPR' : fprs[rf180_thr_index],\n",
    "              'TPR' : tprs[rf180_thr_index]})"
   ]
  },
  {
   "cell_type": "code",
   "execution_count": 291,
   "id": "9e3450ba",
   "metadata": {},
   "outputs": [
    {
     "data": {
      "image/png": "[encoded data removed]",
      "text/plain": [
       "<Figure size 432x288 with 1 Axes>"
      ]
     },
     "metadata": {
      "needs_background": "light"
     },
     "output_type": "display_data"
    }
   ],
   "source": [
    "import matplotlib.pyplot as plt\n",
    "\n",
    "def roc_curve_plot(y_test, pred_proba_class_rf180):\n",
    "    # 임곗값에 따른 FPR, TPR 값\n",
    "    fprs, tprs, thresholds = roc_curve(y_test, pred_proba_class_rf180)\n",
    "    # ROC 곡선을 시각화\n",
    "    plt.plot(fprs, tprs, label = 'ROC')\n",
    "    # 가운데 대각선 직선\n",
    "    plt.plot([0,1],[0,1], 'k--', label = 'Random')\n",
    "    \n",
    "    # FPR X 축의 scla 0.1 단위 지정\n",
    "    start, end = plt.xlim()\n",
    "    plt.xticks(np.round(np.arange(start, end, 0.1), 2))\n",
    "    plt.xlim(0, 1)\n",
    "    plt.ylim(0, 1)\n",
    "    plt.xlabel('FPR( 1 - Snesitivity )')\n",
    "    plt.ylabel('TPR( Recall )')\n",
    "    plt.legend()\n",
    "    \n",
    "roc_curve_plot(y_test, pred_proba_class_rf180)"
   ]
  },
  {
   "cell_type": "code",
   "execution_count": 292,
   "id": "6ccdb732",
   "metadata": {},
   "outputs": [
    {
     "name": "stdout",
     "output_type": "stream",
     "text": [
      "ROC AUC Score : 0.8276117821572366\n"
     ]
    }
   ],
   "source": [
    "from sklearn.metrics import roc_auc_score\n",
    "\n",
    "pred_proba_rf180 = rf180_clf.predict_proba(X_test)[:, 1]\n",
    "rf180_roc_score = roc_auc_score(y_test, pred_proba_rf180)\n",
    "print('ROC AUC Score :', rf180_roc_score)"
   ]
  },
  {
   "cell_type": "code",
   "execution_count": 293,
   "id": "8bb0026e",
   "metadata": {},
   "outputs": [
    {
     "name": "stdout",
     "output_type": "stream",
     "text": [
      "오차행렬\n",
      "[[121  22]\n",
      " [ 26  40]]\n",
      "정확도 : 0.7703, 정밀도 : 0.6452, 재현율 : 0.6061, F1 : 0.6250, AUC : 0.7261\n"
     ]
    }
   ],
   "source": [
    "from sklearn.metrics import accuracy_score, precision_score, recall_score, roc_auc_score\n",
    "from sklearn.metrics import f1_score, confusion_matrix, precision_recall_curve, roc_curve\n",
    "\n",
    "def get_clf_eval(y_test, rf180_pred = None, pred_proba_rf180 = None):\n",
    "    confusion = confusion_matrix(y_test, rf180_pred)\n",
    "    accuracy = accuracy_score(y_test, rf180_pred)\n",
    "    precision = precision_score(y_test, rf180_pred)\n",
    "    recall = recall_score(y_test, rf180_pred)\n",
    "    f1 = f1_score(y_test, rf180_pred)\n",
    "    roc_auc = roc_auc_score(y_test, rf180_pred)\n",
    "    \n",
    "    print('오차행렬')\n",
    "    print(confusion)\n",
    "    print('정확도 : {0:.4f}, 정밀도 : {1:.4f}, 재현율 : {2:.4f}, F1 : {3:.4f}, AUC : {4:.4f}'\n",
    "          .format(accuracy, precision, recall, f1, roc_auc))\n",
    "    \n",
    "# get_eval_by_threshold()\n",
    "def get_eval_by_threshold(y_test, pred_proba_class_rf180, thresholds):\n",
    "    # thresholds list 객체 내의 값을 차례로 iteration하면서 evaluation 수행\n",
    "    for custom_threshold in thresholds:\n",
    "        binarizer = Binarizer(threshold = custom_threshold).fit(pred_proba_class_rf180)\n",
    "        custom_predict = binarizer.transform(pred_proba_class_rf180)\n",
    "        print(f'임곗값 : {custom_threshold}')\n",
    "        get_clf_eval(y_test, custom_predict)\n",
    "\n",
    "# precision_recall_curve_plot()\n",
    "def precision_recall_curve_plot(y_test, pred_proba_class_rf180):\n",
    "    # threshold ndarray와 이 threshold에 따른 정밀도, 재현율 ndarray 추출\n",
    "    precisions, recalls, thresholds = precision_recall_curve(y_test, pred_proba_class_rf180)\n",
    "    \n",
    "    # X축을 threshold값으로, Y축은 정밀도, 재현율 값으로 각각 Plot 수행, 정밀도는 점선으로 표시\n",
    "    plt.figure(figsize = (8, 6))\n",
    "    threshold_boundary = thresholds.shape[0]\n",
    "    plt.plot(thresholds, precisions[0 : threshold_boundary], linestyle = '--', label = 'precision')\n",
    "    plt.plot(thresholds, recalls[0 : threshold_boundary], label = 'recall')\n",
    "    \n",
    "    # threshold 값 X축의 scale을 0.1 단위로 변경\n",
    "    start, end = plt.xlim()\n",
    "    plt.xticks(np.round(np.arange(start, end, 0.1), 2))\n",
    "    \n",
    "    # X, Y축 label과 legend, grid 설정\n",
    "    plt.xlabel('Threshold value')\n",
    "    plt.ylabel('Precision and Recall value')\n",
    "    plt.legend()\n",
    "    plt.grid()\n",
    "\n",
    "get_clf_eval(y_test, lr_pred, pred_proba_rf180)"
   ]
  },
  {
   "cell_type": "code",
   "execution_count": 294,
   "id": "c87ed022",
   "metadata": {},
   "outputs": [
    {
     "data": {
      "image/png": "[encoded data removed]",
      "text/plain": [
       "<Figure size 576x432 with 1 Axes>"
      ]
     },
     "metadata": {
      "needs_background": "light"
     },
     "output_type": "display_data"
    }
   ],
   "source": [
    "pred_proba_class_rf180 = rf180_clf.predict_proba(X_test)[:, 1]\n",
    "precision_recall_curve_plot(y_test, pred_proba_class_rf180)"
   ]
  },
  {
   "cell_type": "markdown",
   "id": "2493b910",
   "metadata": {},
   "source": [
    "### Random Forest (n_estimaors = 200)"
   ]
  },
  {
   "cell_type": "code",
   "execution_count": 295,
   "id": "df869000",
   "metadata": {},
   "outputs": [
    {
     "name": "stdout",
     "output_type": "stream",
     "text": [
      "train score : 1.0\n",
      "test score : 0.784688995215311\n",
      "cross validation score : [0.72661871 0.71942446 0.74100719 0.8057554  0.73913043]\n",
      "mean score : 0.7463872380356584\n"
     ]
    }
   ],
   "source": [
    "# Random Forest / n_estimators = 200\n",
    "\n",
    "from sklearn.ensemble import RandomForestClassifier\n",
    "\n",
    "rf200_clf = RandomForestClassifier(n_estimators = 200, random_state = 42, max_features = 4)\n",
    "rf200_clf.fit(X_train, y_train)\n",
    "rf200_pred = rf200_clf.predict(X_test)\n",
    "print(\"train score :\", rf200_clf.score(X_train, y_train))\n",
    "print(\"test score :\", rf200_clf.score(X_test, y_test))\n",
    "\n",
    "from sklearn.model_selection import cross_val_score\n",
    "\n",
    "scores = cross_val_score(rf200_clf, X_scaled, y, cv = 5)\n",
    "print(\"cross validation score :\", scores)\n",
    "print(\"mean score :\", scores.mean())"
   ]
  },
  {
   "cell_type": "code",
   "execution_count": 296,
   "id": "409f6e59",
   "metadata": {},
   "outputs": [
    {
     "name": "stdout",
     "output_type": "stream",
     "text": [
      "[0.26  0.13  0.555 0.485 0.135 0.89  0.6   0.185 0.48  0.605 0.01  0.945\n",
      " 0.21  0.    0.075 0.705 0.05  0.175 0.11  0.56  0.74  0.125 0.495 0.095\n",
      " 0.    0.57  0.535 0.125 0.7   0.445 0.41  0.36  0.26  0.065 0.2   0.46\n",
      " 0.885 0.59  0.675 0.005 0.06  0.01  0.365 0.18  0.23  0.25  0.375 0.47\n",
      " 0.435 0.445 0.51  0.015 0.49  0.375 0.1   0.225 0.055 0.375 0.51  0.38\n",
      " 0.77  0.64  0.475 0.02  0.31  0.295 0.935 0.43  0.89  0.25  0.065 0.62\n",
      " 0.555 0.065 0.01  0.095 0.08  0.46  0.065 0.385 0.075 0.05  0.075 0.145\n",
      " 0.515 0.68  0.545 0.505 0.225 0.075 0.145 0.115 0.01  0.105 0.095 0.08\n",
      " 0.48  0.18  0.    0.555 0.22  0.52  0.09  0.38  0.055 0.3   0.005 0.\n",
      " 0.65  0.04  0.18  0.685 0.625 0.4   0.14  0.46  0.81  0.42  0.01  0.4\n",
      " 0.405 0.445 0.89  0.175 0.64  0.265 0.16  0.3   0.01  0.54  0.215 0.6\n",
      " 0.585 0.775 0.06  0.375 0.65  0.17  0.065 0.55  0.21  0.035 0.325 0.155\n",
      " 0.015 0.065 0.925 0.745 0.87  0.87  0.825 0.205 0.04  0.56  0.085 0.13\n",
      " 0.735 0.44  0.1   0.64  0.86  0.72  0.11  0.055 0.27  0.905 0.215 0.36\n",
      " 0.755 0.01  0.865 0.57  0.045 0.175 0.085 0.015 0.19  0.495 0.2   0.095\n",
      " 0.01  0.03  0.61  0.71  0.47  0.29  0.15  0.335 0.185 0.095 0.005 0.13\n",
      " 0.765 0.06  0.39  0.02  0.055 0.025 0.015 0.565 0.38  0.1   0.945 0.085\n",
      " 0.71  0.37  0.55  0.325 0.335]\n"
     ]
    },
    {
     "data": {
      "text/html": [
       "<div>\n",
       "<style scoped>\n",
       "    .dataframe tbody tr th:only-of-type {\n",
       "        vertical-align: middle;\n",
       "    }\n",
       "\n",
       "    .dataframe tbody tr th {\n",
       "        vertical-align: top;\n",
       "    }\n",
       "\n",
       "    .dataframe thead th {\n",
       "        text-align: right;\n",
       "    }\n",
       "</style>\n",
       "<table border=\"1\" class=\"dataframe\">\n",
       "  <thead>\n",
       "    <tr style=\"text-align: right;\">\n",
       "      <th></th>\n",
       "      <th>index</th>\n",
       "      <th>FPR</th>\n",
       "      <th>TPR</th>\n",
       "    </tr>\n",
       "  </thead>\n",
       "  <tbody>\n",
       "    <tr>\n",
       "      <th>0</th>\n",
       "      <td>1</td>\n",
       "      <td>0.006993</td>\n",
       "      <td>0.015152</td>\n",
       "    </tr>\n",
       "    <tr>\n",
       "      <th>1</th>\n",
       "      <td>2</td>\n",
       "      <td>0.006993</td>\n",
       "      <td>0.060606</td>\n",
       "    </tr>\n",
       "    <tr>\n",
       "      <th>2</th>\n",
       "      <td>3</td>\n",
       "      <td>0.006993</td>\n",
       "      <td>0.106061</td>\n",
       "    </tr>\n",
       "    <tr>\n",
       "      <th>3</th>\n",
       "      <td>4</td>\n",
       "      <td>0.006993</td>\n",
       "      <td>0.121212</td>\n",
       "    </tr>\n",
       "    <tr>\n",
       "      <th>4</th>\n",
       "      <td>5</td>\n",
       "      <td>0.013986</td>\n",
       "      <td>0.136364</td>\n",
       "    </tr>\n",
       "    <tr>\n",
       "      <th>...</th>\n",
       "      <td>...</td>\n",
       "      <td>...</td>\n",
       "      <td>...</td>\n",
       "    </tr>\n",
       "    <tr>\n",
       "      <th>86</th>\n",
       "      <td>87</td>\n",
       "      <td>0.867133</td>\n",
       "      <td>1.000000</td>\n",
       "    </tr>\n",
       "    <tr>\n",
       "      <th>87</th>\n",
       "      <td>88</td>\n",
       "      <td>0.895105</td>\n",
       "      <td>1.000000</td>\n",
       "    </tr>\n",
       "    <tr>\n",
       "      <th>88</th>\n",
       "      <td>89</td>\n",
       "      <td>0.951049</td>\n",
       "      <td>1.000000</td>\n",
       "    </tr>\n",
       "    <tr>\n",
       "      <th>89</th>\n",
       "      <td>90</td>\n",
       "      <td>0.972028</td>\n",
       "      <td>1.000000</td>\n",
       "    </tr>\n",
       "    <tr>\n",
       "      <th>90</th>\n",
       "      <td>91</td>\n",
       "      <td>1.000000</td>\n",
       "      <td>1.000000</td>\n",
       "    </tr>\n",
       "  </tbody>\n",
       "</table>\n",
       "<p>91 rows × 3 columns</p>\n",
       "</div>"
      ],
      "text/plain": [
       "    index       FPR       TPR\n",
       "0       1  0.006993  0.015152\n",
       "1       2  0.006993  0.060606\n",
       "2       3  0.006993  0.106061\n",
       "3       4  0.006993  0.121212\n",
       "4       5  0.013986  0.136364\n",
       "..    ...       ...       ...\n",
       "86     87  0.867133  1.000000\n",
       "87     88  0.895105  1.000000\n",
       "88     89  0.951049  1.000000\n",
       "89     90  0.972028  1.000000\n",
       "90     91  1.000000  1.000000\n",
       "\n",
       "[91 rows x 3 columns]"
      ]
     },
     "execution_count": 296,
     "metadata": {},
     "output_type": "execute_result"
    }
   ],
   "source": [
    "from sklearn.metrics import roc_curve\n",
    "\n",
    "pred_proba_class_rf200 = rf200_clf.predict_proba(X_test)[:, 1]\n",
    "print(pred_proba_class_rf200)\n",
    "\n",
    "fprs, tprs, thresholds = roc_curve(y_test, pred_proba_class_rf200)\n",
    "\n",
    "rf200_thr_index = np.arange(1, thresholds.shape[0])\n",
    "\n",
    "pd.DataFrame({'index' : rf200_thr_index,\n",
    "              'FPR' : fprs[rf200_thr_index],\n",
    "              'TPR' : tprs[rf200_thr_index]})"
   ]
  },
  {
   "cell_type": "code",
   "execution_count": 297,
   "id": "61c03ec7",
   "metadata": {},
   "outputs": [
    {
     "data": {
      "image/png": "[encoded data removed]",
      "text/plain": [
       "<Figure size 432x288 with 1 Axes>"
      ]
     },
     "metadata": {
      "needs_background": "light"
     },
     "output_type": "display_data"
    }
   ],
   "source": [
    "import matplotlib.pyplot as plt\n",
    "\n",
    "def roc_curve_plot(y_test, pred_proba_class_rf200):\n",
    "    # 임곗값에 따른 FPR, TPR 값\n",
    "    fprs, tprs, thresholds = roc_curve(y_test, pred_proba_class_rf200)\n",
    "    # ROC 곡선을 시각화\n",
    "    plt.plot(fprs, tprs, label = 'ROC')\n",
    "    # 가운데 대각선 직선\n",
    "    plt.plot([0,1],[0,1], 'k--', label = 'Random')\n",
    "    \n",
    "    # FPR X 축의 scla 0.1 단위 지정\n",
    "    start, end = plt.xlim()\n",
    "    plt.xticks(np.round(np.arange(start, end, 0.1), 2))\n",
    "    plt.xlim(0, 1)\n",
    "    plt.ylim(0, 1)\n",
    "    plt.xlabel('FPR( 1 - Snesitivity )')\n",
    "    plt.ylabel('TPR( Recall )')\n",
    "    plt.legend()\n",
    "    \n",
    "roc_curve_plot(y_test, pred_proba_class_rf200)"
   ]
  },
  {
   "cell_type": "code",
   "execution_count": 298,
   "id": "cb8eab3c",
   "metadata": {},
   "outputs": [
    {
     "name": "stdout",
     "output_type": "stream",
     "text": [
      "ROC AUC Score : 0.8297838525111253\n"
     ]
    }
   ],
   "source": [
    "from sklearn.metrics import roc_auc_score\n",
    "\n",
    "pred_proba_rf200 = rf200_clf.predict_proba(X_test)[:, 1]\n",
    "rf200_roc_score = roc_auc_score(y_test, pred_proba_rf200)\n",
    "print('ROC AUC Score :', rf200_roc_score)"
   ]
  },
  {
   "cell_type": "code",
   "execution_count": 299,
   "id": "b6c7c179",
   "metadata": {},
   "outputs": [
    {
     "name": "stdout",
     "output_type": "stream",
     "text": [
      "오차행렬\n",
      "[[121  22]\n",
      " [ 26  40]]\n",
      "정확도 : 0.7703, 정밀도 : 0.6452, 재현율 : 0.6061, F1 : 0.6250, AUC : 0.7261\n"
     ]
    }
   ],
   "source": [
    "from sklearn.metrics import accuracy_score, precision_score, recall_score, roc_auc_score\n",
    "from sklearn.metrics import f1_score, confusion_matrix, precision_recall_curve, roc_curve\n",
    "\n",
    "def get_clf_eval(y_test, rf200_pred = None, pred_proba_rf200 = None):\n",
    "    confusion = confusion_matrix(y_test, rf200_pred)\n",
    "    accuracy = accuracy_score(y_test, rf200_pred)\n",
    "    precision = precision_score(y_test, rf200_pred)\n",
    "    recall = recall_score(y_test, rf200_pred)\n",
    "    f1 = f1_score(y_test, rf200_pred)\n",
    "    roc_auc = roc_auc_score(y_test, rf200_pred)\n",
    "    \n",
    "    print('오차행렬')\n",
    "    print(confusion)\n",
    "    print('정확도 : {0:.4f}, 정밀도 : {1:.4f}, 재현율 : {2:.4f}, F1 : {3:.4f}, AUC : {4:.4f}'\n",
    "          .format(accuracy, precision, recall, f1, roc_auc))\n",
    "    \n",
    "# get_eval_by_threshold()\n",
    "def get_eval_by_threshold(y_test, pred_proba_class_rf200, thresholds):\n",
    "    # thresholds list 객체 내의 값을 차례로 iteration하면서 evaluation 수행\n",
    "    for custom_threshold in thresholds:\n",
    "        binarizer = Binarizer(threshold = custom_threshold).fit(pred_proba_class_rf200)\n",
    "        custom_predict = binarizer.transform(pred_proba_class_rf200)\n",
    "        print(f'임곗값 : {custom_threshold}')\n",
    "        get_clf_eval(y_test, custom_predict)\n",
    "\n",
    "# precision_recall_curve_plot()\n",
    "def precision_recall_curve_plot(y_test, pred_proba_class_rf200):\n",
    "    # threshold ndarray와 이 threshold에 따른 정밀도, 재현율 ndarray 추출\n",
    "    precisions, recalls, thresholds = precision_recall_curve(y_test, pred_proba_class_rf200)\n",
    "    \n",
    "    # X축을 threshold값으로, Y축은 정밀도, 재현율 값으로 각각 Plot 수행, 정밀도는 점선으로 표시\n",
    "    plt.figure(figsize = (8, 6))\n",
    "    threshold_boundary = thresholds.shape[0]\n",
    "    plt.plot(thresholds, precisions[0 : threshold_boundary], linestyle = '--', label = 'precision')\n",
    "    plt.plot(thresholds, recalls[0 : threshold_boundary], label = 'recall')\n",
    "    \n",
    "    # threshold 값 X축의 scale을 0.1 단위로 변경\n",
    "    start, end = plt.xlim()\n",
    "    plt.xticks(np.round(np.arange(start, end, 0.1), 2))\n",
    "    \n",
    "    # X, Y축 label과 legend, grid 설정\n",
    "    plt.xlabel('Threshold value')\n",
    "    plt.ylabel('Precision and Recall value')\n",
    "    plt.legend()\n",
    "    plt.grid()\n",
    "\n",
    "get_clf_eval(y_test, lr_pred, pred_proba_rf200)"
   ]
  },
  {
   "cell_type": "code",
   "execution_count": 300,
   "id": "24d8857a",
   "metadata": {},
   "outputs": [
    {
     "data": {
      "image/png": "[encoded data removed]",
      "text/plain": [
       "<Figure size 576x432 with 1 Axes>"
      ]
     },
     "metadata": {
      "needs_background": "light"
     },
     "output_type": "display_data"
    }
   ],
   "source": [
    "pred_proba_class_rf200 = rf200_clf.predict_proba(X_test)[:, 1]\n",
    "precision_recall_curve_plot(y_test, pred_proba_class_rf200)"
   ]
  },
  {
   "cell_type": "code",
   "execution_count": 301,
   "id": "ebeabddb",
   "metadata": {},
   "outputs": [],
   "source": [
    "# - 소수점 3번째자리 반올림\n",
    "# Decision Tree / Gini - 73.05%\n",
    "# Decision Tree / Entropy - 73.34%\n",
    "# KNN - 75.79%\n",
    "# SVM - 75.36%\n",
    "# Logistic Regression - 76.80%\n",
    "# Random Forest(Tree - 10) - 72.48%\n",
    "# Random Forest(Tree - 50) - 74.78%\n",
    "# Random Forest(Tree - 100) - 74.49%\n",
    "# Random Forest(Tree - 150) - 74.93%\n",
    "# Random Forest(Tree - 180) - 75.22%\n",
    "# Random Forest(Tree - 200) - 74.64%"
   ]
  },
  {
   "cell_type": "code",
   "execution_count": null,
   "id": "e00652ed",
   "metadata": {},
   "outputs": [],
   "source": []
  }
 ],
 "metadata": {
  "kernelspec": {
   "display_name": "Python 3 (ipykernel)",
   "language": "python",
   "name": "python3"
  },
  "language_info": {
   "codemirror_mode": {
    "name": "ipython",
    "version": 3
   },
   "file_extension": ".py",
   "mimetype": "text/x-python",
   "name": "python",
   "nbconvert_exporter": "python",
   "pygments_lexer": "ipython3",
   "version": "3.9.7"
  }
 },
 "nbformat": 4,
 "nbformat_minor": 5
}
